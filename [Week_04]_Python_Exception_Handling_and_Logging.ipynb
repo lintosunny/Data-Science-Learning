{
  "nbformat": 4,
  "nbformat_minor": 0,
  "metadata": {
    "colab": {
      "provenance": [],
      "toc_visible": true,
      "authorship_tag": "ABX9TyNlvuVk+xndBP2TVGufJYC/",
      "include_colab_link": true
    },
    "kernelspec": {
      "name": "python3",
      "display_name": "Python 3"
    },
    "language_info": {
      "name": "python"
    }
  },
  "cells": [
    {
      "cell_type": "markdown",
      "metadata": {
        "id": "view-in-github",
        "colab_type": "text"
      },
      "source": [
        "<a href=\"https://colab.research.google.com/github/lintosunny/Data-Science-Learning/blob/main/%5BWeek_04%5D_Python_Exception_Handling_and_Logging.ipynb\" target=\"_parent\"><img src=\"https://colab.research.google.com/assets/colab-badge.svg\" alt=\"Open In Colab\"/></a>"
      ]
    },
    {
      "cell_type": "markdown",
      "source": [
        "# **Exception Handling**"
      ],
      "metadata": {
        "id": "5E9R2MCw1C2N"
      }
    },
    {
      "cell_type": "markdown",
      "source": [
        "*   It is a mechanism in programming to handle runtime errors, which are known as exceptions.\n",
        "*   It's a process where you define a block of code that will be executed if an error occurs when the program is running. This allows the program to continue running (or terminate gracefully) even if an error occurs.\n",
        "*   Without exception handling, an error occurring in a program would cause the program to immediately stop. This can be very undesirable, especially in production software, as it can lead to a poor user experience or even data loss.\n",
        "*   In Python, you use try and except blocks. The try block contains the code that might raise an exception, and the except block contains the code that will be executed if an exception is raised.\n",
        "*   The else block allows you run code without errors.\n",
        "*   The finally block executes code regardless of the try-and-except blocks.\n",
        "\n",
        "<br>\n",
        "\n",
        "Some of the most common types of exceptions are:\n",
        "\n",
        "*   **ZeroDivisionError**: Raised when the second argument of a division or modulo operation is zero.\n",
        "\n",
        "*   **TypeError**: Raised when an operation or function is applied to an object of inappropriate type.\n",
        "\n",
        "*   **ValueError**: Raised when a built-in operation or function receives an argument that has the right type but an inappropriate value.\n",
        "\n",
        "*   **IndexError**: Raised when a sequence subscript is out of range.\n",
        "\n",
        "*   **KeyError**: Raised when a dictionary key is not found.\n",
        "\n",
        "*   **FileNotFoundError**: Raised when a file or directory is requested but doesn’t exist.\n",
        "\n",
        "*   **IOError**: Raised when an I/O operation (such as a print statement, the built-in open() function or a method of a file object) fails for an I/O-related reason.\n",
        "\n",
        "*   **ImportError**: Raised when an import statement fails to find the module definition or when a from ... import fails to find a name that is to be imported.\n",
        "\n",
        "*   **MemoryError**: Raised when an operation runs out of memory.\n",
        "\n",
        "*   **OverflowError**: Raised when the result of an arithmetic operation is too large to be expressed by the normal number format.\n",
        "*   **AttributeError**: Raised when an attribute reference or assignment fails.\n",
        "\n",
        "*   **SyntaxError**: Raised when the parser encounters a syntax error.\n",
        "\n",
        "*   **IndentationError**: Raised when there is incorrect indentation.\n",
        "*   **NameError**: Raised when a local or global name is not found.\n",
        "\n",
        "<br>\n",
        "\n",
        "Role of Try and Except:\n",
        "\n",
        "*   **try block**: The code within the try block contains the statements that may potentially raise an exception. It allows you to specify the section of code that you want to monitor for exceptions.\n",
        "\n",
        "*   **except block**: If an exception occurs within the try block, the corresponding except block(s) are executed. The except block allows you to define the actions or code that should be executed when a specific exception is raised. You can have multiple except blocks to handle different types of exceptions.\n",
        "\n",
        "*   The else block allows you run code without errors.\n",
        "*   The finally block executes code regardless of the try-and-except blocks.\n",
        "*   Use the raise keyword to throw (or raise) an exception."
      ],
      "metadata": {
        "id": "IAQQ9dDH1iR8"
      }
    },
    {
      "cell_type": "code",
      "source": [
        "# try raise an exception bec x is not defined\n",
        "try:\n",
        "  print(x)\n",
        "except:\n",
        "  print(\"Some issue with x\")"
      ],
      "metadata": {
        "colab": {
          "base_uri": "https://localhost:8080/"
        },
        "id": "9_8m7rd32LJ1",
        "outputId": "8698a41e-4561-4818-a244-67ac710e8240"
      },
      "execution_count": null,
      "outputs": [
        {
          "output_type": "stream",
          "name": "stdout",
          "text": [
            "Some issue with x\n"
          ]
        }
      ]
    },
    {
      "cell_type": "code",
      "source": [
        "\"\"\"You can use the \"else\" keyword to specify a block\n",
        "   of code that will be performed if no errors are raised:\"\"\"\n",
        "try:\n",
        "  print(\"Good morning today is 17th June\")\n",
        "except:\n",
        "  print(\"Some issue\")\n",
        "else:\n",
        "  print(\"No issues\")"
      ],
      "metadata": {
        "colab": {
          "base_uri": "https://localhost:8080/"
        },
        "id": "hbt0-tzm3CRh",
        "outputId": "a75dd034-3e71-45b6-c0c6-cf9c042e5111"
      },
      "execution_count": null,
      "outputs": [
        {
          "output_type": "stream",
          "name": "stdout",
          "text": [
            "Good morning today is 17th June\n",
            "No issues\n"
          ]
        }
      ]
    },
    {
      "cell_type": "code",
      "source": [
        "\"\"\"If the \"finally\" block is supplied,\n",
        "   it will be executed whether or not the try block raises an error.\"\"\"\n",
        "\n",
        "try:\n",
        "  x = 2\n",
        "  print(x)\n",
        "except:\n",
        "  print(\"There is no X\")\n",
        "finally:\n",
        "  print(\"The 'try except' executed\")"
      ],
      "metadata": {
        "colab": {
          "base_uri": "https://localhost:8080/"
        },
        "id": "ZgKuGAuV3EOb",
        "outputId": "6cf14a1b-2fa7-49d9-d5a6-e9847d0d1903"
      },
      "execution_count": null,
      "outputs": [
        {
          "output_type": "stream",
          "name": "stdout",
          "text": [
            "2\n",
            "The 'try except' executed\n"
          ]
        }
      ]
    },
    {
      "cell_type": "code",
      "source": [
        "# Use the \"raise\" keyword to throw an exception.\n",
        "\n",
        "x = 2\n",
        "\n",
        "if x < 10:\n",
        "  raise Exception(\"There is a problem: X is below zero\")"
      ],
      "metadata": {
        "colab": {
          "base_uri": "https://localhost:8080/",
          "height": 216
        },
        "id": "pq3XZ5ln3GPw",
        "outputId": "1a49cede-00ca-4cee-8829-4db64eaf7f78"
      },
      "execution_count": null,
      "outputs": [
        {
          "output_type": "error",
          "ename": "Exception",
          "evalue": "ignored",
          "traceback": [
            "\u001b[0;31m---------------------------------------------------------------------------\u001b[0m",
            "\u001b[0;31mException\u001b[0m                                 Traceback (most recent call last)",
            "\u001b[0;32m<ipython-input-4-b914fe32332e>\u001b[0m in \u001b[0;36m<cell line: 5>\u001b[0;34m()\u001b[0m\n\u001b[1;32m      4\u001b[0m \u001b[0;34m\u001b[0m\u001b[0m\n\u001b[1;32m      5\u001b[0m \u001b[0;32mif\u001b[0m \u001b[0mx\u001b[0m \u001b[0;34m<\u001b[0m \u001b[0;36m10\u001b[0m\u001b[0;34m:\u001b[0m\u001b[0;34m\u001b[0m\u001b[0;34m\u001b[0m\u001b[0m\n\u001b[0;32m----> 6\u001b[0;31m   \u001b[0;32mraise\u001b[0m \u001b[0mException\u001b[0m\u001b[0;34m(\u001b[0m\u001b[0;34m\"There is a problem: X is below zero\"\u001b[0m\u001b[0;34m)\u001b[0m\u001b[0;34m\u001b[0m\u001b[0;34m\u001b[0m\u001b[0m\n\u001b[0m",
            "\u001b[0;31mException\u001b[0m: There is a problem: X is below zero"
          ]
        }
      ]
    },
    {
      "cell_type": "markdown",
      "source": [
        "## **Basic Exception Handling**"
      ],
      "metadata": {
        "id": "YweKX0Ae3fwe"
      }
    },
    {
      "cell_type": "code",
      "source": [
        "try:\n",
        "    # code that might raise an exception\n",
        "    result = 10 / 0\n",
        "except ZeroDivisionError as e:\n",
        "    # handle the specific exception\n",
        "    print(f\"Error: {e}\")\n",
        "except Exception as e:\n",
        "    # handle other exceptions\n",
        "    print(f\"Unexpected error: {e}\")\n",
        "else:\n",
        "    # executed if no exception is raised\n",
        "    print(\"No error occurred.\")\n",
        "finally:\n",
        "    # always executed, with or without an exception\n",
        "    print(\"Finally block.\")\n"
      ],
      "metadata": {
        "id": "C8VhAoAt3Iq3"
      },
      "execution_count": null,
      "outputs": []
    },
    {
      "cell_type": "markdown",
      "source": [
        "## **Custome Exceptions**"
      ],
      "metadata": {
        "id": "hWwfS8VX3q8a"
      }
    },
    {
      "cell_type": "code",
      "source": [
        "class CustomError(Exception):\n",
        "    def __init__(self, message):\n",
        "        super().__init__(message)\n",
        "\n",
        "try:\n",
        "    raise CustomError(\"This is a custom error.\")\n",
        "except CustomError as e:\n",
        "    print(f\"Custom Error: {e}\")\n"
      ],
      "metadata": {
        "id": "T6gh7fOn3uIS"
      },
      "execution_count": null,
      "outputs": []
    },
    {
      "cell_type": "markdown",
      "source": [
        "# **Logging**\n",
        "*   Logging is a technique for monitoring events that take place when some software is in use.\n",
        "*   For the creation, operation, and debugging of software, logging is crucial.\n",
        "*   There are very little odds that you would find the source of the issue if your programme fails and you don't have any logging records.\n",
        "*   Additionally, it will take a lot of time to identify the cause."
      ],
      "metadata": {
        "id": "Awnb5Q8a3_uW"
      }
    },
    {
      "cell_type": "code",
      "source": [
        "# first import the logging library\n",
        "import logging\n",
        "\n",
        "\"\"\" In the code above, we first import the logging module, then we call the\n",
        "    basicConfig method to configure the logging.\n",
        "\n",
        "    We set the level to DEBUG, which means that all logs of level\n",
        "    DEBUG and above will be tracked.\"\"\"\n",
        "\n",
        "logging.basicConfig(level=logging.DEBUG)\n",
        "\n",
        "# Logging Level: severity of the event being logged\n",
        "# Least severe to most severe\n",
        "logging.debug('This is a debug message')\n",
        "logging.info('This is an info message')\n",
        "logging.warning('This is a warning message')\n",
        "logging.error('This is an error message')\n",
        "logging.critical('This is a critical message')"
      ],
      "metadata": {
        "colab": {
          "base_uri": "https://localhost:8080/"
        },
        "id": "DV6YT6MR4QNP",
        "outputId": "55393a6a-7531-44c8-bf69-fa2faf5ae5bf"
      },
      "execution_count": null,
      "outputs": [
        {
          "output_type": "stream",
          "name": "stderr",
          "text": [
            "WARNING:root:This is a warning message\n",
            "ERROR:root:This is an error message\n",
            "CRITICAL:root:This is a critical message\n"
          ]
        }
      ]
    },
    {
      "cell_type": "markdown",
      "source": [
        "*   Some programmers utilise the idea of \"Printing\" the statements to check whether they were correctly performed or if an error had occurred.\n",
        "*   However, printing is not a smart move. For basic scripts, it might be the answer to your problems, however the printing solution will fall short for complex programmes.\n",
        "*   A built-in Python package called logging enables publishing status messages to files or other output streams. The file may provide details about which portion of the code is run and any issues that have come up.\n",
        "*   Here are the different log levels in increasing order of severity:\n",
        "\n",
        "  1.   DEBUG: Detailed information, typically of interest only when diagnosing problems.\n",
        "  2.   INFO: Confirmation that things are working as expected.\n",
        "  3.   WARNING: An indication that something unexpected happened, or may happen in the future (e.g. ‘disk space low’). The software is still working as expected.\n",
        "  4.   ERROR: More serious problem that prevented the software from performing a function.\n",
        "  5.   CRITICAL: A very serious error, indicating that the program itself may be unable to continue running."
      ],
      "metadata": {
        "id": "v8Tljo104h8z"
      }
    },
    {
      "cell_type": "markdown",
      "source": [
        "## **Debug**"
      ],
      "metadata": {
        "id": "X6yyM0hD44cj"
      }
    },
    {
      "cell_type": "code",
      "source": [
        "import logging\n",
        "\n",
        "logging.basicConfig(level=logging.DEBUG)\n",
        "\n",
        "def add(x, y):\n",
        "    logging.debug('Variables are %s and %s', x, y)\n",
        "    return x + y\n",
        "\n",
        "add(1, 2)\n"
      ],
      "metadata": {
        "id": "pLaKXEhA4hPQ"
      },
      "execution_count": null,
      "outputs": []
    },
    {
      "cell_type": "markdown",
      "source": [
        "## **Info**"
      ],
      "metadata": {
        "id": "NO5jO1Tv45Uq"
      }
    },
    {
      "cell_type": "code",
      "source": [
        "import logging\n",
        "\n",
        "logging.basicConfig(level=logging.INFO)\n",
        "\n",
        "def login(user):\n",
        "    logging.info('User %s logged in', user)\n",
        "\n",
        "login('Admin User')\n"
      ],
      "metadata": {
        "id": "X7NZu50A45ok"
      },
      "execution_count": null,
      "outputs": []
    },
    {
      "cell_type": "markdown",
      "source": [
        "## **Warning**"
      ],
      "metadata": {
        "id": "7fkqU7Rc457g"
      }
    },
    {
      "cell_type": "code",
      "source": [
        "import logging\n",
        "\n",
        "logging.basicConfig(level=logging.WARNING)\n",
        "\n",
        "def MyBalance(amount):\n",
        "    if amount < 40000:\n",
        "        logging.warning('Sorry you have Low balance: %s', amount)\n",
        "\n",
        "MyBalance(10000)"
      ],
      "metadata": {
        "id": "GE4szFV546Nh"
      },
      "execution_count": null,
      "outputs": []
    },
    {
      "cell_type": "markdown",
      "source": [
        "## **Error**"
      ],
      "metadata": {
        "id": "K3uZrg3846et"
      }
    },
    {
      "cell_type": "code",
      "source": [
        "import logging\n",
        "\n",
        "logging.basicConfig(level=logging.ERROR)\n",
        "\n",
        "def LetUsDivide(n, d):\n",
        "    try:\n",
        "        result = n / d\n",
        "    except ZeroDivisionError:\n",
        "        logging.error('You are trying to divide by zero, which is not allowed')\n",
        "    else:\n",
        "        return result\n",
        "\n",
        "LetUsDivide(4, 0)"
      ],
      "metadata": {
        "id": "pWByTRoF46sN"
      },
      "execution_count": null,
      "outputs": []
    },
    {
      "cell_type": "markdown",
      "source": [
        "## **Critical Errors**"
      ],
      "metadata": {
        "id": "om-m8Me1468w"
      }
    },
    {
      "cell_type": "code",
      "source": [
        "import logging\n",
        "\n",
        "logging.basicConfig(level=logging.CRITICAL)\n",
        "\n",
        "def LetUsCheckSystem(sys):\n",
        "    if sys != 'OK':\n",
        "        logging.critical('System failure: %s', sys)\n",
        "\n",
        "LetUsCheckSystem('You need to handle the issue now')"
      ],
      "metadata": {
        "id": "7_3dEkV747O2"
      },
      "execution_count": null,
      "outputs": []
    },
    {
      "cell_type": "markdown",
      "source": [
        "## **Save to file**"
      ],
      "metadata": {
        "id": "ZAtY2MYP5UM9"
      }
    },
    {
      "cell_type": "code",
      "source": [
        "import os\n",
        "\n",
        "# Specify the directory and file\n",
        "dir_path = r'C:\\Users\\Dell\\Desktop\\June\\Latest\\iNeuron\\Sessions\\17_18June2023'\n",
        "log_file = 'system.txt'\n",
        "full_path = os.path.join(dir_path, log_file)\n",
        "\n",
        "# Check if the directory exists and create it if necessary\n",
        "os.makedirs(dir_path, exist_ok=True)\n",
        "\n",
        "# Try writing a test message to the file\n",
        "with open(full_path, 'w') as f:\n",
        "    f.write('This is a test message')"
      ],
      "metadata": {
        "id": "D82IcCa85VC-"
      },
      "execution_count": null,
      "outputs": []
    },
    {
      "cell_type": "code",
      "source": [
        "import os\n",
        "print(os.getcwd())"
      ],
      "metadata": {
        "id": "TD8-Ozgi5b87"
      },
      "execution_count": null,
      "outputs": []
    },
    {
      "cell_type": "code",
      "source": [
        "import os\n",
        "import logging\n",
        "\n",
        "# Specify the directory and file\n",
        "dir_path = r'C:\\Users\\Dell\\Desktop\\June\\Latest\\iNeuron\\Sessions\\17_18June2023'\n",
        "log_file = 'system.txt'\n",
        "full_path = os.path.join(dir_path, log_file)\n",
        "\n",
        "# Check if the directory exists and create it if necessary\n",
        "os.makedirs(dir_path, exist_ok=True)\n",
        "\n",
        "# Set up logging\n",
        "# Get a logger instance (this will fetch the root logger)\n",
        "logger = logging.getLogger()\n",
        "\n",
        "# Set the level of the logger to CRITICAL\n",
        "# This means it will handle events of level CRITICAL and above\n",
        "logger.setLevel(logging.CRITICAL)\n",
        "\n",
        "# Create a FileHandler instance to write logs to a file\n",
        "handler = logging.FileHandler(full_path)\n",
        "\n",
        "# Set the format of the logs using a Formatter\n",
        "# This format includes the log timestamp, log level and log message\n",
        "handler.setFormatter(logging.Formatter('%(asctime)s:%(levelname)s:%(message)s'))\n",
        "\n",
        "# Add the handler to the logger\n",
        "# This connects the logger to the handler so that logs get written to the file\n",
        "logger.addHandler(handler)\n",
        "\n",
        "\n",
        "def LetUsCheckSystem(sys):\n",
        "    if sys != 'OK':\n",
        "        logging.critical('System failure: %s', sys)\n",
        "\n",
        "LetUsCheckSystem('You need to handle the issue now')\n",
        "handler.close()\n"
      ],
      "metadata": {
        "id": "iqOcGoNK5e9Q"
      },
      "execution_count": null,
      "outputs": []
    },
    {
      "cell_type": "code",
      "source": [
        "import pdb\n",
        "\n",
        "def addition(a, b):\n",
        "    pdb.set_trace()  # Set a breakpoint here\n",
        "    result = a + b\n",
        "    return result\n",
        "\n",
        "print(addition(5, 7))\n"
      ],
      "metadata": {
        "id": "p5hl6r1-5i2m"
      },
      "execution_count": null,
      "outputs": []
    }
  ]
}