{
  "nbformat": 4,
  "nbformat_minor": 0,
  "metadata": {
    "colab": {
      "provenance": [],
      "toc_visible": true,
      "authorship_tag": "ABX9TyNTgKjiDW1dTyIxRA8jN/hU",
      "include_colab_link": true
    },
    "kernelspec": {
      "name": "python3",
      "display_name": "Python 3"
    },
    "language_info": {
      "name": "python"
    }
  },
  "cells": [
    {
      "cell_type": "markdown",
      "metadata": {
        "id": "view-in-github",
        "colab_type": "text"
      },
      "source": [
        "<a href=\"https://colab.research.google.com/github/lintosunny/Data-Science-Learning/blob/main/%5BWeek_05%5D_Python_OOPs.ipynb\" target=\"_parent\"><img src=\"https://colab.research.google.com/assets/colab-badge.svg\" alt=\"Open In Colab\"/></a>"
      ]
    },
    {
      "cell_type": "markdown",
      "source": [
        "# **Object Oriented Programming**"
      ],
      "metadata": {
        "id": "7QWQaAkA7dAP"
      }
    },
    {
      "cell_type": "markdown",
      "source": [
        "## **Create class**\n",
        "*   Inside method pass keyword is used as of now, because Python expects you to type something there.\n",
        "*   self, which refers to the object itself\n",
        "*   Inside the class, an __init__ method has to be defined with def. This is the initializer that you can later use to instantiate objects\n"
      ],
      "metadata": {
        "id": "zPXKgEAU7dLa"
      }
    },
    {
      "cell_type": "code",
      "source": [
        "class Dog:\n",
        "\n",
        "    def __init__(self):\n",
        "        pass"
      ],
      "metadata": {
        "id": "mr5UodNH8zGH"
      },
      "execution_count": null,
      "outputs": []
    },
    {
      "cell_type": "markdown",
      "source": [
        "## **Instantiating objects**"
      ],
      "metadata": {
        "id": "Eey8gZYw84hN"
      }
    },
    {
      "cell_type": "code",
      "source": [
        "ozzy = Dog()\n",
        "print(ozzy)"
      ],
      "metadata": {
        "id": "O1UZ-CuF8zyi"
      },
      "execution_count": null,
      "outputs": []
    },
    {
      "cell_type": "markdown",
      "source": [
        "## **Adding attributes to a class**"
      ],
      "metadata": {
        "id": "qMtI2iu09HNo"
      }
    },
    {
      "cell_type": "code",
      "source": [
        "# Let's give the Dog class a name and age\n",
        "class Dog:\n",
        "\n",
        "    def __init__(self, name, age):\n",
        "        self.name = name\n",
        "        self.age = age"
      ],
      "metadata": {
        "id": "WWOndrlq8-Vm"
      },
      "execution_count": null,
      "outputs": []
    },
    {
      "cell_type": "code",
      "source": [
        "# create a new ozzy object with a name and age\n",
        "ozzy = Dog(\"Ozzy\", 2)"
      ],
      "metadata": {
        "id": "Ft4ooeZr9RmG"
      },
      "execution_count": null,
      "outputs": []
    },
    {
      "cell_type": "code",
      "source": [
        "# Access object's attributes\n",
        "print(ozzy.name)\n",
        "\n",
        "print(ozzy.age)"
      ],
      "metadata": {
        "colab": {
          "base_uri": "https://localhost:8080/"
        },
        "id": "URRXoltZ9TCe",
        "outputId": "e1f264a5-0af0-4974-e75f-98f158e61dc2"
      },
      "execution_count": null,
      "outputs": [
        {
          "output_type": "stream",
          "name": "stdout",
          "text": [
            "Ozzy\n",
            "2\n"
          ]
        }
      ]
    },
    {
      "cell_type": "code",
      "source": [
        "# This can also be combined in a more elaborate sentence\n",
        "print(ozzy.name + \" is \" + str(ozzy.age) + \" year(s) old.\")"
      ],
      "metadata": {
        "colab": {
          "base_uri": "https://localhost:8080/"
        },
        "id": "jOUMM1LT-SyH",
        "outputId": "6b523b45-e76d-4f05-9183-8523c34f3c95"
      },
      "execution_count": null,
      "outputs": [
        {
          "output_type": "stream",
          "name": "stdout",
          "text": [
            "Ozzy is 2 year(s) old.\n"
          ]
        }
      ]
    },
    {
      "cell_type": "markdown",
      "source": [
        "## **Define methods in a class**"
      ],
      "metadata": {
        "id": "SLDzSR0p-NRy"
      }
    },
    {
      "cell_type": "code",
      "source": [
        "# Notice how the def keyword is used again, as well as the self argument\n",
        "class Dog:\n",
        "\n",
        "    def __init__(self, name, age):\n",
        "        self.name = name\n",
        "        self.age = age\n",
        "\n",
        "    def bark(self):\n",
        "        print(\"bark bark!\")"
      ],
      "metadata": {
        "id": "PUIdN2Ht9VWf"
      },
      "execution_count": null,
      "outputs": []
    },
    {
      "cell_type": "code",
      "source": [
        "# Create instance\n",
        "ozzy = Dog(\"Ozzy\", 2)\n",
        "\n",
        "# Calling method\n",
        "ozzy.bark()\n"
      ],
      "metadata": {
        "colab": {
          "base_uri": "https://localhost:8080/"
        },
        "id": "3XCTCAkE-nAt",
        "outputId": "9f4e2017-1c05-4cc7-d88d-e2ef402c2807"
      },
      "execution_count": null,
      "outputs": [
        {
          "output_type": "stream",
          "name": "stdout",
          "text": [
            "bark bark!\n"
          ]
        }
      ]
    },
    {
      "cell_type": "code",
      "source": [
        "# Adding new methods\n",
        "class Dog:\n",
        "\n",
        "    def __init__(self, name, age):\n",
        "        self.name = name\n",
        "        self.age = age\n",
        "\n",
        "    def bark(self):\n",
        "        print(\"bark bark!\")\n",
        "\n",
        "    def doginfo(self):\n",
        "        print(self.name + \" is \" + str(self.age) + \" year(s) old.\")\n",
        "\n",
        "    def birthday(self):\n",
        "        self.age +=1\n",
        "\n",
        "ozzy = Dog(\"Ozzy\", 2)\n",
        "\n",
        "print(ozzy.age)"
      ],
      "metadata": {
        "colab": {
          "base_uri": "https://localhost:8080/"
        },
        "id": "0Bwpe7Ws-wUs",
        "outputId": "9888e8d7-a3da-4b93-c0a7-babce4035d18"
      },
      "execution_count": null,
      "outputs": [
        {
          "output_type": "stream",
          "name": "stdout",
          "text": [
            "2\n"
          ]
        }
      ]
    },
    {
      "cell_type": "code",
      "source": [
        "# Age after and before calling the birthday method\n",
        "print(ozzy.doginfo())\n",
        "ozzy.birthday()\n",
        "print(ozzy.doginfo())"
      ],
      "metadata": {
        "colab": {
          "base_uri": "https://localhost:8080/"
        },
        "id": "PUoTZmaP_Iur",
        "outputId": "2264c8dd-7254-476c-dc04-22a4c84103ec"
      },
      "execution_count": null,
      "outputs": [
        {
          "output_type": "stream",
          "name": "stdout",
          "text": [
            "Ozzy is 2 year(s) old.\n",
            "None\n",
            "Ozzy is 3 year(s) old.\n",
            "None\n"
          ]
        }
      ]
    },
    {
      "cell_type": "markdown",
      "source": [
        "## **Passing Arguments to the method**"
      ],
      "metadata": {
        "id": "D2Zk_G6A_yRX"
      }
    },
    {
      "cell_type": "code",
      "source": [
        "# passing arguments to methods\n",
        "class Dog:\n",
        "\n",
        "    def __init__(self, name, age):\n",
        "        self.name = name\n",
        "        self.age = age\n",
        "\n",
        "    def bark(self):\n",
        "        print(\"bark bark!\")\n",
        "\n",
        "    def doginfo(self):\n",
        "        print(self.name + \" is \" + str(self.age) + \" year(s) old.\")\n",
        "\n",
        "    def birthday(self):\n",
        "        self.age +=1\n",
        "\n",
        "    def setBuddy(self, buddy):\n",
        "        self.buddy = buddy\n",
        "        buddy.buddy = self"
      ],
      "metadata": {
        "id": "E8YaoO9k_WAO"
      },
      "execution_count": null,
      "outputs": []
    },
    {
      "cell_type": "code",
      "source": [
        "ozzy = Dog(\"Ozzy\", 2)\n",
        "filou = Dog(\"Filou\", 8)\n",
        "\n",
        "ozzy.setBuddy(filou)"
      ],
      "metadata": {
        "id": "9RucFb9L_235"
      },
      "execution_count": null,
      "outputs": []
    },
    {
      "cell_type": "code",
      "source": [
        "print(ozzy.buddy.name)\n",
        "print(ozzy.buddy.age)"
      ],
      "metadata": {
        "colab": {
          "base_uri": "https://localhost:8080/"
        },
        "id": "o3w70O6LAF5K",
        "outputId": "115b1ab2-284f-476f-f0a0-43844e9b3e39"
      },
      "execution_count": null,
      "outputs": [
        {
          "output_type": "stream",
          "name": "stdout",
          "text": [
            "Filou\n",
            "8\n"
          ]
        }
      ]
    },
    {
      "cell_type": "code",
      "source": [],
      "metadata": {
        "id": "_H-em8XwAKDw"
      },
      "execution_count": null,
      "outputs": []
    },
    {
      "cell_type": "markdown",
      "source": [
        "## **Variable**\n",
        "*   Variables are typically referred to as attributes or properties of a class.\n",
        "*   These attributes represent the characteristics or data associated with an object."
      ],
      "metadata": {
        "id": "U9VmAMVBAWvR"
      }
    },
    {
      "cell_type": "markdown",
      "source": [
        "### **Class Variable**\n",
        "*   Class variables are shared by all instances of a class.\n",
        "*   They are defined within the class but outside of any methods.\n",
        "*   They are often used to store data that is shared among all instances of the class."
      ],
      "metadata": {
        "id": "u7E9E248AW2r"
      }
    },
    {
      "cell_type": "code",
      "source": [
        "# Creating a class\n",
        "class MyClass:\n",
        "  class_variable = \"Data Science\" # class variable, common for all instances\n",
        "\n",
        "  def __init__(self, name):\n",
        "    self.name=name\n",
        "\n",
        "  def info(self):\n",
        "    print(f\"Name: {self.name} \\nDepartment: {MyClass.class_variable}\")\n",
        "\n",
        "# Creating an instance\n",
        "obj1 = MyClass(\"Linto\")\n",
        "\n",
        "# Calling method\n",
        "obj1.info()"
      ],
      "metadata": {
        "colab": {
          "base_uri": "https://localhost:8080/"
        },
        "id": "YJUos-pGzLV_",
        "outputId": "1c42d795-d1f7-4c80-df57-60f4420a82b1"
      },
      "execution_count": null,
      "outputs": [
        {
          "output_type": "stream",
          "name": "stdout",
          "text": [
            "Name: Linto \n",
            "Department: Data Science\n"
          ]
        }
      ]
    },
    {
      "cell_type": "code",
      "source": [
        "# Edit class variable\n",
        "MyClass.class_variable = \"CSE\"\n",
        "\n",
        "# Calling method\n",
        "obj1.info()"
      ],
      "metadata": {
        "colab": {
          "base_uri": "https://localhost:8080/"
        },
        "id": "g_2j47Tz0KdG",
        "outputId": "6031d548-c427-4ad6-9c87-f936521f505b"
      },
      "execution_count": null,
      "outputs": [
        {
          "output_type": "stream",
          "name": "stdout",
          "text": [
            "Name: Linto \n",
            "Department: CSE\n"
          ]
        }
      ]
    },
    {
      "cell_type": "markdown",
      "source": [
        "### **Local Variable**\n",
        "*   Local variable is a variable that is declared and defined within the scope of a function or a block of code.\n",
        "*   It is only accessible within that specific function or block and cannot be accessed outside of it.\n",
        "*   Local variables have a limited lifespan, and they are created when the function or block is executed and destroyed when the function or block exits."
      ],
      "metadata": {
        "id": "g9NkFuBrAW5M"
      }
    },
    {
      "cell_type": "code",
      "source": [
        "# Creating a class\n",
        "class MyClass:\n",
        "\n",
        "  def __init__(self):\n",
        "    self.name=\"Linto\"\n",
        "\n",
        "  def details(self):\n",
        "    local_variable=10\n",
        "    print(f\"Name: {self.name} \\nAge: {local_variable}\")\n",
        "\n",
        "# creating instance\n",
        "obj1= MyClass()\n",
        "\n",
        "# calling method\n",
        "obj1.details()"
      ],
      "metadata": {
        "colab": {
          "base_uri": "https://localhost:8080/"
        },
        "id": "n-RR9mv20Jl3",
        "outputId": "526f4f9f-97ed-40a2-db0d-1780e3605479"
      },
      "execution_count": null,
      "outputs": [
        {
          "output_type": "stream",
          "name": "stdout",
          "text": [
            "Name: Linto \n",
            "Age: 10\n"
          ]
        }
      ]
    },
    {
      "cell_type": "markdown",
      "source": [
        "### **Instance Variable**\n",
        "*   Instance variables are specific to an instance of a class.\n",
        "*   They are defined within methods and are prefixed with self. to distinguish them from class variables.\n",
        "*   Each instance of the class has its own copy of instance variables."
      ],
      "metadata": {
        "id": "dXmKNWOZAW7b"
      }
    },
    {
      "cell_type": "code",
      "source": [
        "class MyClass:\n",
        "    def __init__(self, instance_variable):\n",
        "        self.instance_variable=instance_variable\n",
        "\n",
        "# Creating instances\n",
        "obj1 = MyClass(20)\n",
        "\n",
        "# Accessing instance variables\n",
        "print(obj1.instance_variable)"
      ],
      "metadata": {
        "colab": {
          "base_uri": "https://localhost:8080/"
        },
        "id": "laYMuaKE3P-3",
        "outputId": "69356ab5-570a-47ee-f748-73c0413f744e"
      },
      "execution_count": null,
      "outputs": [
        {
          "output_type": "stream",
          "name": "stdout",
          "text": [
            "20\n"
          ]
        }
      ]
    },
    {
      "cell_type": "markdown",
      "source": [
        "## **Methods**\n",
        "*   Methods are functions that are associated with a class.\n",
        "*   Methods define the behavior of the objects created from the class."
      ],
      "metadata": {
        "id": "GnyFuE55AW8l"
      }
    },
    {
      "cell_type": "markdown",
      "source": [
        "### **Instance method**\n",
        "*   Instance methods are the most common type of methods.\n",
        "*   They are defined within a class and operate on an instance of the class.\n",
        "*   The first parameter of an instance method is typically self, which refers to the instance the method is called on."
      ],
      "metadata": {
        "id": "PSHWnda-AXAO"
      }
    },
    {
      "cell_type": "code",
      "source": [
        "class MyClass:\n",
        "  def __init__(self):\n",
        "    pass\n",
        "\n",
        "  def instance_method(self):\n",
        "    print(\"This is an instance method\")\n",
        "\n",
        "# Creating an instance\n",
        "obj1 = MyClass()\n",
        "\n",
        "# Calling the instance method\n",
        "obj1.instance_method()"
      ],
      "metadata": {
        "colab": {
          "base_uri": "https://localhost:8080/"
        },
        "id": "C2CrZ7ad4cKT",
        "outputId": "897a6d74-13fd-4747-ea17-397673c95e42"
      },
      "execution_count": null,
      "outputs": [
        {
          "output_type": "stream",
          "name": "stdout",
          "text": [
            "This is an instance method\n"
          ]
        }
      ]
    },
    {
      "cell_type": "markdown",
      "source": [
        "### **Class method**\n",
        "*   Class methods are bound to the class and not the instance of the class.\n",
        "*   They are defined using the @classmethod decorator, and the first parameter is conventionally named cls.\n",
        "*   Class methods can access and modify class-level attributes."
      ],
      "metadata": {
        "id": "2436mcQyAXCh"
      }
    },
    {
      "cell_type": "code",
      "source": [
        "class MyClass:\n",
        "  class_variable = 10\n",
        "\n",
        "  def __init__(self):\n",
        "    pass\n",
        "\n",
        "  @classmethod\n",
        "  def class_method(cls):\n",
        "    print(f\"This is a class method. \\nClass Variable: {cls.class_variable}\")\n",
        "\n",
        "# Calling the class method\n",
        "MyClass.class_method()"
      ],
      "metadata": {
        "colab": {
          "base_uri": "https://localhost:8080/"
        },
        "id": "UKvz1nya5V8J",
        "outputId": "272548a8-dbdd-4087-d5fd-20f6ebf5437d"
      },
      "execution_count": null,
      "outputs": [
        {
          "output_type": "stream",
          "name": "stdout",
          "text": [
            "This is a class method. \n",
            "Class Variable: 10\n"
          ]
        }
      ]
    },
    {
      "cell_type": "markdown",
      "source": [
        "### **Static method**\n",
        "*   Static methods are not bound to the instance or the class.\n",
        "*   They are defined using the @staticmethod decorator and don't have self or cls as the first parameter.\n",
        "*   They are used when a method doesn't access or modify instance or class-level attributes."
      ],
      "metadata": {
        "id": "OrZ0t4lFAXFi"
      }
    },
    {
      "cell_type": "code",
      "source": [
        "class MyClass:\n",
        "\n",
        "  def __init__(self):\n",
        "    pass\n",
        "\n",
        "  @staticmethod\n",
        "  def static_method():\n",
        "    print(\"This is a static method\")\n",
        "\n",
        "# Calling the static method\n",
        "MyClass.static_method()"
      ],
      "metadata": {
        "colab": {
          "base_uri": "https://localhost:8080/"
        },
        "id": "3ilJ9eid6O4B",
        "outputId": "8e595d3d-b19c-4756-fd2f-81d499074f65"
      },
      "execution_count": null,
      "outputs": [
        {
          "output_type": "stream",
          "name": "stdout",
          "text": [
            "This is a static method\n"
          ]
        }
      ]
    },
    {
      "cell_type": "markdown",
      "source": [
        "## **Encapsulation**\n",
        "Encapsulation is one of the fundamental principles of object-oriented programming and is used to restrict access to certain parts of an object and prevent the accidental modification of its internal state. In Python, encapsulation can be achieved through the use of private and protected attributes and methods."
      ],
      "metadata": {
        "id": "BU3NCreAAXKA"
      }
    },
    {
      "cell_type": "markdown",
      "source": [
        "### **Public**\n",
        "Attributes and methods that are not prefixed with underscores are considered public by convention. Public members are accessible from outside the class and are part of the class's public interface."
      ],
      "metadata": {
        "id": "zQ5xlGGeAXMG"
      }
    },
    {
      "cell_type": "code",
      "source": [
        "class MyClass:\n",
        "    def __init__(self):\n",
        "        self.public_attribute = 42  # Public attribute\n",
        "\n",
        "    def public_method(self):  # Public method\n",
        "        print(\"This is a public method.\")\n",
        "        print(f\"Accessing public attribute: {self.public_attribute}\")\n",
        "\n",
        "\n",
        "# Usage\n",
        "obj = MyClass()\n",
        "print(obj.public_attribute)  # Accessing public attribute\n",
        "obj.public_method()  # Accessing public method\n"
      ],
      "metadata": {
        "colab": {
          "base_uri": "https://localhost:8080/"
        },
        "id": "21GH3K2cK5UB",
        "outputId": "72a944b7-0097-4ba9-cbed-5cbadcf48b72"
      },
      "execution_count": null,
      "outputs": [
        {
          "output_type": "stream",
          "name": "stdout",
          "text": [
            "42\n",
            "This is a public method.\n",
            "Accessing public attribute: 42\n"
          ]
        }
      ]
    },
    {
      "cell_type": "markdown",
      "source": [
        "### **Private**\n",
        "In Python, attributes and methods can be marked as private by prefixing them with a double underscore ('__'). This makes them harder to access from outside the class."
      ],
      "metadata": {
        "id": "kbxT3WdMA73g"
      }
    },
    {
      "cell_type": "code",
      "source": [
        "class MyClass:\n",
        "    def __init__(self):\n",
        "        self.__private_attribute = 42  # Private attribute\n",
        "\n",
        "    def __private_method(self):  # Private method\n",
        "        print(\"This is a private method.\")\n",
        "\n",
        "    def public_method(self):\n",
        "        print(\"This is a public method.\")\n",
        "        self.__private_method()  # Accessing private method\n",
        "        print(f\"Accessing private attribute: {self.__private_attribute}\")\n",
        "\n",
        "\n",
        "# Usage\n",
        "obj = MyClass()\n",
        "obj.public_method()\n",
        "# obj.__private_method()  # This would result in an AttributeError\n",
        "# print(obj.__private_attribute)  # This would also result in an AttributeError"
      ],
      "metadata": {
        "colab": {
          "base_uri": "https://localhost:8080/"
        },
        "id": "3AlUIS_4LY-S",
        "outputId": "a182ebd6-3925-4460-83f5-70b1a791c284"
      },
      "execution_count": null,
      "outputs": [
        {
          "output_type": "stream",
          "name": "stdout",
          "text": [
            "This is a public method.\n",
            "This is a private method.\n",
            "Accessing private attribute: 42\n"
          ]
        }
      ]
    },
    {
      "cell_type": "markdown",
      "source": [
        "### **Protected**\n",
        "Attributes and methods can be marked as protected by prefixing them with a single underscore ('_'). While this doesn't prevent access, it serves as a signal that the attribute or method is intended for internal use within the class or its subclasses."
      ],
      "metadata": {
        "id": "Ygkx03wqA8B6"
      }
    },
    {
      "cell_type": "code",
      "source": [
        "class MyClass:\n",
        "    def __init__(self):\n",
        "        self._protected_attribute = 42  # Protected attribute\n",
        "\n",
        "    def _protected_method(self):  # Protected method\n",
        "        print(\"This is a protected method.\")\n",
        "\n",
        "\n",
        "# Subclass\n",
        "class MySubClass(MyClass):\n",
        "    def subclass_method(self):\n",
        "        print(f\"Accessing protected attribute: {self._protected_attribute}\")\n",
        "        self._protected_method()  # Accessing protected method\n",
        "\n",
        "\n",
        "# Usage\n",
        "obj = MyClass()\n",
        "print(obj._protected_attribute)  # Accessing protected attribute\n",
        "obj._protected_method()  # Accessing protected method\n",
        "\n",
        "# Usage with subclass\n",
        "sub_obj = MySubClass()\n",
        "sub_obj.subclass_method()"
      ],
      "metadata": {
        "colab": {
          "base_uri": "https://localhost:8080/"
        },
        "id": "LoVuHLRqLoP1",
        "outputId": "d8072554-5b66-4593-ebca-547a5b6b30af"
      },
      "execution_count": null,
      "outputs": [
        {
          "output_type": "stream",
          "name": "stdout",
          "text": [
            "42\n",
            "This is a protected method.\n",
            "Accessing protected attribute: 42\n",
            "This is a protected method.\n"
          ]
        }
      ]
    },
    {
      "cell_type": "markdown",
      "source": [
        "## **Inheritance**\n",
        "Inheritance is a fundamental concept in object-oriented programming (OOP) that allows a new class (subclass or derived class) to inherit attributes and methods from an existing class (superclass or base class).\n",
        "\n",
        "Inheritance is a powerful mechanism that allows you to create a hierarchy of classes, promoting code reuse and creating a clear structure in your code. It enables you to model relationships between classes and build upon existing functionality"
      ],
      "metadata": {
        "id": "_90iojc6A8MH"
      }
    },
    {
      "cell_type": "code",
      "source": [
        "class BaseClass:\n",
        "  pass\n",
        "  # Attributes and methods of the base class\n",
        "\n",
        "class DerivedClass(BaseClass):\n",
        "  pass\n",
        "  # Additional attributes and methods specific to the derived class"
      ],
      "metadata": {
        "id": "AO-Zsx6zW4JA"
      },
      "execution_count": null,
      "outputs": []
    },
    {
      "cell_type": "markdown",
      "source": [
        "### **Basic Inheritance**"
      ],
      "metadata": {
        "id": "Izc7bMSaWab7"
      }
    },
    {
      "cell_type": "code",
      "source": [
        "class Animal:\n",
        "    def __init__(self, name):\n",
        "        self.name = name\n",
        "\n",
        "    def speak(self):\n",
        "        pass  # Abstract method\n",
        "\n",
        "\n",
        "class Dog(Animal):  # Dog inherits from Animal\n",
        "    def speak(self):\n",
        "        return f\"{self.name} says Woof!\"\n",
        "\n",
        "\n",
        "class Cat(Animal):  # Cat inherits from Animal\n",
        "    def speak(self):\n",
        "        return f\"{self.name} says Meow!\"\n",
        "\n",
        "\n",
        "# Usage\n",
        "dog = Dog(\"Buddy\")\n",
        "cat = Cat(\"Whiskers\")\n",
        "\n",
        "print(dog.speak())\n",
        "print(cat.speak())"
      ],
      "metadata": {
        "colab": {
          "base_uri": "https://localhost:8080/"
        },
        "id": "Rp8cPWmeWa6X",
        "outputId": "c40520f6-546c-4039-bd0c-6ac7b018028b"
      },
      "execution_count": null,
      "outputs": [
        {
          "output_type": "stream",
          "name": "stdout",
          "text": [
            "Buddy says Woof!\n",
            "Whiskers says Meow!\n"
          ]
        }
      ]
    },
    {
      "cell_type": "markdown",
      "source": [
        "### **Super Function**"
      ],
      "metadata": {
        "id": "ZKgjnhgVWbLk"
      }
    },
    {
      "cell_type": "code",
      "source": [
        "# The super() function is used to call methods from the superclass within the subclass.\n",
        "\n",
        "class Vehicle:\n",
        "    def __init__(self, brand):\n",
        "        self.brand = brand\n",
        "\n",
        "    def start_engine(self):\n",
        "        print(f\"{self.brand} engine started\")\n",
        "\n",
        "\n",
        "class Car(Vehicle):\n",
        "    def __init__(self, brand, model):\n",
        "        super().__init__(brand)\n",
        "        self.model = model\n",
        "\n",
        "    def start_engine(self):\n",
        "        super().start_engine()\n",
        "        print(f\"{self.brand} {self.model} engine started\")\n",
        "\n",
        "\n",
        "# Usage\n",
        "car = Car(\"Toyota\", \"Camry\")\n",
        "car.start_engine()"
      ],
      "metadata": {
        "colab": {
          "base_uri": "https://localhost:8080/"
        },
        "id": "qsLs5qJEWbeV",
        "outputId": "619a0e2d-e3cc-46cc-f732-83bcd1e741fc"
      },
      "execution_count": null,
      "outputs": [
        {
          "output_type": "stream",
          "name": "stdout",
          "text": [
            "Toyota engine started\n",
            "Toyota Camry engine started\n"
          ]
        }
      ]
    },
    {
      "cell_type": "markdown",
      "source": [
        "### **Multiple Inheritance**"
      ],
      "metadata": {
        "id": "Ws8XnqCiWbvB"
      }
    },
    {
      "cell_type": "code",
      "source": [
        "class A:\n",
        "    def method(self):\n",
        "        print(\"Method from class A\")\n",
        "\n",
        "\n",
        "class B:\n",
        "    def method(self):\n",
        "        print(\"Method from class B\")\n",
        "\n",
        "\n",
        "class C(A, B):  # Inherits from both A and B\n",
        "    pass\n",
        "\n",
        "\n",
        "# Usage\n",
        "obj = C()\n",
        "obj.method()"
      ],
      "metadata": {
        "colab": {
          "base_uri": "https://localhost:8080/"
        },
        "id": "SuiTqNugWb_J",
        "outputId": "4f4954c7-28db-452d-f990-2a5d2479efbe"
      },
      "execution_count": null,
      "outputs": [
        {
          "output_type": "stream",
          "name": "stdout",
          "text": [
            "Method from class A\n"
          ]
        }
      ]
    },
    {
      "cell_type": "markdown",
      "source": [
        "### **Method Overriding**\n",
        "A subclass can provide a specific implementation for a method already defined in its superclass."
      ],
      "metadata": {
        "id": "H037AiUbWcPS"
      }
    },
    {
      "cell_type": "code",
      "source": [
        "class Shape:\n",
        "    def area(self):\n",
        "        pass  # Abstract method\n",
        "\n",
        "\n",
        "class Square(Shape):\n",
        "    def __init__(self, side):\n",
        "        self.side = side\n",
        "\n",
        "    def area(self):\n",
        "        return self.side ** 2\n",
        "\n",
        "\n",
        "# Usage\n",
        "square = Square(5)\n",
        "print(square.area())"
      ],
      "metadata": {
        "colab": {
          "base_uri": "https://localhost:8080/"
        },
        "id": "YW0ScFzEWcfw",
        "outputId": "2637ef5b-181a-4f9b-8623-44801acad836"
      },
      "execution_count": null,
      "outputs": [
        {
          "output_type": "stream",
          "name": "stdout",
          "text": [
            "25\n"
          ]
        }
      ]
    },
    {
      "cell_type": "markdown",
      "source": [
        "## **Polymorphism**\n",
        "Polymorphism is a fundamental concept in object-oriented programming. It is the ability of an object to take on many forms. In Python, polymorphism is achieved through inheritance and method overriding.\n",
        "\n",
        "Inheritance is a mechanism that allows a class to inherit the properties and methods of another class. When a class inherits from another class, it is said to be a child class of the parent class. The child class can then use the properties and methods of the parent class.\n",
        "\n",
        "Method overriding is a mechanism that allows a child class to override the methods of a parent class. When a child class overrides a method of a parent class, it is said to be redefining the method. The child class can then implement the method in a different way than the parent class."
      ],
      "metadata": {
        "id": "H8CAqxcdA8Wy"
      }
    },
    {
      "cell_type": "markdown",
      "source": [
        "### **Method Overriding**\n",
        "Method overriding allows a subclass to provide a specific implementation for a method that is already defined in its superclass. This is a form of polymorphism."
      ],
      "metadata": {
        "id": "1ucThhRwbUCh"
      }
    },
    {
      "cell_type": "code",
      "source": [
        "class Animal:\n",
        "    def speak(self):\n",
        "        pass  # Abstract method\n",
        "\n",
        "\n",
        "class Dog(Animal):\n",
        "    def speak(self):\n",
        "        return \"Woof!\"\n",
        "\n",
        "\n",
        "class Cat(Animal):\n",
        "    def speak(self):\n",
        "        return \"Meow!\"\n",
        "\n",
        "\n",
        "# Usage\n",
        "def animal_sound(animal):\n",
        "    return animal.speak()\n",
        "\n",
        "\n",
        "dog = Dog()\n",
        "cat = Cat()\n",
        "\n",
        "print(animal_sound(dog))\n",
        "print(animal_sound(cat))\n"
      ],
      "metadata": {
        "colab": {
          "base_uri": "https://localhost:8080/"
        },
        "id": "B-IJjiUFhye3",
        "outputId": "add192f8-e7d8-4c02-d31f-7c362b09ee57"
      },
      "execution_count": null,
      "outputs": [
        {
          "output_type": "stream",
          "name": "stdout",
          "text": [
            "Woof!\n",
            "Meow!\n"
          ]
        }
      ]
    },
    {
      "cell_type": "markdown",
      "source": [
        "### **Duck Typing**\n",
        "Duck typing allows an object's suitability to be determined by its methods and properties rather than its type."
      ],
      "metadata": {
        "id": "AQZuF7oLiOhl"
      }
    },
    {
      "cell_type": "code",
      "source": [
        "class Bird:\n",
        "    def fly(self):\n",
        "        pass  # Abstract method\n",
        "\n",
        "\n",
        "class Sparrow(Bird):\n",
        "    def fly(self):\n",
        "        return \"Sparrow is flying\"\n",
        "\n",
        "\n",
        "class Airplane:\n",
        "    def fly(self):\n",
        "        return \"Airplane is flying\"\n",
        "\n",
        "\n",
        "# Usage\n",
        "def let_it_fly(entity):\n",
        "    return entity.fly()\n",
        "\n",
        "\n",
        "sparrow = Sparrow()\n",
        "airplane = Airplane()\n",
        "\n",
        "print(let_it_fly(sparrow))\n",
        "print(let_it_fly(airplane))"
      ],
      "metadata": {
        "colab": {
          "base_uri": "https://localhost:8080/"
        },
        "id": "5IG4GFmliTEu",
        "outputId": "d1a720de-1bed-4ab5-cee5-5bcfb2acb851"
      },
      "execution_count": null,
      "outputs": [
        {
          "output_type": "stream",
          "name": "stdout",
          "text": [
            "Sparrow is flying\n",
            "Airplane is flying\n"
          ]
        }
      ]
    },
    {
      "cell_type": "markdown",
      "source": [
        "In this example, both 'Sparrow' and 'Airplane' classes have a 'fly' method. The 'let_it_fly' function accepts any object that has a 'fly' method and calls it, demonstrating polymorphic behavior."
      ],
      "metadata": {
        "id": "gDMe56PdiaKB"
      }
    },
    {
      "cell_type": "markdown",
      "source": [
        "### **Operator Overloading**\n",
        "Polymorphism can also be achieved through operator overloading, where operators have different meanings for different classes."
      ],
      "metadata": {
        "id": "vLYXaQ7Cim-N"
      }
    },
    {
      "cell_type": "code",
      "source": [
        "class Circle:\n",
        "    def __init__(self, radius):\n",
        "        self.radius = radius\n",
        "\n",
        "    def __add__(self, other):\n",
        "        if isinstance(other, Circle):\n",
        "            return Circle(self.radius + other.radius)\n",
        "        else:\n",
        "            raise ValueError(\"Unsupported operand type\")\n",
        "\n",
        "\n",
        "# Usage\n",
        "circle1 = Circle(3)\n",
        "circle2 = Circle(5)\n",
        "\n",
        "result_circle = circle1 + circle2\n",
        "print(result_circle.radius)"
      ],
      "metadata": {
        "colab": {
          "base_uri": "https://localhost:8080/"
        },
        "id": "LqLa3DFXinW9",
        "outputId": "8556decd-a775-4e45-91c1-a8eeac32b3da"
      },
      "execution_count": null,
      "outputs": [
        {
          "output_type": "stream",
          "name": "stdout",
          "text": [
            "8\n"
          ]
        }
      ]
    },
    {
      "cell_type": "markdown",
      "source": [
        "## **Decorators**\n",
        "\n",
        "Decorators are a powerful and flexible feature in Python that allows you to modify or extend the behavior of functions or methods without changing their actual code. Decorators are often used for tasks such as logging, access control, memoization, and more.\n",
        "\n",
        "They are widely used in various scenarios to add functionality to existing code without modifying it directly. Understanding decorators is essential for writing clean, modular, and reusable code."
      ],
      "metadata": {
        "id": "8R_Dssy8A8qR"
      }
    },
    {
      "cell_type": "markdown",
      "source": [
        "### **Basic Decorator**\n",
        "A decorator is a function that takes another function as its argument, adds some functionality, and then returns the modified function."
      ],
      "metadata": {
        "id": "7MXXmAW9kXxJ"
      }
    },
    {
      "cell_type": "code",
      "source": [
        "def decorator(func):\n",
        "    def wrapper(name):\n",
        "        return f\"Before calling {func.__name__}...\\n{func(name)}\\nAfter calling {func.__name__}.\"\n",
        "\n",
        "    return wrapper\n",
        "\n",
        "@decorator\n",
        "def greet(name):\n",
        "    return f\"Hello, {name}!\"\n",
        "\n",
        "print(greet(\"Bob\"))"
      ],
      "metadata": {
        "colab": {
          "base_uri": "https://localhost:8080/"
        },
        "id": "uov2QyBmk6Aq",
        "outputId": "ce7d2ad3-548d-4e61-aa93-413105c7ea51"
      },
      "execution_count": null,
      "outputs": [
        {
          "output_type": "stream",
          "name": "stdout",
          "text": [
            "Before calling greet...\n",
            "Hello, Bob!\n",
            "After calling greet.\n"
          ]
        }
      ]
    },
    {
      "cell_type": "markdown",
      "source": [
        "### **Decorator with Arguments**\n",
        "Can create decorators that take arguments by nesting functions."
      ],
      "metadata": {
        "id": "ln3PVP8AkeNn"
      }
    },
    {
      "cell_type": "code",
      "source": [
        "def repeat(n):\n",
        "    def decorator(func):\n",
        "        def wrapper(name):\n",
        "            result = \"\"\n",
        "            for _ in range(n):\n",
        "                result += f\"{func(name)}\\n\"\n",
        "            return result\n",
        "        return wrapper\n",
        "    return decorator\n",
        "\n",
        "@repeat(3)\n",
        "def greet(name):\n",
        "    return f\"Hello, {name}!\"\n",
        "\n",
        "print(greet(\"Charlie\"))"
      ],
      "metadata": {
        "colab": {
          "base_uri": "https://localhost:8080/"
        },
        "id": "0j33F3xXlMgQ",
        "outputId": "985bd10c-54e4-4554-bb61-17081306e613"
      },
      "execution_count": null,
      "outputs": [
        {
          "output_type": "stream",
          "name": "stdout",
          "text": [
            "Hello, Charlie!\n",
            "Hello, Charlie!\n",
            "Hello, Charlie!\n",
            "\n"
          ]
        }
      ]
    },
    {
      "cell_type": "markdown",
      "source": [
        "### **Class-based Decorator**\n",
        "Decorators can also be implemented using classes. The class needs to implement the '__call__' method.\n",
        "\n"
      ],
      "metadata": {
        "id": "GfZ25kO0kivs"
      }
    },
    {
      "cell_type": "code",
      "source": [
        "class TimingDecorator:\n",
        "    def __init__(self, func):\n",
        "        self.func = func\n",
        "\n",
        "    def __call__(self, *args, **kwargs):\n",
        "        import time\n",
        "        start_time = time.time()\n",
        "        result = self.func(*args, **kwargs)\n",
        "        end_time = time.time()\n",
        "        print(f\"Execution time: {end_time - start_time} seconds\")\n",
        "        return result\n",
        "\n",
        "@TimingDecorator\n",
        "def slow_function():\n",
        "    import time\n",
        "    time.sleep(2)\n",
        "    print(\"Function executed.\")\n",
        "\n",
        "slow_function()"
      ],
      "metadata": {
        "colab": {
          "base_uri": "https://localhost:8080/"
        },
        "id": "OysaR4nnlgzD",
        "outputId": "313f6c63-531d-4e07-df5b-55bf569f1f0d"
      },
      "execution_count": null,
      "outputs": [
        {
          "output_type": "stream",
          "name": "stdout",
          "text": [
            "Function executed.\n",
            "Execution time: 2.004648447036743 seconds\n"
          ]
        }
      ]
    },
    {
      "cell_type": "markdown",
      "source": [
        "## **Abstraction**\n",
        "Abstraction is a fundamental concept in object-oriented programming (OOP) that involves simplifying complex systems by modeling classes based on the essential characteristics and hiding unnecessary details.\n",
        "\n",
        "Abstraction in Python OOP allows to define abstract classes and methods that provide a blueprint for concrete subclasses. It helps in creating a clear and simplified representation of complex systems by focusing on essential characteristics. Abstraction promotes code modularity, reusability, and a better understanding of the overall structure of the program."
      ],
      "metadata": {
        "id": "kplyDNxhA8hT"
      }
    },
    {
      "cell_type": "markdown",
      "source": [
        "### **Abstract classes and methods**\n",
        "An abstract class is a class that cannot be instantiated and may contain one or more abstract methods. Abstract methods are declared in abstract classes but have no implementation. Subclasses must provide concrete implementations for these methods."
      ],
      "metadata": {
        "id": "kES3UcULmUTg"
      }
    },
    {
      "cell_type": "code",
      "source": [
        "from abc import ABC, abstractmethod\n",
        "\n",
        "class Shape(ABC):  # Abstract class\n",
        "    @abstractmethod\n",
        "    def area(self):\n",
        "        pass\n",
        "\n",
        "\n",
        "class Circle(Shape):  # Concrete subclass\n",
        "    def __init__(self, radius):\n",
        "        self.radius = radius\n",
        "\n",
        "    def area(self):\n",
        "        return 3.14 * self.radius**2  # Concrete implementation of method\n",
        "\n",
        "\n",
        "class Square(Shape):  # Concrete subclass\n",
        "    def __init__(self, side):\n",
        "        self.side = side\n",
        "\n",
        "    def area(self):\n",
        "        return self.side**2  # Concrete implementation of method\n",
        "\n",
        "\n",
        "# Usage\n",
        "circle = Circle(5)\n",
        "square = Square(4)\n",
        "\n",
        "print(circle.area())\n",
        "print(square.area())"
      ],
      "metadata": {
        "colab": {
          "base_uri": "https://localhost:8080/"
        },
        "id": "fQOpjl9TnBRT",
        "outputId": "bdeff488-a9b4-471d-cec7-a93029305b23"
      },
      "execution_count": null,
      "outputs": [
        {
          "output_type": "stream",
          "name": "stdout",
          "text": [
            "78.5\n",
            "16\n"
          ]
        }
      ]
    },
    {
      "cell_type": "markdown",
      "source": [
        "### **Abstract Properties**\n",
        "Abstract properties can also be used to enforce that certain properties must be implemented by subclasses."
      ],
      "metadata": {
        "id": "XN_5baq5ne-1"
      }
    },
    {
      "cell_type": "code",
      "source": [
        "from abc import ABC, abstractmethod\n",
        "\n",
        "class Vehicle(ABC):\n",
        "    @property\n",
        "    @abstractmethod\n",
        "    def fuel_efficiency(self):\n",
        "        pass\n",
        "\n",
        "\n",
        "class Car(Vehicle):\n",
        "    def __init__(self, fuel_efficiency):\n",
        "        self._fuel_efficiency = fuel_efficiency\n",
        "\n",
        "    @property\n",
        "    def fuel_efficiency(self):\n",
        "        return self._fuel_efficiency\n",
        "\n",
        "\n",
        "# Usage\n",
        "car = Car(30)\n",
        "print(car.fuel_efficiency)"
      ],
      "metadata": {
        "colab": {
          "base_uri": "https://localhost:8080/"
        },
        "id": "lUr8LBtfnseI",
        "outputId": "16f05d86-9479-49c3-9d5b-5d2d72e91264"
      },
      "execution_count": null,
      "outputs": [
        {
          "output_type": "stream",
          "name": "stdout",
          "text": [
            "30\n"
          ]
        }
      ]
    },
    {
      "cell_type": "markdown",
      "source": [
        "### **Abstract Base Classes (ABC)**\n",
        "The 'abc' module in Python provides the 'ABC' class, which can be used as a metaclass for creating abstract classes."
      ],
      "metadata": {
        "id": "t2ZiDWwxn6ME"
      }
    },
    {
      "cell_type": "code",
      "source": [
        "from abc import ABC, abstractmethod\n",
        "\n",
        "class Animal(ABC):  # Abstract class using ABC\n",
        "    @abstractmethod\n",
        "    def make_sound(self):\n",
        "        pass\n",
        "\n",
        "\n",
        "class Dog(Animal):\n",
        "    def make_sound(self):\n",
        "        return \"Woof!\"\n",
        "\n",
        "\n",
        "# Usage\n",
        "dog = Dog()\n",
        "print(dog.make_sound())"
      ],
      "metadata": {
        "colab": {
          "base_uri": "https://localhost:8080/"
        },
        "id": "rg-MKO4yoAqG",
        "outputId": "a199bf9b-93a9-45a1-9083-0842ce0f5a87"
      },
      "execution_count": null,
      "outputs": [
        {
          "output_type": "stream",
          "name": "stdout",
          "text": [
            "Woof!\n"
          ]
        }
      ]
    },
    {
      "cell_type": "markdown",
      "source": [
        "## **Modularity**\n",
        "\n",
        "Modularity is a key principle in object-oriented programming (OOP) that involves breaking down a large system into smaller, self-contained, and reusable modules. In Python, modularity is achieved through the use of classes, functions, and modules.\n",
        "\n",
        "This enhances code readability, maintainability, and collaboration. Understanding modularity is essential for building scalable and maintainable software."
      ],
      "metadata": {
        "id": "duSlhixnBSv9"
      }
    }
  ]
}