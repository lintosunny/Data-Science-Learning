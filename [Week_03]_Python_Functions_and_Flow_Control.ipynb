{
  "nbformat": 4,
  "nbformat_minor": 0,
  "metadata": {
    "colab": {
      "provenance": [],
      "toc_visible": true,
      "authorship_tag": "ABX9TyNNhOnyGjHacc5kghYqMErI",
      "include_colab_link": true
    },
    "kernelspec": {
      "name": "python3",
      "display_name": "Python 3"
    },
    "language_info": {
      "name": "python"
    }
  },
  "cells": [
    {
      "cell_type": "markdown",
      "metadata": {
        "id": "view-in-github",
        "colab_type": "text"
      },
      "source": [
        "<a href=\"https://colab.research.google.com/github/lintosunny/Data-Science-Learning/blob/main/%5BWeek_03%5D_Python_Functions_and_Flow_Control.ipynb\" target=\"_parent\"><img src=\"https://colab.research.google.com/assets/colab-badge.svg\" alt=\"Open In Colab\"/></a>"
      ]
    },
    {
      "cell_type": "markdown",
      "source": [
        "# **Function**\n",
        "\n",
        "*   A function is a block of organized, reusable code that is used to perform a single, related action\n",
        "*   Functions help break our program into smaller and modular chunks. As our program grows larger and larger, functions make it more organized and manageble\n",
        "*   Functions provide better modularity for your application and a high degree of code reusing"
      ],
      "metadata": {
        "id": "sJRBxX0nPKww"
      }
    },
    {
      "cell_type": "markdown",
      "source": [
        "## **Create Function**"
      ],
      "metadata": {
        "id": "ToJGpS8zPX1K"
      }
    },
    {
      "cell_type": "code",
      "source": [
        "# Create a function\n",
        "def WelcomeUser(name):\n",
        "    \"\"\"\n",
        "    This function welcome's the user for Python class\n",
        "    \"\"\"\n",
        "    print('Dear '+str(name)+', Welcome to Python Tutorials')"
      ],
      "metadata": {
        "id": "bkgYuNo_PP7F"
      },
      "execution_count": null,
      "outputs": []
    },
    {
      "cell_type": "code",
      "source": [
        "# Calling the function\n",
        "WelcomeUser('Linto')"
      ],
      "metadata": {
        "colab": {
          "base_uri": "https://localhost:8080/"
        },
        "id": "4FBO7l2MPhDc",
        "outputId": "f7d9c043-dc5e-4200-ae28-0d65333d5cd0"
      },
      "execution_count": null,
      "outputs": [
        {
          "output_type": "stream",
          "name": "stdout",
          "text": [
            "Dear Linto, Welcome to Python Tutorials\n"
          ]
        }
      ]
    },
    {
      "cell_type": "code",
      "source": [
        "# function to check a number is even or odd\n",
        "def EvenOrOdd(num):\n",
        "    if num % 2 == 0:\n",
        "        print('{} is even number'.format(num))\n",
        "    else:\n",
        "        print('{} is odd number'.format(num))\n",
        "\n",
        "EvenOrOdd(100)"
      ],
      "metadata": {
        "colab": {
          "base_uri": "https://localhost:8080/"
        },
        "id": "yFyqxAcIPi3z",
        "outputId": "a4680ec7-4d05-4df4-a49e-c393804e1c84"
      },
      "execution_count": null,
      "outputs": [
        {
          "output_type": "stream",
          "name": "stdout",
          "text": [
            "100 is even number\n"
          ]
        }
      ]
    },
    {
      "cell_type": "markdown",
      "source": [
        "## **Docstring**\n",
        "*   The first string after the function header is called the docstring and is short for documentation string\n",
        "*   Although optional, documentation is a good programming practice, always document your code\n",
        "*   Doc string will be written in triple quotes so that docstring can extend up to multiple lines\n",
        "*   This string is available to us as \"__ doc __\" attribute of the function"
      ],
      "metadata": {
        "id": "Hoi04Qe5PrR2"
      }
    },
    {
      "cell_type": "code",
      "source": [
        "# print doc string of the function with doc string\n",
        "print(WelcomeUser.__doc__)\n",
        "\n",
        "# print doc string of the function without doc string\n",
        "print(EvenOrOdd.__doc__)"
      ],
      "metadata": {
        "colab": {
          "base_uri": "https://localhost:8080/"
        },
        "id": "GY28vbu_PmOZ",
        "outputId": "eb14a0e4-9b3a-4841-c591-1f69a1409fe0"
      },
      "execution_count": null,
      "outputs": [
        {
          "output_type": "stream",
          "name": "stdout",
          "text": [
            "\n",
            "    This function welcome's the user for Python class\n",
            "    \n",
            "None\n"
          ]
        }
      ]
    },
    {
      "cell_type": "code",
      "source": [
        "# function with return (mathematical)\n",
        "def add(x,y):\n",
        "    return x+y\n",
        "\n",
        "# call function\n",
        "add(4,6)"
      ],
      "metadata": {
        "colab": {
          "base_uri": "https://localhost:8080/"
        },
        "id": "C-riztrRPzqE",
        "outputId": "cfcfc458-10e5-46a6-bb66-686f71e7c576"
      },
      "execution_count": null,
      "outputs": [
        {
          "output_type": "execute_result",
          "data": {
            "text/plain": [
              "10"
            ]
          },
          "metadata": {},
          "execution_count": 5
        }
      ]
    },
    {
      "cell_type": "markdown",
      "source": [
        "## **Scope and life time of variables**"
      ],
      "metadata": {
        "id": "t0FurP8UP2sb"
      }
    },
    {
      "cell_type": "markdown",
      "source": [
        "### **Global variable**\n",
        "*   Variable that are not bound to any function, but can be accessed inside as well as outside the function are called global variables\n",
        "*   Lifetime of a variable is the period throughout which the variable exits in the memory"
      ],
      "metadata": {
        "id": "vY3UERBEP3Nx"
      }
    },
    {
      "cell_type": "code",
      "source": [
        "# Declaring global variable\n",
        "GlobalVar = \"This is a global variable\"\n",
        "\n",
        "def test_life_time():\n",
        "    print(GlobalVar)\n",
        "\n",
        "# Calling function\n",
        "test_life_time()\n",
        "\n",
        "# print global variable\n",
        "print(GlobalVar)"
      ],
      "metadata": {
        "colab": {
          "base_uri": "https://localhost:8080/"
        },
        "id": "ry9-vDQhP2AA",
        "outputId": "6c841184-3e2b-48bf-81df-d8e416319939"
      },
      "execution_count": null,
      "outputs": [
        {
          "output_type": "stream",
          "name": "stdout",
          "text": [
            "This is a global variable\n",
            "This is a global variable\n"
          ]
        }
      ]
    },
    {
      "cell_type": "markdown",
      "source": [
        "### **Local variable**\n",
        "*   Variables which are declared inside a function are called local variable\n",
        "*   The lifetime of variables inside a function is as long as the function executes. Variables are destroyed once we return from the function"
      ],
      "metadata": {
        "id": "wdA_Vv0sQLuh"
      }
    },
    {
      "cell_type": "code",
      "source": [
        "def test_life_time():\n",
        "    # declaring the local variable\n",
        "    LocalVar = \"This is local variable\"\n",
        "    print(LocalVar)\n",
        "\n",
        "# Calling function\n",
        "test_life_time()"
      ],
      "metadata": {
        "colab": {
          "base_uri": "https://localhost:8080/"
        },
        "id": "CQe-HcFbQK_F",
        "outputId": "5bb56a1c-9ab1-44b9-bb4f-64291eeadcd9"
      },
      "execution_count": null,
      "outputs": [
        {
          "output_type": "stream",
          "name": "stdout",
          "text": [
            "This is local variable\n"
          ]
        }
      ]
    },
    {
      "cell_type": "code",
      "source": [
        "# if local variable used outside function\n",
        "print(LocalVar)"
      ],
      "metadata": {
        "colab": {
          "base_uri": "https://localhost:8080/",
          "height": 198
        },
        "id": "IMLl-ypmQWjX",
        "outputId": "224acb20-6be1-469c-dc31-2eafb71ce686"
      },
      "execution_count": null,
      "outputs": [
        {
          "output_type": "error",
          "ename": "NameError",
          "evalue": "ignored",
          "traceback": [
            "\u001b[0;31m---------------------------------------------------------------------------\u001b[0m",
            "\u001b[0;31mNameError\u001b[0m                                 Traceback (most recent call last)",
            "\u001b[0;32m<ipython-input-8-4fd00b880b81>\u001b[0m in \u001b[0;36m<cell line: 2>\u001b[0;34m()\u001b[0m\n\u001b[1;32m      1\u001b[0m \u001b[0;31m# if local variable used outside function\u001b[0m\u001b[0;34m\u001b[0m\u001b[0;34m\u001b[0m\u001b[0m\n\u001b[0;32m----> 2\u001b[0;31m \u001b[0mprint\u001b[0m\u001b[0;34m(\u001b[0m\u001b[0mLocalVar\u001b[0m\u001b[0;34m)\u001b[0m\u001b[0;34m\u001b[0m\u001b[0;34m\u001b[0m\u001b[0m\n\u001b[0m",
            "\u001b[0;31mNameError\u001b[0m: name 'LocalVar' is not defined"
          ]
        }
      ]
    },
    {
      "cell_type": "markdown",
      "source": [
        "## **Function argument**\n",
        "We can call a function by using the following types of formal arguments -\n",
        "\n",
        "*   Default arguments\n",
        "*   Keyword arguments\n",
        "*   Arbitrary arguments"
      ],
      "metadata": {
        "id": "kYLoeouxQc96"
      }
    },
    {
      "cell_type": "markdown",
      "source": [
        "### **Default arguments**\n",
        "*   A default argument is an argument that assumes a default value if a value is not provided in the function call for that argument\n",
        "*   To specify default values of argument, you just need to assign a value using assignment operator '='\n",
        "*   It is also called positional arguments\n",
        "\n",
        "<br>\n",
        "Note:\n",
        "\n",
        "*   Any number of arguments in a function can have a default value\n",
        "*   Once we have a default argument, all the arguments to its right must also have default values\n",
        "*   Non-default arguments cannot follow default arguments"
      ],
      "metadata": {
        "id": "QY5pigMXQo4t"
      }
    },
    {
      "cell_type": "code",
      "source": [
        "# Function to welcome user with greeting message by providing default message\n",
        "def WelcomeUser(name, message = 'Have a nice day'):\n",
        "    \"\"\"\n",
        "    This function is to welcome user\n",
        "    \"\"\"\n",
        "    print('Deear {0}, {1}'.format(name,message))\n",
        "\n",
        "# calling function\n",
        "WelcomeUser('Linto')\n",
        "WelcomeUser('Rakesh', 'Good Morning')"
      ],
      "metadata": {
        "colab": {
          "base_uri": "https://localhost:8080/"
        },
        "id": "90h2j3ARQZv3",
        "outputId": "f0735c49-a266-45ee-eb30-06c85036cf2c"
      },
      "execution_count": null,
      "outputs": [
        {
          "output_type": "stream",
          "name": "stdout",
          "text": [
            "Deear Linto, Have a nice day\n",
            "Deear Rakesh, Good Morning\n"
          ]
        }
      ]
    },
    {
      "cell_type": "markdown",
      "source": [
        "### **Keyword Argument**\n",
        "*   Keyword arguments allows you to pass each arguments using 'name value' pairs. Eg: name='Linto'\n",
        "*   When we call functions using keyword arguments, the order (position) of the arguments can be changed\n",
        "*   It is fixed arguments. ie the number of arguments mentioned in functions are fixed\n",
        "\n",
        "<br>\n",
        "Note:\n",
        "\n",
        "*   '**kwargs' can be used to send multiple arguments using single keyword ie variable-length argument list\n",
        "*   It is similar to Dictionary concept\n",
        "*   It is possible to mix positional arguments and keyword arguments, but for this positional argument must appear before any keyword arguments.\n",
        "<br>Eg: EmployeeDetails('Linto',age='26',company='Google') --- Valid <br>EmployeeDetails('Linto',age='26','Google') --- invalid\n",
        "<br>syntaxError: non-keyword arg after keyword arg"
      ],
      "metadata": {
        "id": "TpqZ_6j9RFT-"
      }
    },
    {
      "cell_type": "code",
      "source": [
        "# function to display the employee details using '**kwargs'\n",
        "def EmployeeDetails(**user):\n",
        "    \"\"\"\n",
        "    This fuction used to display the employee details\n",
        "    \"\"\"\n",
        "    print('name:',user['name'])\n",
        "    print('age:',user['age'])\n",
        "    print('company:',user['company'])\n",
        "\n",
        "# calling the function\n",
        "EmployeeDetails(name='Linto',age='26',company='Google')\n",
        "\n",
        "# calling the function - in no order\n",
        "EmployeeDetails(age='26',company='Google',name='Linto')"
      ],
      "metadata": {
        "colab": {
          "base_uri": "https://localhost:8080/"
        },
        "id": "9NXH0d-0Q1_G",
        "outputId": "cd9b3642-f1be-4812-c680-e6b2990e2d06"
      },
      "execution_count": null,
      "outputs": [
        {
          "output_type": "stream",
          "name": "stdout",
          "text": [
            "name: Linto\n",
            "age: 26\n",
            "company: Google\n",
            "name: Linto\n",
            "age: 26\n",
            "company: Google\n"
          ]
        }
      ]
    },
    {
      "cell_type": "markdown",
      "source": [
        "### **Arbitrary Arguments**\n",
        "*   When the number of arguments passed into a function is dynamic, ie we do not know in advance the number of arguments, then it can be handled using arbitrary arguments\n",
        "*   In the function definition we use an asterisk () before the parameter name to denote it ie 'args'"
      ],
      "metadata": {
        "id": "l_XqXA1yRbEj"
      }
    },
    {
      "cell_type": "code",
      "source": [
        "# function to welcome all the user with greeting message\n",
        "def welcomeUser(*names):\n",
        "    \"\"\"\n",
        "    This function welcome all the user with greeting message\n",
        "    \"\"\"\n",
        "    print('The value entered by user',names)\n",
        "\n",
        "    for name in names:\n",
        "        print('Dear '+str(name)+', Welcome to Python Tutorials')\n",
        "\n",
        "# Note: Here values passed as Tuples - We can do any manipulation from these tuples\n",
        "welcomeUser('Linto','Albin','Arun')"
      ],
      "metadata": {
        "colab": {
          "base_uri": "https://localhost:8080/"
        },
        "id": "R6_k-1guRT94",
        "outputId": "7e19da64-2b68-4bfd-c3d6-02d018b900fe"
      },
      "execution_count": null,
      "outputs": [
        {
          "output_type": "stream",
          "name": "stdout",
          "text": [
            "The value entered by user ('Linto', 'Albin', 'Arun')\n",
            "Dear Linto, Welcome to Python Tutorials\n",
            "Dear Albin, Welcome to Python Tutorials\n",
            "Dear Arun, Welcome to Python Tutorials\n"
          ]
        }
      ]
    },
    {
      "cell_type": "markdown",
      "source": [
        "## **Recursion Function**\n",
        "*   Recursion is the process of defining something in terms of itself\n",
        "<br>Eg: Two mirrors faced each other parallel. Any object in between them would be reflected recursively\n",
        "*   We know that in Python, a function can call other functions. It is even possible for the function to call itself. These type of functions are called recursive functions\n",
        "*   Base Case: To prevent unbounded recursion, every recursive function should have a base case, which is a condition under which it stops invoking itself.\n",
        "*   The execution context or state of each recursive call is different. The current values of a function's parameters and variables are placed onto the call stack when it calls itself.\n",
        "*   Problem-Solving: Recursion is frequently used to solve problems that can be divided into smaller, simpler problems of the same type.\n",
        "*   Memory: Because recursive functions must retain stack frames for all recursive calls, they consume more memory than iterative versions.\n",
        "*   Efficiency: Because of the complexity of maintaining the stack, recursive functions can be less efficient and can result in a stack overflow for deep recursion.\n",
        "*   Readability: Despite potential inefficiencies, recursion can result in easier-to-read and write code for certain issues, such as traversing tree-like data structures, sorting algorithms (such as quicksort and mergesort), solving Tower of Hanoi, Fibonacci series, and so on.\n",
        "*   Remember that recursion is a tool, and whether or not to utilise it depends on the particular problem you're attempting to solve. Some issues lend themselves nicely to recursive solutions, while others may benefit from an iterative approach."
      ],
      "metadata": {
        "id": "nA4XTqPASGfR"
      }
    },
    {
      "cell_type": "code",
      "source": [
        "# program to print factorial of a number using recursive\n",
        "def factorial(num):\n",
        "    return 1 if num == 1 else (num * factorial(num-1))\n",
        "\n",
        "factorial(5)"
      ],
      "metadata": {
        "colab": {
          "base_uri": "https://localhost:8080/"
        },
        "id": "yWfECSCKR_8h",
        "outputId": "557a2661-3408-4daa-81cd-e1a608adb2fa"
      },
      "execution_count": null,
      "outputs": [
        {
          "output_type": "execute_result",
          "data": {
            "text/plain": [
              "120"
            ]
          },
          "metadata": {},
          "execution_count": 13
        }
      ]
    },
    {
      "cell_type": "markdown",
      "source": [
        "The Fibonacci sequence is a set of numbers in which each number is the sum of the two numbers before it. It usually starts with 0 and 1. In certain variants, it begins with two 1's.\n",
        "\n",
        "Here's the beginning of the Fibonacci sequence:\n",
        "\n",
        "0, 1, 1, 2, 3, 5, 8, 13, 21, ...\n",
        "\n",
        "You can see the pattern:\n",
        "\n",
        "0 + 1 = 1\n",
        "1 + 1 = 2\n",
        "1 + 2 = 3\n",
        "2 + 3 = 5\n",
        "3 + 5 = 8\n",
        "...\n",
        "Each number is the sum of the two numbers before it."
      ],
      "metadata": {
        "id": "7dCeYG1MTEzX"
      }
    },
    {
      "cell_type": "code",
      "source": [
        "def my_fibonacci(n):\n",
        "    a, b = 0, 1\n",
        "    for i in range(n):\n",
        "        print(a)\n",
        "        a, b = b, a + b\n",
        "\n",
        "my_fibonacci(7)"
      ],
      "metadata": {
        "colab": {
          "base_uri": "https://localhost:8080/"
        },
        "id": "VgoM_Jv2TAAW",
        "outputId": "ccd1427a-759c-4762-e5ae-020574a02535"
      },
      "execution_count": null,
      "outputs": [
        {
          "output_type": "stream",
          "name": "stdout",
          "text": [
            "0\n",
            "1\n",
            "1\n",
            "2\n",
            "3\n",
            "5\n",
            "8\n"
          ]
        }
      ]
    },
    {
      "cell_type": "markdown",
      "source": [
        "**Advantages**\n",
        "\n",
        "*   Recursive functions make the code look clean and elegant\n",
        "*   A complex task can be broken down into simpler sub-problems using recursion\n",
        "*   Sequence generation is easier with recursion than using some nested iteration\n",
        "\n",
        "**Disadvantages**\n",
        "\n",
        "*   Sometimes the logic behind recursion is hard to follow through\n",
        "*   Recursive calls are expensive (inefficient) as they take up a lot of memory and time\n",
        "*   Recursive functions are hard to debug"
      ],
      "metadata": {
        "id": "PmFI4rweTHyt"
      }
    },
    {
      "cell_type": "markdown",
      "source": [
        "## **Lambda function**\n",
        "*   Lambda functions are small, anonymous functions defined with the lambda keyword.\n",
        "*   They can take any number of arguments but can only have one expression.\n",
        "*   The expression is evaluated and returned when the function is called.\n",
        "*   Lambda functions do not require a return statement, the expression is implicitly returned.\n",
        "*   They can be used wherever function objects are required, like inside functions like map(), filter(), and reduce().\n",
        "*   You can't include statements like loops, if, or else in lambda functions; only expressions are allowed.\n",
        "*   Lambda functions are useful for small tasks that are not reused throughout your code.\n",
        "*   They can be assigned to variables and used like regular functions."
      ],
      "metadata": {
        "id": "l3lf9t6xTXHo"
      }
    },
    {
      "cell_type": "code",
      "source": [
        "# lambda arguments: expression\n",
        "\n",
        "add = lambda x, y: x + y\n",
        "print(add(5, 3))"
      ],
      "metadata": {
        "colab": {
          "base_uri": "https://localhost:8080/"
        },
        "id": "_VdR82tZTVrd",
        "outputId": "be9c618d-2742-46e3-df8f-9a7b00dda378"
      },
      "execution_count": null,
      "outputs": [
        {
          "output_type": "stream",
          "name": "stdout",
          "text": [
            "8\n"
          ]
        }
      ]
    },
    {
      "cell_type": "code",
      "source": [
        "# Define a lambda function that takes three arguments and returns their sum\n",
        "add_three_numbers = lambda x, y, z: x + y + z\n",
        "\n",
        "# Use the lambda function\n",
        "result = add_three_numbers(5, 3, 8)\n",
        "print(result)"
      ],
      "metadata": {
        "colab": {
          "base_uri": "https://localhost:8080/"
        },
        "id": "cOvvpZSQT5Jo",
        "outputId": "f7d8ecde-89ae-470b-8422-5de2a5c02644"
      },
      "execution_count": null,
      "outputs": [
        {
          "output_type": "stream",
          "name": "stdout",
          "text": [
            "16\n"
          ]
        }
      ]
    },
    {
      "cell_type": "code",
      "source": [
        "square = lambda x: x ** 2\n",
        "print(square(5))"
      ],
      "metadata": {
        "colab": {
          "base_uri": "https://localhost:8080/"
        },
        "id": "Kz28nbU2T_hI",
        "outputId": "a720afb0-a8ed-4768-94d3-4b2dd0537384"
      },
      "execution_count": null,
      "outputs": [
        {
          "output_type": "stream",
          "name": "stdout",
          "text": [
            "25\n"
          ]
        }
      ]
    },
    {
      "cell_type": "code",
      "source": [
        "even_or_odd = lambda x: 'even' if x%2==0 else 'odd'\n",
        "print(even_or_odd(7))"
      ],
      "metadata": {
        "colab": {
          "base_uri": "https://localhost:8080/"
        },
        "id": "32cZWpe7UCAY",
        "outputId": "2c0b9884-ef36-4079-8f4b-0579a3d6f028"
      },
      "execution_count": null,
      "outputs": [
        {
          "output_type": "stream",
          "name": "stdout",
          "text": [
            "odd\n"
          ]
        }
      ]
    },
    {
      "cell_type": "code",
      "source": [
        "lambda_function = lambda x: [i ** 2 for i in x]\n",
        "print(lambda_function([1, 2, 3, 4, 5]))"
      ],
      "metadata": {
        "colab": {
          "base_uri": "https://localhost:8080/"
        },
        "id": "FF4woHKbUEOb",
        "outputId": "b71e407e-f9ba-45be-9a47-434d73783e74"
      },
      "execution_count": null,
      "outputs": [
        {
          "output_type": "stream",
          "name": "stdout",
          "text": [
            "[1, 4, 9, 16, 25]\n"
          ]
        }
      ]
    },
    {
      "cell_type": "markdown",
      "source": [
        "*   Lambda functions are especially useful when you want to define a small function to pass as an argument to another function.\n",
        "*   They're often used with functions like map(), filter(), reduce(), and sorted().\n",
        "\n",
        "**Let's take a real-world use case involving sorting:**\n",
        "\n",
        "*   Consider you have a list of dictionaries, where each dictionary represents a product with a name and a price. You want to sort this list of products based on the price."
      ],
      "metadata": {
        "id": "AeCyBy1CULGe"
      }
    },
    {
      "cell_type": "code",
      "source": [
        "# A list of dictionaries is created, where each dictionary represents a product.\n",
        "# Each product has two properties: 'name' and 'price'.\n",
        "\n",
        "products = [\n",
        "    {'name': 'Product1', 'price': 50},\n",
        "    {'name': 'Product2', 'price': 30},\n",
        "    {'name': 'Product3', 'price': 40},\n",
        "    {'name': 'Product4', 'price': 20},\n",
        "]\n",
        "\n",
        "# The products list and a lambda function are passed to the sorted() method.\n",
        "# The sorted() function's key parameter accepts a function as an argument.\n",
        "# This function generates a'sorting key' for each entry in the list.\n",
        "\n",
        "# In this case, the lambda function lambda x: x['price'] takes an argument (a dictionary) and returns the value of its 'price' key.\n",
        "# These pricing values are used by the sorted() method to compare products and determine their rank in the sorted list.\n",
        "\n",
        "sorted_products = sorted(products, key=lambda x: x['price'])\n",
        "\n",
        "for product in sorted_products:\n",
        "    print(product)"
      ],
      "metadata": {
        "colab": {
          "base_uri": "https://localhost:8080/"
        },
        "id": "HWJuVsvrUHK4",
        "outputId": "1792c433-0fd7-4349-ca0d-512c1d395178"
      },
      "execution_count": null,
      "outputs": [
        {
          "output_type": "stream",
          "name": "stdout",
          "text": [
            "{'name': 'Product4', 'price': 20}\n",
            "{'name': 'Product2', 'price': 30}\n",
            "{'name': 'Product3', 'price': 40}\n",
            "{'name': 'Product1', 'price': 50}\n"
          ]
        }
      ]
    },
    {
      "cell_type": "markdown",
      "source": [
        "# **Python Flow Control**\n"
      ],
      "metadata": {
        "id": "piPXSACIUbzX"
      }
    },
    {
      "cell_type": "markdown",
      "source": [
        "## **if..elif..else statement**\n",
        "it is used in Python for decision making. It is required when we want to execute a code only if a certain condition is satisfied.\n",
        "\n",
        "Python is having 4 types of control statement\n",
        "\n",
        "*   if\n",
        "*   if else\n",
        "*   if elif else\n",
        "*   nested if"
      ],
      "metadata": {
        "id": "ac7QriakVD-M"
      }
    },
    {
      "cell_type": "code",
      "source": [
        "# if, elif, else statement\n",
        "num = 9\n",
        "if num > 0:\n",
        "    print('Positive Number')\n",
        "elif num == 0:\n",
        "    print('Zero')\n",
        "else:\n",
        "    print('Negative Number')"
      ],
      "metadata": {
        "colab": {
          "base_uri": "https://localhost:8080/"
        },
        "id": "_SGqEFnLUWMV",
        "outputId": "a99df798-32b8-43cb-9139-847e487b7b3b"
      },
      "execution_count": null,
      "outputs": [
        {
          "output_type": "stream",
          "name": "stdout",
          "text": [
            "Positive Number\n"
          ]
        }
      ]
    },
    {
      "cell_type": "code",
      "source": [
        "# nested if\n",
        "num = 9\n",
        "if num >= 0:\n",
        "    if num == 0:\n",
        "        print('Zero')\n",
        "    else:\n",
        "        print('Positive Number')\n",
        "else:\n",
        "    print('Negative Number')"
      ],
      "metadata": {
        "colab": {
          "base_uri": "https://localhost:8080/"
        },
        "id": "wY-mE1IhVgzg",
        "outputId": "9f8c38bc-7682-46e1-ff24-4c1e9b09a2b3"
      },
      "execution_count": null,
      "outputs": [
        {
          "output_type": "stream",
          "name": "stdout",
          "text": [
            "Positive Number\n"
          ]
        }
      ]
    },
    {
      "cell_type": "markdown",
      "source": [
        "## **While loop**\n",
        "*   Used to iterate over a block of code as long as the test expression(condition) is true\n",
        "*   A loop becomes infinite loop if a condition never becomes FALSE.\n",
        "*   USe CTRL+C to exit the program."
      ],
      "metadata": {
        "id": "Wz0zNz0jVlE2"
      }
    },
    {
      "cell_type": "code",
      "source": [
        "i = 1\n",
        "while i<=4:\n",
        "    print(i)\n",
        "    i += 1\n",
        "else:\n",
        "    print('Else statement is executed')\n",
        "\n",
        "print('Program Executed!')"
      ],
      "metadata": {
        "colab": {
          "base_uri": "https://localhost:8080/"
        },
        "id": "4-L51gmNViav",
        "outputId": "cb50a8c9-01b8-4426-a03f-8db5885e3b89"
      },
      "execution_count": null,
      "outputs": [
        {
          "output_type": "stream",
          "name": "stdout",
          "text": [
            "1\n",
            "2\n",
            "3\n",
            "4\n",
            "Else statement is executed\n",
            "Program Executed!\n"
          ]
        }
      ]
    },
    {
      "cell_type": "markdown",
      "source": [
        "## **For Loop**\n",
        "*   The for loop in Python is used to iterate over a sequence (list, tuple, string) or other iterable objects\n",
        "*   Iterating over a sequence is called traversal"
      ],
      "metadata": {
        "id": "8jY8dY1cVvA-"
      }
    },
    {
      "cell_type": "code",
      "source": [
        "# list\n",
        "num = [1, 3, 5, 7]\n",
        "\n",
        "for i in num:\n",
        "    print(i)\n",
        "else:\n",
        "    print(\"List Loop Completed!\")\n",
        "\n",
        "# Range\n",
        "for i in range(0,10,3):\n",
        "    print(i)\n",
        "else:\n",
        "    print(\"Range Loop Completed!\")\n",
        "\n",
        "# Program to find the sum of all numbers stored in a list\n",
        "sum = 0\n",
        "\n",
        "for i in num:\n",
        "    sum += i\n",
        "print(\"sum of numbers in list:\",sum)"
      ],
      "metadata": {
        "colab": {
          "base_uri": "https://localhost:8080/"
        },
        "id": "47H3yTH1V2DF",
        "outputId": "c75beb82-d5f5-458a-fecd-1eccf5f6cf4a"
      },
      "execution_count": null,
      "outputs": [
        {
          "output_type": "stream",
          "name": "stdout",
          "text": [
            "1\n",
            "3\n",
            "5\n",
            "7\n",
            "List Loop Completed!\n",
            "0\n",
            "3\n",
            "6\n",
            "9\n",
            "Range Loop Completed!\n",
            "sum of numbers in list: 16\n"
          ]
        }
      ]
    },
    {
      "cell_type": "code",
      "source": [
        "# iterating by sequence index\n",
        "fruits = [\"Apple\",\"Banana\",\"Orange\",\"Mango\",\"Cherry\"]\n",
        "\n",
        "for i in range(len(fruits)):\n",
        "    print('Fruit name is :',fruits[i])"
      ],
      "metadata": {
        "colab": {
          "base_uri": "https://localhost:8080/"
        },
        "id": "c6mlfV-dV4LL",
        "outputId": "1df6bfd5-25cf-4704-f69d-fbee438dc259"
      },
      "execution_count": null,
      "outputs": [
        {
          "output_type": "stream",
          "name": "stdout",
          "text": [
            "Fruit name is : Apple\n",
            "Fruit name is : Banana\n",
            "Fruit name is : Orange\n",
            "Fruit name is : Mango\n",
            "Fruit name is : Cherry\n"
          ]
        }
      ]
    },
    {
      "cell_type": "code",
      "source": [
        "# enumerate() method add a counter to an iterable and returns it in a form of enumerate object\n",
        "\n",
        "for index,value in enumerate(fruits):\n",
        "    print(index,value)"
      ],
      "metadata": {
        "colab": {
          "base_uri": "https://localhost:8080/"
        },
        "id": "QLwi1jQZV6e5",
        "outputId": "ad3b634b-9f68-48b0-ba49-726bafea9e5a"
      },
      "execution_count": null,
      "outputs": [
        {
          "output_type": "stream",
          "name": "stdout",
          "text": [
            "0 Apple\n",
            "1 Banana\n",
            "2 Orange\n",
            "3 Mango\n",
            "4 Cherry\n"
          ]
        }
      ]
    },
    {
      "cell_type": "code",
      "source": [
        "#Nested for loop\n",
        "for i in range(0,2):\n",
        "    for j in range(0,2):\n",
        "        print(i,j)"
      ],
      "metadata": {
        "colab": {
          "base_uri": "https://localhost:8080/"
        },
        "id": "2-5VtqKtV8L8",
        "outputId": "cf27a0d4-5f96-4552-8ef9-45f9018c6c7c"
      },
      "execution_count": null,
      "outputs": [
        {
          "output_type": "stream",
          "name": "stdout",
          "text": [
            "0 0\n",
            "0 1\n",
            "1 0\n",
            "1 1\n"
          ]
        }
      ]
    },
    {
      "cell_type": "markdown",
      "source": [
        "## **While loop vs for loop**\n",
        "*   **Use Case:**\n",
        "<br>Use while when the number of iterations is not known beforehand and depends on a certain condition.\n",
        "<br>Use for when iterating over a sequence or when the number of iterations is known.\n",
        "\n",
        "*   **Condition:**\n",
        "<br>while loop requires a condition that needs to be True for the loop to continue.\n",
        "<br>for loop iterates over elements in a sequence."
      ],
      "metadata": {
        "id": "QCS-pAqgWZsz"
      }
    },
    {
      "cell_type": "markdown",
      "source": [
        "## **Break & Countinue Statement**"
      ],
      "metadata": {
        "id": "2cCcW-LVW88H"
      }
    },
    {
      "cell_type": "code",
      "source": [
        "# Break\n",
        "for i in range(10):\n",
        "    print(i)\n",
        "    if i == 3:\n",
        "        break"
      ],
      "metadata": {
        "colab": {
          "base_uri": "https://localhost:8080/"
        },
        "id": "sp8bO8GrV97F",
        "outputId": "5a4c731c-2539-47ba-ef73-871e5a62620d"
      },
      "execution_count": null,
      "outputs": [
        {
          "output_type": "stream",
          "name": "stdout",
          "text": [
            "0\n",
            "1\n",
            "2\n",
            "3\n"
          ]
        }
      ]
    },
    {
      "cell_type": "code",
      "source": [
        "# Break statement on nested loops\n",
        "for i in range(0,3):\n",
        "    for j in range(0,3):\n",
        "        print(i,j)\n",
        "        if j == 1:\n",
        "            break"
      ],
      "metadata": {
        "colab": {
          "base_uri": "https://localhost:8080/"
        },
        "id": "jOr9ehNzXDYr",
        "outputId": "885f0001-ca20-40e6-ae70-8e6ff8caf8ef"
      },
      "execution_count": null,
      "outputs": [
        {
          "output_type": "stream",
          "name": "stdout",
          "text": [
            "0 0\n",
            "0 1\n",
            "1 0\n",
            "1 1\n",
            "2 0\n",
            "2 1\n"
          ]
        }
      ]
    },
    {
      "cell_type": "markdown",
      "source": [
        "Note: In nested loops, the break statement stops the execution of the innermost loop and start executing the next line of code after the bolck"
      ],
      "metadata": {
        "id": "9ty6e_EGXm-o"
      }
    },
    {
      "cell_type": "code",
      "source": [
        "# countinue\n",
        "i = 0\n",
        "while i <= 5:\n",
        "    i += 1\n",
        "    if i == 2:\n",
        "        continue\n",
        "    print(i)"
      ],
      "metadata": {
        "colab": {
          "base_uri": "https://localhost:8080/"
        },
        "id": "-nh6AC6FXFbI",
        "outputId": "eedb2bc9-5ce5-42fb-8e91-4dba5c48f223"
      },
      "execution_count": null,
      "outputs": [
        {
          "output_type": "stream",
          "name": "stdout",
          "text": [
            "1\n",
            "3\n",
            "4\n",
            "5\n",
            "6\n"
          ]
        }
      ]
    },
    {
      "cell_type": "markdown",
      "source": [
        "Note: Countinue statement rejects all the remaining statements in the current iteration of the loop and moves the control back to the top of the loop"
      ],
      "metadata": {
        "id": "P72KFftaXc8P"
      }
    },
    {
      "cell_type": "code",
      "source": [
        "# print even numbers present in a list\n",
        "for i in range(10):\n",
        "    if i % 2 != 0:\n",
        "        continue\n",
        "    print(i)"
      ],
      "metadata": {
        "colab": {
          "base_uri": "https://localhost:8080/"
        },
        "id": "z6GEpebCXZ6h",
        "outputId": "e22662a0-e82a-4260-ff0e-05102f92ffa9"
      },
      "execution_count": null,
      "outputs": [
        {
          "output_type": "stream",
          "name": "stdout",
          "text": [
            "0\n",
            "2\n",
            "4\n",
            "6\n",
            "8\n"
          ]
        }
      ]
    },
    {
      "cell_type": "code",
      "source": [
        "i = 1\n",
        "j = 4\n",
        "\n",
        "while i < 3:\n",
        "    while j < 8:\n",
        "        print(i, \",\", j)\n",
        "        j = j + 1\n",
        "        i = i + 1"
      ],
      "metadata": {
        "colab": {
          "base_uri": "https://localhost:8080/"
        },
        "id": "S9PfpAjOXfT6",
        "outputId": "89b3c6d4-16d3-4b09-ff21-4c1c1b1aa2ec"
      },
      "execution_count": null,
      "outputs": [
        {
          "output_type": "stream",
          "name": "stdout",
          "text": [
            "1 , 4\n",
            "2 , 5\n",
            "3 , 6\n",
            "4 , 7\n"
          ]
        }
      ]
    }
  ]
}