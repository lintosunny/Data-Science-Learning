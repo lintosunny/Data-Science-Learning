{
  "nbformat": 4,
  "nbformat_minor": 0,
  "metadata": {
    "colab": {
      "provenance": [],
      "authorship_tag": "ABX9TyNsHDT4TrBMw7pRMXNQOMle",
      "include_colab_link": true
    },
    "kernelspec": {
      "name": "python3",
      "display_name": "Python 3"
    },
    "language_info": {
      "name": "python"
    }
  },
  "cells": [
    {
      "cell_type": "markdown",
      "metadata": {
        "id": "view-in-github",
        "colab_type": "text"
      },
      "source": [
        "<a href=\"https://colab.research.google.com/github/lintosunny/Data-Science-Learning/blob/main/%5BWeek_06%5D_Python_file_handling.ipynb\" target=\"_parent\"><img src=\"https://colab.research.google.com/assets/colab-badge.svg\" alt=\"Open In Colab\"/></a>"
      ]
    },
    {
      "cell_type": "markdown",
      "source": [
        "## Working with JSON objects\n",
        "JSON = Java Script Object Notation <br>\n",
        "JSON is a data exchange format similar to XML and JSON is lightweight compared to XML.\n",
        "\n",
        "\n"
      ],
      "metadata": {
        "id": "YixR4AQBFzJ7"
      }
    },
    {
      "cell_type": "code",
      "execution_count": 1,
      "metadata": {
        "colab": {
          "base_uri": "https://localhost:8080/"
        },
        "id": "ne3NgOBDFeja",
        "outputId": "a5d38fa1-ef1f-4868-d723-9b05b1b6d9c4"
      },
      "outputs": [
        {
          "output_type": "stream",
          "name": "stdout",
          "text": [
            "{\"tom\": {\"name\": \"tom\", \"address\": \"1 red street, NY\", \"phone\": 1234567890}, \"bob\": {\"name\": \"bob\", \"address\": \"1 green street, NY\", \"phone\": 9876543210}}\n"
          ]
        }
      ],
      "source": [
        "book = {}\n",
        "\n",
        "book['tom'] = {\n",
        "    'name': 'tom',\n",
        "    'address': '1 red street, NY',\n",
        "    'phone': 1234567890\n",
        "}\n",
        "\n",
        "book['bob'] = {\n",
        "    'name': 'bob',\n",
        "    'address': '1 green street, NY',\n",
        "    'phone': 9876543210\n",
        "}\n",
        "\n",
        "import json\n",
        "s = json.dumps(book)\n",
        "print(s)"
      ]
    },
    {
      "cell_type": "code",
      "source": [
        "# save data\n",
        "with open('books.txt', 'w') as f:\n",
        "    f.write(s)"
      ],
      "metadata": {
        "id": "trB5lhxVHMmc"
      },
      "execution_count": 5,
      "outputs": []
    },
    {
      "cell_type": "code",
      "source": [
        "# read data\n",
        "f = open('books.txt', 'r')\n",
        "s = f.read()\n",
        "print(s)\n",
        "\n",
        "book = json.loads(s)\n",
        "print(book)"
      ],
      "metadata": {
        "colab": {
          "base_uri": "https://localhost:8080/"
        },
        "id": "egrAKmSNHz1D",
        "outputId": "d78e6bea-fc18-4def-eaba-49798ca9be40"
      },
      "execution_count": 7,
      "outputs": [
        {
          "output_type": "stream",
          "name": "stdout",
          "text": [
            "{\"tom\": {\"name\": \"tom\", \"address\": \"1 red street, NY\", \"phone\": 1234567890}, \"bob\": {\"name\": \"bob\", \"address\": \"1 green street, NY\", \"phone\": 9876543210}}\n",
            "{'tom': {'name': 'tom', 'address': '1 red street, NY', 'phone': 1234567890}, 'bob': {'name': 'bob', 'address': '1 green street, NY', 'phone': 9876543210}}\n"
          ]
        }
      ]
    },
    {
      "cell_type": "code",
      "source": [
        "book['bob']"
      ],
      "metadata": {
        "colab": {
          "base_uri": "https://localhost:8080/"
        },
        "id": "e4RSILI5INlB",
        "outputId": "656837da-b07a-4a0a-a9e4-045a407a8156"
      },
      "execution_count": 8,
      "outputs": [
        {
          "output_type": "execute_result",
          "data": {
            "text/plain": [
              "{'name': 'bob', 'address': '1 green street, NY', 'phone': 9876543210}"
            ]
          },
          "metadata": {},
          "execution_count": 8
        }
      ]
    },
    {
      "cell_type": "code",
      "source": [
        "book['bob']['phone']"
      ],
      "metadata": {
        "colab": {
          "base_uri": "https://localhost:8080/"
        },
        "id": "3Czz9sG1IQXs",
        "outputId": "30cea01f-19c5-49a0-af24-f241ed4a6347"
      },
      "execution_count": 9,
      "outputs": [
        {
          "output_type": "execute_result",
          "data": {
            "text/plain": [
              "9876543210"
            ]
          },
          "metadata": {},
          "execution_count": 9
        }
      ]
    },
    {
      "cell_type": "code",
      "source": [
        "for person in book:\n",
        "  print(book[person])"
      ],
      "metadata": {
        "colab": {
          "base_uri": "https://localhost:8080/"
        },
        "id": "_wQRj2BpIUNi",
        "outputId": "b30d8011-0149-4b4d-b848-907a6ca6ff72"
      },
      "execution_count": 10,
      "outputs": [
        {
          "output_type": "stream",
          "name": "stdout",
          "text": [
            "{'name': 'tom', 'address': '1 red street, NY', 'phone': 1234567890}\n",
            "{'name': 'bob', 'address': '1 green street, NY', 'phone': 9876543210}\n"
          ]
        }
      ]
    },
    {
      "cell_type": "markdown",
      "source": [
        "## Reading and writing files"
      ],
      "metadata": {
        "id": "7anwc_MeI13G"
      }
    },
    {
      "cell_type": "code",
      "source": [
        "# write\n",
        "f = open('c:\\\\data\\\\test.txt', 'w')\n",
        "f.write('this is a test')\n",
        "f.close()"
      ],
      "metadata": {
        "id": "wOmt3_SBI5Xp"
      },
      "execution_count": null,
      "outputs": []
    },
    {
      "cell_type": "code",
      "source": [
        "# append\n",
        "f = open('c:\\\\data\\\\test.txt', 'w')\n",
        "f.write('this is a test v2')\n",
        "f.close()"
      ],
      "metadata": {
        "id": "s3vvbf8PJD8A"
      },
      "execution_count": null,
      "outputs": []
    },
    {
      "cell_type": "code",
      "source": [
        "# read\n",
        "f = open('c:\\\\data\\\\test.txt', 'r')\n",
        "print(f.read())\n",
        "f.close()\n",
        "\n",
        "# read line by line\n",
        "f = open('c:\\\\data\\\\test.txt', 'r')\n",
        "for line in f:\n",
        "  print(line)\n",
        "f.close()\n",
        "\n",
        "# split line using space\n",
        "f = open('c:\\\\data\\\\test.txt', 'r')\n",
        "for line in f:\n",
        "  words = line.split(\" \")\n",
        "  print(words)\n",
        "f.close()"
      ],
      "metadata": {
        "id": "JpeMhRviJP7A"
      },
      "execution_count": null,
      "outputs": []
    },
    {
      "cell_type": "markdown",
      "source": [
        "### **File open modes**\n",
        "* r : opens file for reading only. Throws error if file not exist.\n",
        "* w : opens file for writing only. If file doesn't exist create new one or rewrite the existing file.\n",
        "* r+ : opens file for both reading and writing.\n",
        "* w+ : opens file for both reading and writing. If file doesn't exist create new one or rewrite the existing file.\n",
        "* a : opens a file in a append mode. append only no original content will be overwritten."
      ],
      "metadata": {
        "id": "Xb6hOvEgKQhH"
      }
    },
    {
      "cell_type": "code",
      "source": [
        "# Don't need to do f.close() if we are using with\n",
        "# Using with will automatically close the file\n",
        "\n",
        "with open('c:\\\\data\\\\test.txt', 'r') as f:\n",
        "  print(f.read())"
      ],
      "metadata": {
        "id": "0XNb6dGELUKE"
      },
      "execution_count": null,
      "outputs": []
    },
    {
      "cell_type": "markdown",
      "source": [
        "\n",
        "\n",
        "`__name__` is a predefined variable in python that has the value of `__main__`"
      ],
      "metadata": {
        "id": "8HIGKfTML4n2"
      }
    },
    {
      "cell_type": "code",
      "source": [
        "# entry point in python. If i have this in x file __name__ will return __main__ and if I am executing this in y it will return __name__ as x.\n",
        "\n",
        "if __name__ == '__main__':\n",
        "  print('this is a test')"
      ],
      "metadata": {
        "id": "E4KxPXnHMN3v"
      },
      "execution_count": null,
      "outputs": []
    }
  ]
}