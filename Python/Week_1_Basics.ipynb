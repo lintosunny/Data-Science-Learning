{
  "nbformat": 4,
  "nbformat_minor": 0,
  "metadata": {
    "colab": {
      "provenance": []
    },
    "kernelspec": {
      "name": "python3",
      "display_name": "Python 3"
    },
    "language_info": {
      "name": "python"
    }
  },
  "cells": [
    {
      "cell_type": "markdown",
      "source": [
        "# **Python Introduction**"
      ],
      "metadata": {
        "id": "4UdAkVwGDHk-"
      }
    },
    {
      "cell_type": "markdown",
      "source": [
        "**3 Important coding tips to help your coding journey**\n",
        "\n",
        "*   Depth of knowledge about the IDE which we are using it. This makes our work easier.\n",
        "\n",
        "*   Debugging skills. This Particular skill will reduce a lot of coding efforts, especially while fixing issues.\n",
        "\n",
        "*   Use Google search and tools like ChatGPT effectively - Trial and error method."
      ],
      "metadata": {
        "id": "RQ5r8QiUDpyZ"
      }
    },
    {
      "cell_type": "markdown",
      "source": [
        "**Topics covered:**\n",
        "\n",
        "\n",
        "*   Identifiers\n",
        "*   Keywords\n",
        "*   Variables\n",
        "*   comments and indendations\n",
        "*   Standard input and output\n",
        "*   Operators\n",
        "\n",
        "\n"
      ],
      "metadata": {
        "id": "KNZDI4-jEZNy"
      }
    },
    {
      "cell_type": "markdown",
      "source": [
        "## **Identifiers**"
      ],
      "metadata": {
        "id": "e-oJVSH9EOvr"
      }
    },
    {
      "cell_type": "markdown",
      "source": [
        "A python identifier is a name used to identify a variable, function, class, module or other object.\n",
        "\n",
        "Here are the rules for Python identifiers:\n",
        "\n",
        "*   **Case Sensitivity**: Python identifiers are case-sensitive. For example, myVar and myvar are different identifiers.\n",
        "*   **Syntax**:\n",
        "  *   Identifiers can be a combination of letters in lowercase (a to z) or uppercase (A to Z) or digits (0 to 9) or an underscore (_).\n",
        "  *   Can't start with digits.\n",
        "  *   No spaces or special characters (except underscore) are not allowed.\n",
        "*   **Reserved Words**: Python keywords cannot be used as identifiers. Words like for, while, break, continue, in, elif, else, import, from, pass, return, etc. are reserved words. You can view all keywords in your current version by typing help(\"keywords\") in the Python interpreter.\n",
        "*   **Length**: There is no maximum length for identifiers in Python, but it's advisable to keep them reasonable for readability.\n",
        "*   **Private Identifiers**: In Python, if the identifier starts with a single underscore, it indicates that it is a non-public part of the class, module, or function. This is just a convention and Python doesn't enforce it. If it starts with two underscores, it's a strongly private identifier. If the identifier also ends with two trailing underscores, the identifier is a language-defined special name.\n",
        "*   **Non-ASCII Identifiers**: Python 3 allows the use of non-ASCII letters in the identifiers. This means you can use letters like é, ñ, ö, я, etc. in your identifiers if you wish.\n",
        "*  **Convention**: Follow the PEP 8 style guide recommendations for naming conventions.\n",
        "For example:\n",
        "  *   Use lowercase letters for variable and function names (e.g., my_variable)\n",
        "  *   Use uppercase letters for constants (e.g., MY_CONSTANT)\n",
        "  *   Use a mix of uppercase and lowercase letters for class names (e.g., MyClass)\n",
        "  *   While a single underscore _ is a valid identifier,it's generally recommended to avoid using. It is often used as a special variable in some contexts.\n"
      ],
      "metadata": {
        "id": "xKfQVtl8GzWa"
      }
    },
    {
      "cell_type": "code",
      "source": [
        "# Valid Identifiers\n",
        "variable_name = 42\n",
        "my_variable = \"Hello\"\n",
        "_my_variable = \"Private\"\n",
        "CONSTANT_VALUE = 3.14\n",
        "ClassName = \"MyClass\"\n",
        "\n",
        "# Invalid Identifiers\n",
        "1st_variable = 10    # Cannot start with a digit\n",
        "variable-name = 20   # Hyphen is not allowed\n",
        "if = 5               # Cannot use a reserved keyword as an identifier"
      ],
      "metadata": {
        "id": "wFxUCkIHDZFF"
      },
      "execution_count": null,
      "outputs": []
    },
    {
      "cell_type": "markdown",
      "source": [
        "## **Keywords**"
      ],
      "metadata": {
        "id": "uYXEmgqRLnHi"
      }
    },
    {
      "cell_type": "markdown",
      "source": [
        "Words are reserved to represent some meanings or funcionality.\n",
        "\n",
        "*   **Immutability**: Keywords are immutable. This means their meaning and definition can't be altered.\n",
        "*   **Case Sensitivity**: Keywords are case-sensitive. For example, True is a valid keyword, but true is not.\n",
        "*   **Total Number**: As of Python 3.9, there are 35 keywords.\n",
        "*   **List of Keywords**: The complete list of Python keywords are False, None, True, and, as, assert, async, await, break, class, continue, def, del, elif, else, except, finally, for, from, global, if, import, in, is, lambda, nonlocal, not, or, pass, raise, return, try, while, with, yield.\n",
        "*   **Special Keywords**: async and await are used for handling asynchronous processing, and they became keywords in Python 3.7.\n",
        "*   **Usage**: Each keyword has a specific meaning and usage in Python programming. For instance, def is used for defining functions, if is used for making conditional statements, for and while are used for loops, class is used for defining a class, and so on.\n",
        "*   **Identifying Keywords**: You can get the list of all keywords in Python by using the following code:"
      ],
      "metadata": {
        "id": "QxM93yjoLtwG"
      }
    },
    {
      "cell_type": "code",
      "source": [
        "# instal package \"keyword\" to check how many keywords are there\n",
        "# pip install keyword\n",
        "\n",
        "# load package\n",
        "import keyword\n",
        "\n",
        "# display all keywords\n",
        "print(keyword.kwlist)"
      ],
      "metadata": {
        "colab": {
          "base_uri": "https://localhost:8080/"
        },
        "id": "yZ4zufRnLr_Z",
        "outputId": "75aaabf5-58f3-4d12-fd7f-dec0103d9ad9"
      },
      "execution_count": null,
      "outputs": [
        {
          "output_type": "stream",
          "name": "stdout",
          "text": [
            "['False', 'None', 'True', 'and', 'as', 'assert', 'async', 'await', 'break', 'class', 'continue', 'def', 'del', 'elif', 'else', 'except', 'finally', 'for', 'from', 'global', 'if', 'import', 'in', 'is', 'lambda', 'nonlocal', 'not', 'or', 'pass', 'raise', 'return', 'try', 'while', 'with', 'yield']\n"
          ]
        }
      ]
    },
    {
      "cell_type": "code",
      "source": [],
      "metadata": {
        "id": "NBKUZMjJM__T"
      },
      "execution_count": null,
      "outputs": []
    },
    {
      "cell_type": "markdown",
      "source": [
        "## **Variables**"
      ],
      "metadata": {
        "id": "iiKNgnsINAxq"
      }
    },
    {
      "cell_type": "markdown",
      "source": [
        "*   Reserved memory locations to store values(data). This means that when you create a variable you reserve some space in memory\n",
        "*   Variables are declared by writing the variable name and assigning it a value using the equals sign (=).\n",
        "*   **Dynamic Typing**: Python is dynamically typed, which means that you don't have to declare the type of a variable when you create one. You can even change the type of data held by a variable at any time.\n",
        "*   **Location**: id is used to find the address or location of the variables"
      ],
      "metadata": {
        "id": "FDpWBRt6N21O"
      }
    },
    {
      "cell_type": "code",
      "source": [
        "# Assigning variable name a for 5\n",
        "a = 5\n",
        "\n",
        "# Using id to find the location of variable a\n",
        "id(a)"
      ],
      "metadata": {
        "colab": {
          "base_uri": "https://localhost:8080/"
        },
        "id": "TvZzJugANXPa",
        "outputId": "7530e79d-c3fb-471d-ed85-1e9cd6142aba"
      },
      "execution_count": null,
      "outputs": [
        {
          "output_type": "execute_result",
          "data": {
            "text/plain": [
              "136775235125616"
            ]
          },
          "metadata": {},
          "execution_count": 5
        }
      ]
    },
    {
      "cell_type": "markdown",
      "source": [
        "### **Creating and Assigning Values to Variables**"
      ],
      "metadata": {
        "id": "LVf9lXF9Ozqp"
      }
    },
    {
      "cell_type": "code",
      "source": [
        "# Declaring the variables\n",
        "number = 123\n",
        "string = \"Linto\"\n",
        "float = 8.4\n",
        "\n",
        "print(number, string, float)"
      ],
      "metadata": {
        "colab": {
          "base_uri": "https://localhost:8080/"
        },
        "id": "H9_cV8PvOgGs",
        "outputId": "dd6378f8-c9c5-455d-bbe3-13742617c8cb"
      },
      "execution_count": null,
      "outputs": [
        {
          "output_type": "stream",
          "name": "stdout",
          "text": [
            "123 Linto 8.4\n"
          ]
        }
      ]
    },
    {
      "cell_type": "code",
      "source": [
        "# 1.Multiple variables in single row\n",
        "a, b, c, d =  1, 2, 3, 4\n",
        "print(a, b, c, d)"
      ],
      "metadata": {
        "colab": {
          "base_uri": "https://localhost:8080/"
        },
        "id": "igFCMbnjPBXU",
        "outputId": "030782ab-45c7-4f75-b815-3e05c742cbca"
      },
      "execution_count": null,
      "outputs": [
        {
          "output_type": "stream",
          "name": "stdout",
          "text": [
            "1 2 3 4\n"
          ]
        }
      ]
    },
    {
      "cell_type": "code",
      "source": [
        "# 2.Multiple variables of different data types\n",
        "x, y, z = \"Linto\", 8, 2.3\n",
        "print(x, y, z)"
      ],
      "metadata": {
        "colab": {
          "base_uri": "https://localhost:8080/"
        },
        "id": "EFwHzxqQPGAN",
        "outputId": "5c72c792-5fa4-4414-8b1a-acaa5cca882e"
      },
      "execution_count": null,
      "outputs": [
        {
          "output_type": "stream",
          "name": "stdout",
          "text": [
            "Linto 8 2.3\n"
          ]
        }
      ]
    },
    {
      "cell_type": "code",
      "source": [
        "# 3.Single value to several variables\n",
        "k = l = m = \"one\"\n",
        "print(k, l, m)"
      ],
      "metadata": {
        "colab": {
          "base_uri": "https://localhost:8080/"
        },
        "id": "u7BKj2mJPIvM",
        "outputId": "04ae2464-b661-486b-b247-3978260b0c95"
      },
      "execution_count": null,
      "outputs": [
        {
          "output_type": "stream",
          "name": "stdout",
          "text": [
            "one one one\n"
          ]
        }
      ]
    },
    {
      "cell_type": "markdown",
      "source": [
        "### **Memmory Allocation**"
      ],
      "metadata": {
        "id": "VyHCnUggPRSn"
      }
    },
    {
      "cell_type": "code",
      "source": [
        "# Assigning Variables\n",
        "k = 1\n",
        "l = 1\n",
        "z = 5\n",
        "\n",
        "# id is used to find the address of the variable\n",
        "print(id(k))\n",
        "print(id(l))\n",
        "print(id(z))"
      ],
      "metadata": {
        "colab": {
          "base_uri": "https://localhost:8080/"
        },
        "id": "M5Kq2HJqPLqs",
        "outputId": "2d74fd5b-c6ed-40bd-95b9-0a0c98177cb2"
      },
      "execution_count": null,
      "outputs": [
        {
          "output_type": "stream",
          "name": "stdout",
          "text": [
            "136775235125488\n",
            "136775235125488\n",
            "136775235125616\n"
          ]
        }
      ]
    },
    {
      "cell_type": "markdown",
      "source": [
        "\n",
        "If the value is same, the memory location will be the same.\n",
        "\n",
        "Conclusion: The performance of our coding depends on 2 things.\n",
        "*   Code logic\n",
        "*   Memory allocation(how can we handle variables)"
      ],
      "metadata": {
        "id": "DRP3x8Z6Po6E"
      }
    },
    {
      "cell_type": "markdown",
      "source": [
        "## **Comments and Indendations**"
      ],
      "metadata": {
        "id": "0uIFKfTKQosW"
      }
    },
    {
      "cell_type": "markdown",
      "source": [
        "### **Comments**"
      ],
      "metadata": {
        "id": "Lxs3Oib7RPWH"
      }
    },
    {
      "cell_type": "markdown",
      "source": [
        "A comment in Python is a piece of text in your code that is not executed. It's typically used to explain what the code is doing or leave notes for developers who will be reading or maintaining the code.\n",
        "\n",
        "*   **Single-Line Comments**: Python uses the hash symbol (#) to denote a comment. Any text following the # on the same line will be ignored by the Python interpreter.\n",
        "*   **Multi-Line Comments**: Python does not have a specific syntax for multi-line comments. Developers typically use a single # for each line to create multi-line comments. Alternatively, multi-line strings using triple quotes (''' or \"\"\") can also be used as multi-line comments because any string not assigned to a variable is ignored by Python.\n",
        "*   **Docstrings or documentation strings**: Docstrings are a type of comment used to explain the purpose of a function or a class. They are created using triple quotes and are placed immediately after the definition of a function or a class. Docstrings can span multiple lines and are accessible at runtime using the .__doc__ attribute."
      ],
      "metadata": {
        "id": "IJwWOkzYRTBk"
      }
    },
    {
      "cell_type": "code",
      "source": [
        "# This is a comment in Python\n",
        "x = 5  # This is an inline comment"
      ],
      "metadata": {
        "id": "tZO5D_LhQn1D"
      },
      "execution_count": null,
      "outputs": []
    },
    {
      "cell_type": "code",
      "source": [
        "# This is a multi-line comment\n",
        "# We are adding two numbers a and b.\n",
        "a = 5\n",
        "b = 3\n",
        "c = a + b\n",
        "print(c)"
      ],
      "metadata": {
        "colab": {
          "base_uri": "https://localhost:8080/"
        },
        "id": "FDri2tKmRthf",
        "outputId": "4feaf4d8-f9bd-4447-8cd0-8ef24c03fe79"
      },
      "execution_count": null,
      "outputs": [
        {
          "output_type": "stream",
          "name": "stdout",
          "text": [
            "8\n"
          ]
        }
      ]
    },
    {
      "cell_type": "code",
      "source": [
        "# Docstring Example\n",
        "def add_numbers(a, b):\n",
        "    \"\"\"\n",
        "    This function adds two numbers and returns the result.\n",
        "\n",
        "    Parameters:\n",
        "    a (int): The first number\n",
        "    b (int): The second number\n",
        "\n",
        "    Returns:\n",
        "    int: The sum of the two numbers\n",
        "    \"\"\"\n",
        "    return a + b"
      ],
      "metadata": {
        "id": "Ik9rZrJ3RvEK"
      },
      "execution_count": null,
      "outputs": []
    },
    {
      "cell_type": "code",
      "source": [
        "# You can access this docstring using the .__doc__ attribute.\n",
        "# Here's how:\n",
        "print(add_numbers.__doc__)"
      ],
      "metadata": {
        "colab": {
          "base_uri": "https://localhost:8080/"
        },
        "id": "NCK7bQBURxaY",
        "outputId": "3382bb14-af55-4326-b9c1-1594b441f828"
      },
      "execution_count": null,
      "outputs": [
        {
          "output_type": "stream",
          "name": "stdout",
          "text": [
            "\n",
            "    This function adds two numbers and returns the result.\n",
            "    \n",
            "    Parameters:\n",
            "    a (int): The first number\n",
            "    b (int): The second number\n",
            "\n",
            "    Returns:\n",
            "    int: The sum of the two numbers\n",
            "    \n"
          ]
        }
      ]
    },
    {
      "cell_type": "markdown",
      "source": [
        "### **Indendation**"
      ],
      "metadata": {
        "id": "w2dTrnYnR1WD"
      }
    },
    {
      "cell_type": "markdown",
      "source": [
        "*   **Importance**: In Python, indentation is not just for readability. It's a part of the syntax and is used to indicate a block of code.\n",
        "*   **Space Usage**: Python uses indentation to define the scope of loops, functions, classes, etc. The standard practice is to use four spaces for each level of indentation, but you can use any number of spaces, as long as the indentation is consistent within a block of code.\n",
        "*   **Colon**: Usually, a colon (:) at the end of the line is followed by an indented block of code. This is common with structures like if, for, while, def, class, etc."
      ],
      "metadata": {
        "id": "0kYdtCjYR-zD"
      }
    },
    {
      "cell_type": "code",
      "source": [
        "# Correct use of indentation\n",
        "\n",
        "if True:\n",
        "    print(\"This is True!\")\n",
        "\n",
        "for i in range(3):\n",
        "    print(i)\n",
        "\n",
        "def hello():\n",
        "    print(\"Hello, World!\")\n",
        "\n",
        "while False:\n",
        "    print(\"This won't print\")"
      ],
      "metadata": {
        "colab": {
          "base_uri": "https://localhost:8080/"
        },
        "id": "_J5JM7EeRzbE",
        "outputId": "9c64ad40-80ad-4660-85ef-58424679b5a6"
      },
      "execution_count": null,
      "outputs": [
        {
          "output_type": "stream",
          "name": "stdout",
          "text": [
            "This is True!\n",
            "0\n",
            "1\n",
            "2\n"
          ]
        }
      ]
    },
    {
      "cell_type": "markdown",
      "source": [
        "## **Standard input and output**"
      ],
      "metadata": {
        "id": "eU0liIo5SZ3E"
      }
    },
    {
      "cell_type": "markdown",
      "source": [
        "**Standard Output**\n",
        "\n",
        "*   This is typically the terminal (or the console) where the program is run. When a program wants to output some information, it will typically print to the standard output.\n",
        "*   Python provides print() function to send data to standard output. Here is an example:"
      ],
      "metadata": {
        "id": "xHkEcBlDT8f0"
      }
    },
    {
      "cell_type": "code",
      "source": [
        "print(\"Happy learning!\")\n",
        "# In this example, the string \"Happy learning!\" is sent to the standard output.\n",
        "# Usually your terminal or console where you are running the program."
      ],
      "metadata": {
        "colab": {
          "base_uri": "https://localhost:8080/"
        },
        "id": "49_qef3dSOfP",
        "outputId": "34cab3ad-cc7f-4d58-cb1e-f46581fbd2eb"
      },
      "execution_count": null,
      "outputs": [
        {
          "output_type": "stream",
          "name": "stdout",
          "text": [
            "Happy learning!\n"
          ]
        }
      ]
    },
    {
      "cell_type": "markdown",
      "source": [
        "**Standard Input**\n",
        "\n",
        "*   This is usually the keyboard, but it can also be data coming from a file or another program.\n",
        "*   Python provides the input() function to read data from standard input. Here is an example:"
      ],
      "metadata": {
        "id": "ijlcTBrqUNZ8"
      }
    },
    {
      "cell_type": "code",
      "source": [
        "name = input(\"Enter your name: \")\n",
        "print(f\"Hello, {name}!\")"
      ],
      "metadata": {
        "colab": {
          "base_uri": "https://localhost:8080/"
        },
        "id": "D38-qCJmUMrx",
        "outputId": "2131551f-497b-45d8-b2d5-7ab115793d6a"
      },
      "execution_count": null,
      "outputs": [
        {
          "output_type": "stream",
          "name": "stdout",
          "text": [
            "Enter your name: Linto\n",
            "Hello, Linto!\n"
          ]
        }
      ]
    },
    {
      "cell_type": "markdown",
      "source": [
        "*   The f before the string in print(f\"Hello, {name}!\") is used to denote a formatted string literal, often called f-string for short.\n",
        "*   F-strings were introduced in Python 3.6 as a new way to format strings. They are prefixed with 'f' and are followed by a string literal enclosed in quotes. The expression within the curly braces {} gets evaluated and inserted into the string."
      ],
      "metadata": {
        "id": "r5Rth6lMUbXS"
      }
    },
    {
      "cell_type": "markdown",
      "source": [
        "\n",
        "**Redirecting Standard Output and Input**\n",
        "\n",
        "*   Sometimes, you might want to save the output of a program to a file instead of printing it to the terminal. This is called redirecting the standard output.\n",
        "*   While this isn't done with Python code, but with command line syntax, it is still a common and important concept.\n",
        "*   Similarly to redirecting output, you can also redirect the standard input from a file."
      ],
      "metadata": {
        "id": "nXp5aMYLUnQ4"
      }
    },
    {
      "cell_type": "code",
      "source": [
        "python my_script.py > output.txt"
      ],
      "metadata": {
        "colab": {
          "base_uri": "https://localhost:8080/",
          "height": 143
        },
        "id": "CX4UB7FiUX30",
        "outputId": "88b74189-563e-40b8-a5d7-1714fe9dc779"
      },
      "execution_count": null,
      "outputs": [
        {
          "output_type": "error",
          "ename": "SyntaxError",
          "evalue": "ignored",
          "traceback": [
            "\u001b[0;36m  File \u001b[0;32m\"<ipython-input-19-cff3bbfae7ac>\"\u001b[0;36m, line \u001b[0;32m1\u001b[0m\n\u001b[0;31m    python my_script.py > output.txt\u001b[0m\n\u001b[0m           ^\u001b[0m\n\u001b[0;31mSyntaxError\u001b[0m\u001b[0;31m:\u001b[0m invalid syntax\n"
          ]
        }
      ]
    },
    {
      "cell_type": "code",
      "source": [
        "python my_script.py < input.txt"
      ],
      "metadata": {
        "colab": {
          "base_uri": "https://localhost:8080/",
          "height": 143
        },
        "id": "JCbsL6JgUwzl",
        "outputId": "25fbe717-2d56-4686-8318-6ed150895f1a"
      },
      "execution_count": null,
      "outputs": [
        {
          "output_type": "error",
          "ename": "SyntaxError",
          "evalue": "ignored",
          "traceback": [
            "\u001b[0;36m  File \u001b[0;32m\"<ipython-input-20-c57f4df4c51f>\"\u001b[0;36m, line \u001b[0;32m1\u001b[0m\n\u001b[0;31m    python my_script.py < input.txt\u001b[0m\n\u001b[0m           ^\u001b[0m\n\u001b[0;31mSyntaxError\u001b[0m\u001b[0;31m:\u001b[0m invalid syntax\n"
          ]
        }
      ]
    },
    {
      "cell_type": "code",
      "source": [
        "# Take input from the user for two numbers\n",
        "num1 = int(input(\"Enter the first number: \"))\n",
        "num2 = int(input(\"Enter the second number: \"))\n",
        "\n",
        "# Calculate the sum of the two numbers\n",
        "sum_of_numbers = num1 + num2\n",
        "\n",
        "# Print the result\n",
        "print(f\"The sum of {num1} and {num2} is {sum_of_numbers}.\")"
      ],
      "metadata": {
        "colab": {
          "base_uri": "https://localhost:8080/"
        },
        "id": "FDOl8i29U5X7",
        "outputId": "d114f19f-562e-4e7a-e9b8-22d7c115e375"
      },
      "execution_count": null,
      "outputs": [
        {
          "output_type": "stream",
          "name": "stdout",
          "text": [
            "Enter the first number: 5\n",
            "Enter the second number: 5\n",
            "The sum of 5 and 5 is 10.\n"
          ]
        }
      ]
    },
    {
      "cell_type": "markdown",
      "source": [
        "## **Operators**"
      ],
      "metadata": {
        "id": "rxOn9UDbU_zD"
      }
    },
    {
      "cell_type": "markdown",
      "source": [
        "Python language supports the following types of operators.\n",
        "*   Arithematic Operators\n",
        "*    Comparison (Relational) Operators\n",
        "*    Assignment Operators\n",
        "*    Logical Operators\n",
        "*    Bitwise Operators\n",
        "*    Membership Operators\n",
        "*    Identity Operators\n",
        "\n",
        "In Python, the **rule of precedence** dictates the order in which operations are evaluated. Parentheses have the highest precedence, followed by exponentiation, multiplication/division, addition/subtraction, bitwise shifts, bitwise AND/XOR/OR, comparison operators, and Boolean NOT/AND/OR. The conditional expression (ternary operator) has the lowest precedence"
      ],
      "metadata": {
        "id": "-5iMp4-_VI75"
      }
    },
    {
      "cell_type": "markdown",
      "source": [
        "### **Arithematic Operators**"
      ],
      "metadata": {
        "id": "dY0LElPjVtVy"
      }
    },
    {
      "cell_type": "code",
      "source": [
        "# 1.1 Addition Operator\n",
        "print('Addition of 20 + 3 =', 20 + 3)\n",
        "\n",
        "# 1.2 Substraction Operator\n",
        "print('Substraction of 20 - 3 =', 20 - 3)\n",
        "\n",
        "# 1.3 Multiplication Operator\n",
        "print('Multiplication of 20 * 3 =', 20 * 3)\n",
        "\n",
        "# 1.4 Float Division Operator\n",
        "print('Float division of 20 / 3 =', 20 / 3)\n",
        "\n",
        "# 1.5 Integer Division Operator\n",
        "print('Integer division of 20 // 3 =', 20 // 3)\n",
        "\n",
        "# 1.6 Modulus or Remainder Operator\n",
        "print('Remainder of 20 % 3 =', 20 % 3)\n",
        "\n",
        "# 1.7 Exponential Operator\n",
        "print('Exponential of 20 ** 3 =', 20 ** 3)"
      ],
      "metadata": {
        "colab": {
          "base_uri": "https://localhost:8080/"
        },
        "id": "_aqWJcJIU7zk",
        "outputId": "dab5fc00-db8e-4d88-d897-faddef09be7a"
      },
      "execution_count": null,
      "outputs": [
        {
          "output_type": "stream",
          "name": "stdout",
          "text": [
            "Addition of 20 + 3 = 23\n",
            "Substraction of 20 - 3 = 17\n",
            "Multiplication of 20 * 3 = 60\n",
            "Float division of 20 / 3 = 6.666666666666667\n",
            "Integer division of 20 // 3 = 6\n",
            "Remainder of 20 % 3 = 2\n",
            "Exponential of 20 ** 3 = 8000\n"
          ]
        }
      ]
    },
    {
      "cell_type": "markdown",
      "source": [
        "### **Comparison or Relational Operators**"
      ],
      "metadata": {
        "id": "iKs_cIeJV3B8"
      }
    },
    {
      "cell_type": "code",
      "source": [
        "# 2.1 Greater Than\n",
        "print('{} > {} is'.format(20,10),20>10)\n",
        "\n",
        "# 2.2 Less Than\n",
        "print('{} < {} is'.format(20,10),20<10)\n",
        "\n",
        "# 2.3 Equal To\n",
        "print('{} == {} is'.format(20,10),20==10)\n",
        "\n",
        "# 2.3 Not Equal To\n",
        "print('{} != {} is'.format(20,10),20!=10)\n",
        "\n",
        "# 2.4 Greater Than or Equal To\n",
        "print('{} >= {} is'.format(20,10),20>=10)\n",
        "\n",
        "# 2.5 Less Than or Equal To\n",
        "print('{} <= {} is'.format(20,10),20<=10)"
      ],
      "metadata": {
        "colab": {
          "base_uri": "https://localhost:8080/"
        },
        "id": "QKh1V8mmV19D",
        "outputId": "887715c3-f5ed-4bfc-f9e7-4775cde3f32f"
      },
      "execution_count": null,
      "outputs": [
        {
          "output_type": "stream",
          "name": "stdout",
          "text": [
            "20 > 10 is True\n",
            "20 < 10 is False\n",
            "20 == 10 is False\n",
            "20 != 10 is True\n",
            "20 >= 10 is True\n",
            "20 <= 10 is False\n"
          ]
        }
      ]
    },
    {
      "cell_type": "markdown",
      "source": [
        "### **Logical Operators**"
      ],
      "metadata": {
        "id": "HqEjr9E7WHoP"
      }
    },
    {
      "cell_type": "code",
      "source": [
        "# 3.1 AND\n",
        "print('False and True is', False and True)\n",
        "print('True and False is', True and False)\n",
        "print('True and True is', True and True)\n",
        "print('False and False is', False and False)\n",
        "\n",
        "# 3.2 OR\n",
        "print('False or True is', False or True)\n",
        "print('True or False is', True or False)\n",
        "print('True or True is', True or True)\n",
        "print('False or False is', False or False)\n",
        "\n",
        "# 3.3 NOT\n",
        "print('not False is', not False)\n",
        "print('not True is', not True)"
      ],
      "metadata": {
        "colab": {
          "base_uri": "https://localhost:8080/"
        },
        "id": "di0suVsoWGuv",
        "outputId": "06acfb8e-8c5d-4be1-bce4-c322e3d1b562"
      },
      "execution_count": null,
      "outputs": [
        {
          "output_type": "stream",
          "name": "stdout",
          "text": [
            "False and True is False\n",
            "True and False is False\n",
            "True and True is True\n",
            "False and False is False\n",
            "False or True is True\n",
            "True or False is True\n",
            "True or True is True\n",
            "False or False is False\n",
            "not False is True\n",
            "not True is False\n"
          ]
        }
      ]
    },
    {
      "cell_type": "markdown",
      "source": [
        "### **Augmented Assignment Operator**"
      ],
      "metadata": {
        "id": "fZytggnBWRFH"
      }
    },
    {
      "cell_type": "code",
      "source": [
        "# 4.1 simple expression\n",
        "i = 1\n",
        "i = 1 + 1\n",
        "print('simple expression value is',i)\n",
        "\n",
        "# 4.2 Additional Assignment\n",
        "j = 1\n",
        "j += 1\n",
        "print('Additional Assignment value is',j)\n",
        "\n",
        "# 4.3 Substraction Assignment\n",
        "k = 1\n",
        "k -= 2 #k = k -2\n",
        "print('Substraction Assignment value is',k)\n",
        "\n",
        "# 4.4 Multiplication Assignment\n",
        "m = 2\n",
        "m *= 2 #m = m * 2\n",
        "print('Multiplication Assignment value is',m)\n",
        "\n",
        "# 4.5 Float Division Assignment\n",
        "n = 5\n",
        "n/= 5 #n = n/2\n",
        "print('Float Division Assignment value is',n)\n",
        "\n",
        "# 4.6 Integer Division Assignment\n",
        "p = 5\n",
        "p //= 5 #p = p // 2\n",
        "print('Integer Division Assignment value is',p)\n",
        "\n",
        "# 4.7 Remainder Assignment\n",
        "q = 5\n",
        "q %= 2 #q = q % 2\n",
        "print('Remainder Assignment value is',q)\n",
        "\n",
        "# 4.8 Exponent Assignment\n",
        "r = 3\n",
        "r **= 2 #r = r ** 2\n",
        "print('Exponent Assignment value is',r)"
      ],
      "metadata": {
        "colab": {
          "base_uri": "https://localhost:8080/"
        },
        "id": "X2mVkaX4WQDW",
        "outputId": "c49502e5-b854-4f08-b284-f4e635916e50"
      },
      "execution_count": null,
      "outputs": [
        {
          "output_type": "stream",
          "name": "stdout",
          "text": [
            "simple expression value is 2\n",
            "Additional Assignment value is 2\n",
            "Substraction Assignment value is -1\n",
            "Multiplication Assignment value is 4\n",
            "Float Division Assignment value is 1.0\n",
            "Integer Division Assignment value is 1\n",
            "Remainder Assignment value is 1\n",
            "Exponent Assignment value is 9\n"
          ]
        }
      ]
    },
    {
      "cell_type": "markdown",
      "source": [
        "### **Bitwise Operators**"
      ],
      "metadata": {
        "id": "bOm8d49sWejq"
      }
    },
    {
      "cell_type": "code",
      "source": [
        "# Bitwise operators are used to compare (binary) numbers. It works on bits and performs bit by bit operation\n",
        "# Convert number to binary\n",
        "print('Binary number for {0} id {0:08b}'.format(9))"
      ],
      "metadata": {
        "colab": {
          "base_uri": "https://localhost:8080/"
        },
        "id": "E8amrd7XWdyp",
        "outputId": "17ee5b70-a683-4f64-9519-783dd36b5e35"
      },
      "execution_count": null,
      "outputs": [
        {
          "output_type": "stream",
          "name": "stdout",
          "text": [
            "Binary number for 9 id 00001001\n"
          ]
        }
      ]
    },
    {
      "cell_type": "code",
      "source": [
        "# 5.1 Binary AND - sets each bit to 1 if both bits are 1\n",
        "print('Binary AND value is', 17&10)\n",
        "\n",
        "# 5.2 Binary OR - sets each bit to 1 if one of two bits are 1\n",
        "print('Binary AND value is', 17|10)\n",
        "\n",
        "# 5.3 Binary XOR - sets each bit to 1 if only one of two bits are 1\n",
        "print('Binary AND value is', 17^10)\n",
        "\n",
        "# 5.4 Binary Ones Complement - Inverts all the bits\n",
        "print('Binary Ones complement is', ~17)\n",
        "\n",
        "# 5.5 Binary Right shift -Shift right by pushing copies of the leftmost bit in from the left, and let the rightmost bits fall off\n",
        "print('Binary right shift is', 17>>2)\n",
        "\n",
        "# 5.6 Binary Left shift -Shift left by pushing copies of the rightmost bit in from the right, and let the leftmost bits fall off\n",
        "print('Binary left shift is', 17<<2)"
      ],
      "metadata": {
        "colab": {
          "base_uri": "https://localhost:8080/"
        },
        "id": "YBfzqT5WWou-",
        "outputId": "b85146e7-4e6e-45ed-a51d-8db009d08716"
      },
      "execution_count": null,
      "outputs": [
        {
          "output_type": "stream",
          "name": "stdout",
          "text": [
            "Binary AND value is 0\n",
            "Binary AND value is 27\n",
            "Binary AND value is 27\n",
            "Binary Ones complement is -18\n",
            "Binary right shift is 4\n",
            "Binary left shift is 68\n"
          ]
        }
      ]
    },
    {
      "cell_type": "markdown",
      "source": [
        "### **Special Operators**"
      ],
      "metadata": {
        "id": "Jdpm4dvyWshS"
      }
    },
    {
      "cell_type": "markdown",
      "source": [
        "#### **Identity operators**\n",
        "Used to compare memory location of two objects\n",
        "<br>'is' and 'is not' are the identity operators in python\n",
        "<br>Output will be boolean value (True or False)\n",
        "<br>is operator display True if the memory address is the same, is not operator display the same if memory address is not the same"
      ],
      "metadata": {
        "id": "1E6OYZeMWyIH"
      }
    },
    {
      "cell_type": "code",
      "source": [
        "# numbers\n",
        "x = 10\n",
        "print('memory location of x is',id(x))\n",
        "y = 10\n",
        "print('memory location of y is',id(y))\n",
        "\n",
        "print('y is x:',y is x)\n",
        "print('y is not x:',y is not x)"
      ],
      "metadata": {
        "colab": {
          "base_uri": "https://localhost:8080/"
        },
        "id": "Sroa1dIWWrjy",
        "outputId": "65acd233-c53b-4bcc-ba6c-a5d02dddb9e4"
      },
      "execution_count": null,
      "outputs": [
        {
          "output_type": "stream",
          "name": "stdout",
          "text": [
            "memory location of x is 136775235125776\n",
            "memory location of y is 136775235125776\n",
            "y is x: True\n",
            "y is not x: False\n"
          ]
        }
      ]
    },
    {
      "cell_type": "code",
      "source": [
        "# list\n",
        "x = [10,11,12]\n",
        "print('memory location of x is',id(x))\n",
        "y = [10,11,12]\n",
        "print('memory location of y is',id(y))\n",
        "\n",
        "print('y is x:',y is x)\n",
        "print('y is not x:',y is not x)"
      ],
      "metadata": {
        "colab": {
          "base_uri": "https://localhost:8080/"
        },
        "id": "GzKu3TZSXEqI",
        "outputId": "3e2fe330-b39f-4537-ebb7-6396b1b6e919"
      },
      "execution_count": null,
      "outputs": [
        {
          "output_type": "stream",
          "name": "stdout",
          "text": [
            "memory location of x is 136774855690368\n",
            "memory location of y is 136774856320000\n",
            "y is x: False\n",
            "y is not x: True\n"
          ]
        }
      ]
    },
    {
      "cell_type": "markdown",
      "source": [
        "#### **Membership operators**\n",
        "Used to test whether a value or variable is found in a sequence (Eg: string, list, tuple, set, and dictionary)\n",
        "<br>'in' and 'not in' are the membership operators"
      ],
      "metadata": {
        "id": "-KsJrkwKXJ62"
      }
    },
    {
      "cell_type": "code",
      "source": [
        "mylist = ['python', 3.5, 8]\n",
        "\n",
        "print('10 in mylist:', 10 in mylist)\n",
        "print('10 not in mylist:', 10 not in mylist)"
      ],
      "metadata": {
        "colab": {
          "base_uri": "https://localhost:8080/"
        },
        "id": "ROKmHh6WXG4N",
        "outputId": "bb731b16-fddb-405d-c2d2-25765337ab7a"
      },
      "execution_count": null,
      "outputs": [
        {
          "output_type": "stream",
          "name": "stdout",
          "text": [
            "10 in mylist: False\n",
            "10 not in mylist: True\n"
          ]
        }
      ]
    }
  ]
}