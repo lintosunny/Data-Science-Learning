{
  "nbformat": 4,
  "nbformat_minor": 0,
  "metadata": {
    "colab": {
      "provenance": [],
      "toc_visible": true,
      "authorship_tag": "ABX9TyNWFcI+HnZdEXKUnsDK7NAd",
      "include_colab_link": true
    },
    "kernelspec": {
      "name": "python3",
      "display_name": "Python 3"
    },
    "language_info": {
      "name": "python"
    }
  },
  "cells": [
    {
      "cell_type": "markdown",
      "metadata": {
        "id": "view-in-github",
        "colab_type": "text"
      },
      "source": [
        "<a href=\"https://colab.research.google.com/github/lintosunny/Data-Science-Learning/blob/main/%5BWeek_02%5D_Python_Data_Structures.ipynb\" target=\"_parent\"><img src=\"https://colab.research.google.com/assets/colab-badge.svg\" alt=\"Open In Colab\"/></a>"
      ]
    },
    {
      "cell_type": "markdown",
      "source": [
        "# **Data Structures**\n",
        "\n",
        "Python provides several built-in data structures that are fundamental for organizing and storing data efficiently. Here are some of the most commonly used data structures in Python:\n",
        "\n",
        "*   String\n",
        "*   List\n",
        "*   Tuple\n",
        "*   Dictionary\n",
        "*   Set"
      ],
      "metadata": {
        "id": "cwoKzRd0Aawb"
      }
    },
    {
      "cell_type": "markdown",
      "source": [
        "## **String**\n",
        "*   A string is a sequence of characters\n",
        "*   Ordered sequence of characters.\n",
        "*   Immutable (individual characters cannot be changed after creation).\n",
        "*   Can be created using single (') or double (\") quotes.\n"
      ],
      "metadata": {
        "id": "RMtj3xXcAvSS"
      }
    },
    {
      "cell_type": "code",
      "source": [
        "# Create a string\n",
        "\n",
        "string1 = 'single quotation'\n",
        "string2 = \"double quotation\"\n",
        "string3 = '''triple\n",
        "                quotaion'''\n",
        "\n",
        "print('sting1 :',string1)\n",
        "print('sting2 :',string2)\n",
        "print('sting3 :',string3)"
      ],
      "metadata": {
        "colab": {
          "base_uri": "https://localhost:8080/"
        },
        "id": "GVN1f0k2CQfu",
        "outputId": "88a4fc5b-106e-495b-d22c-01c7bfd6eead"
      },
      "execution_count": null,
      "outputs": [
        {
          "output_type": "stream",
          "name": "stdout",
          "text": [
            "sting1 : single quotation\n",
            "sting2 : double quotation\n",
            "sting3 : triple\n",
            "                quotaion\n"
          ]
        }
      ]
    },
    {
      "cell_type": "markdown",
      "source": [
        "### **format strings**"
      ],
      "metadata": {
        "id": "VzPR1iftBw_X"
      }
    },
    {
      "cell_type": "code",
      "source": [
        "price = 2.8999\n",
        "print(f\"Price of Banana: ${price:.0%} \\nPrice of Berry: ${price:.1%}\")"
      ],
      "metadata": {
        "colab": {
          "base_uri": "https://localhost:8080/"
        },
        "id": "ElNrNthbAuEZ",
        "outputId": "494ada58-042c-4769-a743-341e4e1b4dfd"
      },
      "execution_count": null,
      "outputs": [
        {
          "output_type": "stream",
          "name": "stdout",
          "text": [
            "Price of Banana: $290% \n",
            "Price of Berry: $290.0%\n"
          ]
        }
      ]
    },
    {
      "cell_type": "code",
      "source": [
        "# You can assign names to designate how you want values to be inserted.\n",
        "name = 'Manuel'\n",
        "number = 3\n",
        "print('Hello {name}, your lucky number is {num}.'.format(num=number, name=name))"
      ],
      "metadata": {
        "colab": {
          "base_uri": "https://localhost:8080/"
        },
        "id": "QXpsd0TeB79t",
        "outputId": "98d84019-e3e7-4f82-af81-9d8fc0fdf820"
      },
      "execution_count": null,
      "outputs": [
        {
          "output_type": "stream",
          "name": "stdout",
          "text": [
            "Hello Manuel, your lucky number is 3.\n"
          ]
        }
      ]
    },
    {
      "cell_type": "code",
      "source": [
        "# You can use argument indices to designate how you want values to be inserted.\n",
        "print('Hello {1}, your lucky number is {0}.'.format(number, name))"
      ],
      "metadata": {
        "colab": {
          "base_uri": "https://localhost:8080/"
        },
        "id": "feEwKyd4B926",
        "outputId": "1ba6aee1-a89c-4366-83b3-8b718b400837"
      },
      "execution_count": null,
      "outputs": [
        {
          "output_type": "stream",
          "name": "stdout",
          "text": [
            "Hello Manuel, your lucky number is 3.\n"
          ]
        }
      ]
    },
    {
      "cell_type": "code",
      "source": [
        "# Example inserting prices into string\n",
        "price = 7.75\n",
        "with_tax = price * 1.07\n",
        "print('Base price: ${} USD. \\nWith tax: ${} USD.'.format(price, with_tax))"
      ],
      "metadata": {
        "colab": {
          "base_uri": "https://localhost:8080/"
        },
        "id": "m29ZAkYsCAND",
        "outputId": "123b0372-eff2-4313-f960-09220517cf3b"
      },
      "execution_count": null,
      "outputs": [
        {
          "output_type": "stream",
          "name": "stdout",
          "text": [
            "Base price: $7.75 USD. \n",
            "With tax: $8.2925 USD.\n"
          ]
        }
      ]
    },
    {
      "cell_type": "code",
      "source": [
        "# Use :.2f to round a float value to two places beyond the decimal.\n",
        "print('Base price: ${:.2f} USD. \\nWith tax: ${:.2f} USD.'.format(price, with_tax))"
      ],
      "metadata": {
        "colab": {
          "base_uri": "https://localhost:8080/"
        },
        "id": "4AS5roorCB9c",
        "outputId": "3bde0d71-a80d-4254-8bce-01477bff1c2d"
      },
      "execution_count": null,
      "outputs": [
        {
          "output_type": "stream",
          "name": "stdout",
          "text": [
            "Base price: $7.75 USD. \n",
            "With tax: $8.29 USD.\n"
          ]
        }
      ]
    },
    {
      "cell_type": "code",
      "source": [
        "# Define a function that converts Fahrenheit to Celsius.\n",
        "def to_celsius(x):\n",
        "    return (x-32) * 5/9\n",
        "\n",
        "# Create a temperature conversion table using string formatting\n",
        "for x in range(0, 101, 10):\n",
        "    print(\"{:>3} F | {:>6.2f} C\".format(x, to_celsius(x)))"
      ],
      "metadata": {
        "colab": {
          "base_uri": "https://localhost:8080/"
        },
        "id": "R_32vGrICEPM",
        "outputId": "008d5975-b068-450f-ce81-9d4385455a7e"
      },
      "execution_count": null,
      "outputs": [
        {
          "output_type": "stream",
          "name": "stdout",
          "text": [
            "  0 F | -17.78 C\n",
            " 10 F | -12.22 C\n",
            " 20 F |  -6.67 C\n",
            " 30 F |  -1.11 C\n",
            " 40 F |   4.44 C\n",
            " 50 F |  10.00 C\n",
            " 60 F |  15.56 C\n",
            " 70 F |  21.11 C\n",
            " 80 F |  26.67 C\n",
            " 90 F |  32.22 C\n",
            "100 F |  37.78 C\n"
          ]
        }
      ]
    },
    {
      "cell_type": "markdown",
      "source": [
        "### **String slicing**"
      ],
      "metadata": {
        "id": "t7TI4EQiCHwI"
      }
    },
    {
      "cell_type": "code",
      "source": [
        "string = \"Linto\"\n",
        "\n",
        "print('string[0] :',string[0])\n",
        "print('string[2:4] :',string[2:4])\n",
        "print('string[:4] :',string[:4])\n",
        "print('string[2:] :',string[2:])\n",
        "print('string[:] :',string[:])\n",
        "print('string[-1] :',string[-1])"
      ],
      "metadata": {
        "colab": {
          "base_uri": "https://localhost:8080/"
        },
        "id": "XL3ixj8wCGIn",
        "outputId": "ef2528b0-60e8-4a73-c594-cd6fd9f7512d"
      },
      "execution_count": null,
      "outputs": [
        {
          "output_type": "stream",
          "name": "stdout",
          "text": [
            "string[0] : L\n",
            "string[2:4] : nt\n",
            "string[:4] : Lint\n",
            "string[2:] : nto\n",
            "string[:] : Linto\n",
            "string[-1] : o\n"
          ]
        }
      ]
    },
    {
      "cell_type": "code",
      "source": [
        "# index error, because of invalid index\n",
        "print(string[99])"
      ],
      "metadata": {
        "id": "rtDkoIIFCb1V"
      },
      "execution_count": null,
      "outputs": []
    },
    {
      "cell_type": "code",
      "source": [
        "# type error, Only give INT and that is with in len of string\n",
        "print(string[4.0])"
      ],
      "metadata": {
        "colab": {
          "base_uri": "https://localhost:8080/",
          "height": 198
        },
        "id": "RHc8erNDC4r-",
        "outputId": "40f1fe87-917a-457d-9404-f37b775797f2"
      },
      "execution_count": null,
      "outputs": [
        {
          "output_type": "error",
          "ename": "TypeError",
          "evalue": "ignored",
          "traceback": [
            "\u001b[0;31m---------------------------------------------------------------------------\u001b[0m",
            "\u001b[0;31mTypeError\u001b[0m                                 Traceback (most recent call last)",
            "\u001b[0;32m<ipython-input-9-2122ad019584>\u001b[0m in \u001b[0;36m<cell line: 2>\u001b[0;34m()\u001b[0m\n\u001b[1;32m      1\u001b[0m \u001b[0;31m# type error, Only give INT and that is with in len of string\u001b[0m\u001b[0;34m\u001b[0m\u001b[0;34m\u001b[0m\u001b[0m\n\u001b[0;32m----> 2\u001b[0;31m \u001b[0mprint\u001b[0m\u001b[0;34m(\u001b[0m\u001b[0mstring\u001b[0m\u001b[0;34m[\u001b[0m\u001b[0;36m4.0\u001b[0m\u001b[0;34m]\u001b[0m\u001b[0;34m)\u001b[0m\u001b[0;34m\u001b[0m\u001b[0;34m\u001b[0m\u001b[0m\n\u001b[0m",
            "\u001b[0;31mTypeError\u001b[0m: string indices must be integers"
          ]
        }
      ]
    },
    {
      "cell_type": "markdown",
      "source": [
        "### **Update String**"
      ],
      "metadata": {
        "id": "cFCu_UoiDhtv"
      }
    },
    {
      "cell_type": "markdown",
      "source": [
        "Strings are immutable. This means that elements of a string cannot be changed once it has been assigned."
      ],
      "metadata": {
        "id": "z_cmnAQrD_O4"
      }
    },
    {
      "cell_type": "code",
      "source": [
        "# Creating a string and checking memory location\n",
        "string = 'Linto'\n",
        "print(string)\n",
        "print('memory location before updating:',id(string))\n",
        "\n",
        "string += 'Sunny'\n",
        "print(string)\n",
        "print('memory location after updating:',id(string))"
      ],
      "metadata": {
        "colab": {
          "base_uri": "https://localhost:8080/"
        },
        "id": "-d7d_wtrDAEV",
        "outputId": "5486d400-ac6c-4aa5-9a53-4436bbdb2886"
      },
      "execution_count": null,
      "outputs": [
        {
          "output_type": "stream",
          "name": "stdout",
          "text": [
            "Linto\n",
            "memory location before updating: 138265982672496\n",
            "LintoSunny\n",
            "memory location after updating: 138265982729392\n"
          ]
        }
      ]
    },
    {
      "cell_type": "code",
      "source": [
        "# updating string value(cant do)\n",
        "string[2] = 'k'"
      ],
      "metadata": {
        "colab": {
          "base_uri": "https://localhost:8080/",
          "height": 198
        },
        "id": "-i7mZSbfEEGD",
        "outputId": "549c47ab-c655-4b01-cf95-4e202aa83b45"
      },
      "execution_count": null,
      "outputs": [
        {
          "output_type": "error",
          "ename": "TypeError",
          "evalue": "ignored",
          "traceback": [
            "\u001b[0;31m---------------------------------------------------------------------------\u001b[0m",
            "\u001b[0;31mTypeError\u001b[0m                                 Traceback (most recent call last)",
            "\u001b[0;32m<ipython-input-12-554dd36c6422>\u001b[0m in \u001b[0;36m<cell line: 2>\u001b[0;34m()\u001b[0m\n\u001b[1;32m      1\u001b[0m \u001b[0;31m# updating string value(cant do)\u001b[0m\u001b[0;34m\u001b[0m\u001b[0;34m\u001b[0m\u001b[0m\n\u001b[0;32m----> 2\u001b[0;31m \u001b[0mstring\u001b[0m\u001b[0;34m[\u001b[0m\u001b[0;36m2\u001b[0m\u001b[0;34m]\u001b[0m \u001b[0;34m=\u001b[0m \u001b[0;34m'k'\u001b[0m\u001b[0;34m\u001b[0m\u001b[0;34m\u001b[0m\u001b[0m\n\u001b[0m",
            "\u001b[0;31mTypeError\u001b[0m: 'str' object does not support item assignment"
          ]
        }
      ]
    },
    {
      "cell_type": "markdown",
      "source": [
        "### **Delete String**"
      ],
      "metadata": {
        "id": "rFxK5EocEJyh"
      }
    },
    {
      "cell_type": "markdown",
      "source": [
        "*   Cannot delete or remove characters from a string\n",
        "*   Can delete the string entirely using the keyword 'del'"
      ],
      "metadata": {
        "id": "Yq4lr3M0EMQY"
      }
    },
    {
      "cell_type": "code",
      "source": [
        "del string\n",
        "print(string)"
      ],
      "metadata": {
        "colab": {
          "base_uri": "https://localhost:8080/",
          "height": 198
        },
        "id": "s8UkJ7wgEGMR",
        "outputId": "315f7102-28fd-4267-f1a4-e84cf3b6e68b"
      },
      "execution_count": null,
      "outputs": [
        {
          "output_type": "error",
          "ename": "NameError",
          "evalue": "ignored",
          "traceback": [
            "\u001b[0;31m---------------------------------------------------------------------------\u001b[0m",
            "\u001b[0;31mNameError\u001b[0m                                 Traceback (most recent call last)",
            "\u001b[0;32m<ipython-input-13-0aab6cf13813>\u001b[0m in \u001b[0;36m<cell line: 2>\u001b[0;34m()\u001b[0m\n\u001b[1;32m      1\u001b[0m \u001b[0;32mdel\u001b[0m \u001b[0mstring\u001b[0m\u001b[0;34m\u001b[0m\u001b[0;34m\u001b[0m\u001b[0m\n\u001b[0;32m----> 2\u001b[0;31m \u001b[0mprint\u001b[0m\u001b[0;34m(\u001b[0m\u001b[0mstring\u001b[0m\u001b[0;34m)\u001b[0m\u001b[0;34m\u001b[0m\u001b[0;34m\u001b[0m\u001b[0m\n\u001b[0m",
            "\u001b[0;31mNameError\u001b[0m: name 'string' is not defined"
          ]
        }
      ]
    },
    {
      "cell_type": "markdown",
      "source": [
        "### **String operations**"
      ],
      "metadata": {
        "id": "QwOuv2_fEWDa"
      }
    },
    {
      "cell_type": "markdown",
      "source": [
        "#### **Concatenation of two or more strings**"
      ],
      "metadata": {
        "id": "Axfuocv7Ejza"
      }
    },
    {
      "cell_type": "code",
      "source": [
        "# Concatenation - Joining two or more strings into a single one\n",
        "\n",
        "str1 = 'Hello'\n",
        "str2 = 'World'\n",
        "\n",
        "# concatenation of two strings\n",
        "print(str1 + \" \" + str2)\n",
        "\n",
        "# Repeat string n times\n",
        "print(str1 * 5)"
      ],
      "metadata": {
        "colab": {
          "base_uri": "https://localhost:8080/"
        },
        "id": "DBxXlz5YEUtQ",
        "outputId": "e6255ee5-07d9-4251-94eb-3c575e3a1b5d"
      },
      "execution_count": null,
      "outputs": [
        {
          "output_type": "stream",
          "name": "stdout",
          "text": [
            "Hello World\n",
            "HelloHelloHelloHelloHello\n"
          ]
        }
      ]
    },
    {
      "cell_type": "markdown",
      "source": [
        "#### **ord() and chr() functions**"
      ],
      "metadata": {
        "id": "J15tVIbGEtzv"
      }
    },
    {
      "cell_type": "code",
      "source": [
        "# ord() - function returns the ASCII code of the character\n",
        "print(ord('b'))"
      ],
      "metadata": {
        "colab": {
          "base_uri": "https://localhost:8080/"
        },
        "id": "KXaOWkQjEra5",
        "outputId": "bd80faca-a7fa-4e87-af09-01bd4f698225"
      },
      "execution_count": null,
      "outputs": [
        {
          "output_type": "stream",
          "name": "stdout",
          "text": [
            "98\n"
          ]
        }
      ]
    },
    {
      "cell_type": "code",
      "source": [
        "# chr() - function returns character represented by a ASCII number\n",
        "print(chr(98))"
      ],
      "metadata": {
        "colab": {
          "base_uri": "https://localhost:8080/"
        },
        "id": "6mysZYItEw2b",
        "outputId": "d3875f5d-859d-4389-fd22-386ae93d4440"
      },
      "execution_count": null,
      "outputs": [
        {
          "output_type": "stream",
          "name": "stdout",
          "text": [
            "b\n"
          ]
        }
      ]
    },
    {
      "cell_type": "markdown",
      "source": [
        "#### **String comparison**"
      ],
      "metadata": {
        "id": "hgS_e5txE1ob"
      }
    },
    {
      "cell_type": "code",
      "source": [
        "# Can use (<, >, ==, <=, >=, !=)\n",
        "# Compare string using ASCII value of characters\n",
        "\n",
        "print(\"python\" == \"Python\")\n",
        "\n"
      ],
      "metadata": {
        "colab": {
          "base_uri": "https://localhost:8080/"
        },
        "id": "2Q9xqRueEyji",
        "outputId": "d694ce00-cef2-47e1-9187-09a04cf10248"
      },
      "execution_count": null,
      "outputs": [
        {
          "output_type": "stream",
          "name": "stdout",
          "text": [
            "False\n"
          ]
        }
      ]
    },
    {
      "cell_type": "code",
      "source": [
        "print('ASCII of P:',ord(\"P\"))\n",
        "print('ASCII of p:',ord(\"p\"))\n",
        "print(\"p\" > \"P\")"
      ],
      "metadata": {
        "colab": {
          "base_uri": "https://localhost:8080/"
        },
        "id": "1LvOCTckE-W9",
        "outputId": "0fadda5d-4c9f-4d67-a088-f8059979fefb"
      },
      "execution_count": null,
      "outputs": [
        {
          "output_type": "stream",
          "name": "stdout",
          "text": [
            "ASCII of P: 80\n",
            "ASCII of p: 112\n",
            "True\n"
          ]
        }
      ]
    },
    {
      "cell_type": "markdown",
      "source": [
        "#### **String Membership operator**"
      ],
      "metadata": {
        "id": "kl7gi0LPFEe7"
      }
    },
    {
      "cell_type": "code",
      "source": [
        "# in operator\n",
        "str1 = \"Linto\"\n",
        "print('i' in str1)\n",
        "\n",
        "# not in operator\n",
        "print('k' not in str1)"
      ],
      "metadata": {
        "colab": {
          "base_uri": "https://localhost:8080/"
        },
        "id": "MxZHjQnWFA76",
        "outputId": "3df90922-0e85-498f-9b83-a3cefb9898a3"
      },
      "execution_count": null,
      "outputs": [
        {
          "output_type": "stream",
          "name": "stdout",
          "text": [
            "True\n",
            "True\n"
          ]
        }
      ]
    },
    {
      "cell_type": "markdown",
      "source": [
        "### **String methods**"
      ],
      "metadata": {
        "id": "TQQf_pYoFN5X"
      }
    },
    {
      "cell_type": "code",
      "source": [
        "# 1. strip() - removes any whitespace from the beginning or the end\n",
        "str = ' linto '\n",
        "print(str)\n",
        "print(str.strip())"
      ],
      "metadata": {
        "colab": {
          "base_uri": "https://localhost:8080/"
        },
        "id": "Fvj3ePCPFIXh",
        "outputId": "35137d67-af7d-4cb8-ecb1-96a0b9ebc3af"
      },
      "execution_count": null,
      "outputs": [
        {
          "output_type": "stream",
          "name": "stdout",
          "text": [
            " linto \n",
            "linto\n"
          ]
        }
      ]
    },
    {
      "cell_type": "code",
      "source": [
        "# 2. len() - returns the length of a string\n",
        "str = 'linto'\n",
        "print('Length of string:',len(str))"
      ],
      "metadata": {
        "colab": {
          "base_uri": "https://localhost:8080/"
        },
        "id": "wnFqkqhAFWgZ",
        "outputId": "55ff7805-804c-4814-e4ee-0650cb3e679a"
      },
      "execution_count": null,
      "outputs": [
        {
          "output_type": "stream",
          "name": "stdout",
          "text": [
            "Length of string: 5\n"
          ]
        }
      ]
    },
    {
      "cell_type": "code",
      "source": [
        "# 3.lower() - returns the string in lower case\n",
        "str = 'LINTO'\n",
        "print(str.lower())\n",
        "\n",
        "# 4. islower() - check whether string is in lower case or not\n",
        "print(str.islower())"
      ],
      "metadata": {
        "colab": {
          "base_uri": "https://localhost:8080/"
        },
        "id": "wIJo-DxSFX7B",
        "outputId": "e6568f1d-0bcb-4246-9ef3-80ca0fa2ee53"
      },
      "execution_count": null,
      "outputs": [
        {
          "output_type": "stream",
          "name": "stdout",
          "text": [
            "linto\n",
            "False\n"
          ]
        }
      ]
    },
    {
      "cell_type": "code",
      "source": [
        "# 5.upper() - returns the string in upper case\n",
        "str = 'linto'\n",
        "print(str.upper())\n",
        "\n",
        "# 6. isupper() - check whether string is in lower case or not\n",
        "print(str.islower())"
      ],
      "metadata": {
        "colab": {
          "base_uri": "https://localhost:8080/"
        },
        "id": "n1KOVYZhFZjf",
        "outputId": "4a36dfad-043b-49dc-ccdb-0064c2261f6a"
      },
      "execution_count": null,
      "outputs": [
        {
          "output_type": "stream",
          "name": "stdout",
          "text": [
            "LINTO\n",
            "True\n"
          ]
        }
      ]
    },
    {
      "cell_type": "code",
      "source": [
        "# 7.isalpha() - checks if all characters are alphabets\n",
        "print('56'.isalpha())\n",
        "print('5kf'.isalpha())\n",
        "print('kf'.isalpha())"
      ],
      "metadata": {
        "colab": {
          "base_uri": "https://localhost:8080/"
        },
        "id": "SHK45ziDFcJf",
        "outputId": "1a8f264a-9c1a-43fe-f1c8-fcf01a5131df"
      },
      "execution_count": null,
      "outputs": [
        {
          "output_type": "stream",
          "name": "stdout",
          "text": [
            "False\n",
            "False\n",
            "True\n"
          ]
        }
      ]
    },
    {
      "cell_type": "code",
      "source": [
        " # 8.isdigit() - check whether string is digit numbers\n",
        "print('56'.isdigit())\n",
        "print('5kf'.isdigit())\n",
        "print('kf'.isdigit())"
      ],
      "metadata": {
        "colab": {
          "base_uri": "https://localhost:8080/"
        },
        "id": "7d24Wj0cFeB4",
        "outputId": "505bea5f-d1d4-478c-886e-6a7bb2f54e22"
      },
      "execution_count": null,
      "outputs": [
        {
          "output_type": "stream",
          "name": "stdout",
          "text": [
            "True\n",
            "False\n",
            "False\n"
          ]
        }
      ]
    },
    {
      "cell_type": "code",
      "source": [
        " # 9.isalnum() - check whether string is alpha numaric character\n",
        "print('56'.isalnum())\n",
        "print('5kf'.isalnum())\n",
        "print('kf'.isalnum())"
      ],
      "metadata": {
        "colab": {
          "base_uri": "https://localhost:8080/"
        },
        "id": "dS6Eq0GrFfi6",
        "outputId": "1dd30cbe-4129-428c-dbee-d818ebcd8a8e"
      },
      "execution_count": null,
      "outputs": [
        {
          "output_type": "stream",
          "name": "stdout",
          "text": [
            "True\n",
            "True\n",
            "True\n"
          ]
        }
      ]
    },
    {
      "cell_type": "code",
      "source": [
        "# 10.count() - returns the number of occurance of a substring in the given string\n",
        "str = 'python is easy to learn. This is simple'\n",
        "print(\"count of 'is' in str:\",str.count('is'))\n",
        "print(\"count of ' is ' in str:\",str.count(' is '))"
      ],
      "metadata": {
        "colab": {
          "base_uri": "https://localhost:8080/"
        },
        "id": "vNOl-RwlFk2l",
        "outputId": "943f9ad7-073a-4a2f-9037-3f2e67a62bf8"
      },
      "execution_count": null,
      "outputs": [
        {
          "output_type": "stream",
          "name": "stdout",
          "text": [
            "count of 'is' in str: 3\n",
            "count of ' is ' in str: 2\n"
          ]
        }
      ]
    },
    {
      "cell_type": "code",
      "source": [
        "# 11.join() - return a string concatenated with the elements of an iterable\n",
        "str1 = '-'\n",
        "str2 = '12345'\n",
        "print('str1.join(str2):',str1.join(str2))"
      ],
      "metadata": {
        "colab": {
          "base_uri": "https://localhost:8080/"
        },
        "id": "GXBjZ-6fFlu8",
        "outputId": "de79f04e-3a0e-4a89-890a-81537c05d80f"
      },
      "execution_count": null,
      "outputs": [
        {
          "output_type": "stream",
          "name": "stdout",
          "text": [
            "str1.join(str2): 1-2-3-4-5\n"
          ]
        }
      ]
    },
    {
      "cell_type": "code",
      "source": [
        "# 12.split() - breaks up a string at the specified separator and returns a list of strings\n",
        "str = 'python is easy'\n",
        "print(str.split())"
      ],
      "metadata": {
        "colab": {
          "base_uri": "https://localhost:8080/"
        },
        "id": "dooPPaSdFnT6",
        "outputId": "46cd1248-8d3c-4fae-d876-f35642e69568"
      },
      "execution_count": null,
      "outputs": [
        {
          "output_type": "stream",
          "name": "stdout",
          "text": [
            "['python', 'is', 'easy']\n"
          ]
        }
      ]
    },
    {
      "cell_type": "code",
      "source": [
        "# 13.find() - returns the index of first occurence of the substring (if found), if not found return -1\n",
        "str = 'python is easy'\n",
        "print(str.find('py'))\n",
        "print(str.find('linto'))"
      ],
      "metadata": {
        "colab": {
          "base_uri": "https://localhost:8080/"
        },
        "id": "Ebktg5jMFpL-",
        "outputId": "af814da1-dc17-4c3a-abf1-6ce954cf212f"
      },
      "execution_count": null,
      "outputs": [
        {
          "output_type": "stream",
          "name": "stdout",
          "text": [
            "0\n",
            "-1\n"
          ]
        }
      ]
    },
    {
      "cell_type": "code",
      "source": [
        "# 14.replace() - returns a copy of string where all occurences of a substring is replaced with another substring\n",
        "fruit = 'Appla'\n",
        "print(fruit.replace('a','e'))\n",
        "\n",
        "color = 'red, yellow, orange, white'\n",
        "print(color.replace('red','N/A'))"
      ],
      "metadata": {
        "colab": {
          "base_uri": "https://localhost:8080/"
        },
        "id": "CW-RQvsmFq0Z",
        "outputId": "9caae5f7-a26d-4c4e-ba65-0bf7d74d0d6c"
      },
      "execution_count": null,
      "outputs": [
        {
          "output_type": "stream",
          "name": "stdout",
          "text": [
            "Apple\n",
            "N/A, yellow, orange, white\n"
          ]
        }
      ]
    },
    {
      "cell_type": "code",
      "source": [
        "# 15.sorted() - returns a sorted list from the given iterable\n",
        "str = 'wmshydnsm'\n",
        "print(sorted(str))"
      ],
      "metadata": {
        "colab": {
          "base_uri": "https://localhost:8080/"
        },
        "id": "Ld7iPyy-FsaZ",
        "outputId": "77c9675e-e7aa-41bc-8b4a-2596559528d9"
      },
      "execution_count": null,
      "outputs": [
        {
          "output_type": "stream",
          "name": "stdout",
          "text": [
            "['d', 'h', 'm', 'm', 'n', 's', 's', 'w', 'y']\n"
          ]
        }
      ]
    },
    {
      "cell_type": "code",
      "source": [
        "# 16. startswith() - returns True if a string starts with the specified prefix\n",
        "str = 'Linto'\n",
        "print(str.startswith('L'))\n",
        "print(str.startswith('k'))"
      ],
      "metadata": {
        "colab": {
          "base_uri": "https://localhost:8080/"
        },
        "id": "_klus7IzFuVt",
        "outputId": "a585be6a-f352-432e-c098-8069d83c1ef4"
      },
      "execution_count": null,
      "outputs": [
        {
          "output_type": "stream",
          "name": "stdout",
          "text": [
            "True\n",
            "False\n"
          ]
        }
      ]
    },
    {
      "cell_type": "code",
      "source": [
        "# 17. endswith() - returns True if a string ends with the specified suffix\n",
        "str = 'Linto'\n",
        "print(str.endswith('L'))\n",
        "print(str.endswith('k'))"
      ],
      "metadata": {
        "colab": {
          "base_uri": "https://localhost:8080/"
        },
        "id": "T_eY41aEFwaO",
        "outputId": "43dbebe7-a9b7-4b1d-cc42-40a1b1d5d0d4"
      },
      "execution_count": null,
      "outputs": [
        {
          "output_type": "stream",
          "name": "stdout",
          "text": [
            "False\n",
            "False\n"
          ]
        }
      ]
    },
    {
      "cell_type": "markdown",
      "source": [
        "## **List**"
      ],
      "metadata": {
        "id": "3rYzK8GSF4dc"
      }
    },
    {
      "cell_type": "markdown",
      "source": [
        "*   A list is a collection which is ordered and changeble\n",
        "*   Lists are mutable, which means they can be changed\n",
        "*   Lists are enclosed in []\n",
        "*   Each item in a list is separated by a comma. Eg: list1 = [1, 3, 4, 6]\n",
        "*   Lists are collection of items (strings, integers or even other lists)\n",
        "*   Each item in the list has an assigned index value"
      ],
      "metadata": {
        "id": "767IolG8F-Q8"
      }
    },
    {
      "cell_type": "code",
      "source": [
        "# create a list\n",
        "list1 = [1,2,3,4,5,6,7]\n",
        "print(list1)"
      ],
      "metadata": {
        "colab": {
          "base_uri": "https://localhost:8080/"
        },
        "id": "vgIlqXWyFx5c",
        "outputId": "aec0b1fd-b1f7-4a3f-fcb5-e976e45dee67"
      },
      "execution_count": null,
      "outputs": [
        {
          "output_type": "stream",
          "name": "stdout",
          "text": [
            "[1, 2, 3, 4, 5, 6, 7]\n"
          ]
        }
      ]
    },
    {
      "cell_type": "code",
      "source": [
        "# list of lists\n",
        "list2 = [['a','v'],[4,6]]\n",
        "print(list2)"
      ],
      "metadata": {
        "colab": {
          "base_uri": "https://localhost:8080/"
        },
        "id": "_bzse79yGM5Z",
        "outputId": "0a160e11-b862-4cc1-d7cb-f9603ca895a9"
      },
      "execution_count": null,
      "outputs": [
        {
          "output_type": "stream",
          "name": "stdout",
          "text": [
            "[['a', 'v'], [4, 6]]\n"
          ]
        }
      ]
    },
    {
      "cell_type": "markdown",
      "source": [
        "### **List indexing and slicing**\n",
        "*   Indexing - Access individual elements\n",
        "*   Slicing - Access range of characters"
      ],
      "metadata": {
        "id": "M3WnTO_mGQGI"
      }
    },
    {
      "cell_type": "markdown",
      "source": [
        "### **Updating list**"
      ],
      "metadata": {
        "id": "O4JXBF3PGiaL"
      }
    },
    {
      "cell_type": "code",
      "source": [
        "list = [4,4,2,1]\n",
        "print('List before updating:',list)\n",
        "list[1] = 0\n",
        "print('List after updating:',list)"
      ],
      "metadata": {
        "colab": {
          "base_uri": "https://localhost:8080/"
        },
        "id": "vLTOanaUGPQ_",
        "outputId": "31f0ea31-aed9-469b-d34f-2066b3c078f0"
      },
      "execution_count": null,
      "outputs": [
        {
          "output_type": "stream",
          "name": "stdout",
          "text": [
            "List before updating: [4, 4, 2, 1]\n",
            "List after updating: [4, 0, 2, 1]\n"
          ]
        }
      ]
    },
    {
      "cell_type": "markdown",
      "source": [
        "### **Delete list items**"
      ],
      "metadata": {
        "id": "AXRiIqTJGn5b"
      }
    },
    {
      "cell_type": "code",
      "source": [
        "list1 = [4,4,2,9,1]\n",
        "\n",
        "# del - based on index position or delete a particular item\n",
        "del list1[1]\n",
        "print(list1)\n",
        "\n",
        "# delete full list\n",
        "del list1"
      ],
      "metadata": {
        "colab": {
          "base_uri": "https://localhost:8080/"
        },
        "id": "qMVIjfY5GnMF",
        "outputId": "bebf0029-b00e-46a6-93fb-622dd4f84234"
      },
      "execution_count": null,
      "outputs": [
        {
          "output_type": "stream",
          "name": "stdout",
          "text": [
            "[4, 2, 9, 1]\n"
          ]
        }
      ]
    },
    {
      "cell_type": "markdown",
      "source": [
        "### **Traversing List using Loop**"
      ],
      "metadata": {
        "id": "2cYIuHyeGw7y"
      }
    },
    {
      "cell_type": "code",
      "source": [
        "num = range(4)\n",
        "\n",
        "for i in num:\n",
        "    print(i)"
      ],
      "metadata": {
        "colab": {
          "base_uri": "https://localhost:8080/"
        },
        "id": "kJTw6ZgPGsSe",
        "outputId": "e48f83ad-3e76-4fc6-c728-029bece3921a"
      },
      "execution_count": null,
      "outputs": [
        {
          "output_type": "stream",
          "name": "stdout",
          "text": [
            "0\n",
            "1\n",
            "2\n",
            "3\n"
          ]
        }
      ]
    },
    {
      "cell_type": "markdown",
      "source": [
        "### **List methods**"
      ],
      "metadata": {
        "id": "KZfVR-u9G139"
      }
    },
    {
      "cell_type": "code",
      "source": [
        "# 1.Concatenation\n",
        "list1 = ['linto','sunny']\n",
        "list2 = [1,2]\n",
        "final_list = list1 + list2\n",
        "print(final_list)"
      ],
      "metadata": {
        "colab": {
          "base_uri": "https://localhost:8080/"
        },
        "id": "PQQR6BpQGzzz",
        "outputId": "34ca82af-588b-4e06-d08a-1eb8a98c7e98"
      },
      "execution_count": null,
      "outputs": [
        {
          "output_type": "stream",
          "name": "stdout",
          "text": [
            "['linto', 'sunny', 1, 2]\n"
          ]
        }
      ]
    },
    {
      "cell_type": "code",
      "source": [
        "# 2.Length - no of elements in list\n",
        "list1 = ['linto','sunny']\n",
        "print('Length of list:',len(list1))"
      ],
      "metadata": {
        "colab": {
          "base_uri": "https://localhost:8080/"
        },
        "id": "RTfnIAVpG6E3",
        "outputId": "1c74a8d2-6a5c-4671-88f0-f90e74a53e6d"
      },
      "execution_count": null,
      "outputs": [
        {
          "output_type": "stream",
          "name": "stdout",
          "text": [
            "Length of list: 2\n"
          ]
        }
      ]
    },
    {
      "cell_type": "code",
      "source": [
        "# 3. Repetition - n copies of list concatenated\n",
        "list1 = ['python']\n",
        "print(list1 * 3)"
      ],
      "metadata": {
        "colab": {
          "base_uri": "https://localhost:8080/"
        },
        "id": "FBHYWOG4G7vm",
        "outputId": "17a5c1a0-1627-48e2-998b-567e5d5face6"
      },
      "execution_count": null,
      "outputs": [
        {
          "output_type": "stream",
          "name": "stdout",
          "text": [
            "['python', 'python', 'python']\n"
          ]
        }
      ]
    },
    {
      "cell_type": "code",
      "source": [
        "# 4.Membership\n",
        "list1 = ['linto','sunny']\n",
        "print('linto' in list1)\n",
        "print('linto' not in list1)"
      ],
      "metadata": {
        "colab": {
          "base_uri": "https://localhost:8080/"
        },
        "id": "Ows_AQwbG9La",
        "outputId": "7c6d33d4-441d-4745-cf79-ccba998ca4a8"
      },
      "execution_count": null,
      "outputs": [
        {
          "output_type": "stream",
          "name": "stdout",
          "text": [
            "True\n",
            "False\n"
          ]
        }
      ]
    },
    {
      "cell_type": "code",
      "source": [
        "# 5.Smallest number in the list\n",
        "list1 = [1,2,3,4,5]\n",
        "print('The smallest number in the list:',min(list1))"
      ],
      "metadata": {
        "colab": {
          "base_uri": "https://localhost:8080/"
        },
        "id": "4AQYlDe3G-hW",
        "outputId": "f8ad6884-5926-422b-e354-ea9e0196c5db"
      },
      "execution_count": null,
      "outputs": [
        {
          "output_type": "stream",
          "name": "stdout",
          "text": [
            "The smallest number in the list: 1\n"
          ]
        }
      ]
    },
    {
      "cell_type": "code",
      "source": [
        "# 6.largest number in the list\n",
        "list1 = [1,2,3,4,5]\n",
        "print('The largest number in the list:',max(list1))"
      ],
      "metadata": {
        "colab": {
          "base_uri": "https://localhost:8080/"
        },
        "id": "kw3-7qZlHAgC",
        "outputId": "06ca4567-d81b-40c9-d052-93086d9bfe24"
      },
      "execution_count": null,
      "outputs": [
        {
          "output_type": "stream",
          "name": "stdout",
          "text": [
            "The largest number in the list: 5\n"
          ]
        }
      ]
    },
    {
      "cell_type": "code",
      "source": [
        "# 7.Sum of all the numbers in the list\n",
        "list1 = [1,2,3,4,5]\n",
        "print('The sum of all the numbers in the list:',sum(list1))"
      ],
      "metadata": {
        "colab": {
          "base_uri": "https://localhost:8080/"
        },
        "id": "YhtXusi4HCEM",
        "outputId": "c2f82815-f92d-410b-9948-c816ba2547c6"
      },
      "execution_count": null,
      "outputs": [
        {
          "output_type": "stream",
          "name": "stdout",
          "text": [
            "The sum of all the numbers in the list: 15\n"
          ]
        }
      ]
    },
    {
      "cell_type": "code",
      "source": [
        "# 8.Append - It adds an element x to the end of the list and returns None. Takes exactly one argument, append(x)\n",
        "\n",
        "# append an element\n",
        "list1 = [1,2,3,4,5]\n",
        "list1.append(6)\n",
        "print(list1)\n",
        "\n",
        "# append a list\n",
        "list2 = [10,20]\n",
        "list1.append(list2)\n",
        "print(list1)"
      ],
      "metadata": {
        "colab": {
          "base_uri": "https://localhost:8080/"
        },
        "id": "JwF4m3VLHDwr",
        "outputId": "30cbdfc4-d93c-4eba-eb79-11b881f4d2ac"
      },
      "execution_count": null,
      "outputs": [
        {
          "output_type": "stream",
          "name": "stdout",
          "text": [
            "[1, 2, 3, 4, 5, 6]\n",
            "[1, 2, 3, 4, 5, 6, [10, 20]]\n"
          ]
        }
      ]
    },
    {
      "cell_type": "code",
      "source": [
        "# 9.Extend - Appends all the elements from one list to the another list and returns None.\n",
        "list1 = [1,2,3,4,5]\n",
        "list2 = [10,20]\n",
        "\n",
        "list1.extend(list2)\n",
        "print(list1)"
      ],
      "metadata": {
        "colab": {
          "base_uri": "https://localhost:8080/"
        },
        "id": "GP23F_5FHFsv",
        "outputId": "35eb5fd0-f29d-4aec-8122-196716f5e841"
      },
      "execution_count": null,
      "outputs": [
        {
          "output_type": "stream",
          "name": "stdout",
          "text": [
            "[1, 2, 3, 4, 5, 10, 20]\n"
          ]
        }
      ]
    },
    {
      "cell_type": "code",
      "source": [
        "# 10.Insert - Inserts an element x at a given index\n",
        "list1 = [1,2,3,4,5]\n",
        "list1.insert(0,999)\n",
        "print(list1)"
      ],
      "metadata": {
        "colab": {
          "base_uri": "https://localhost:8080/"
        },
        "id": "DZn1NMrYHHQS",
        "outputId": "5e3460b0-af89-47dc-eadc-60b40f8ba69d"
      },
      "execution_count": null,
      "outputs": [
        {
          "output_type": "stream",
          "name": "stdout",
          "text": [
            "[999, 1, 2, 3, 4, 5]\n"
          ]
        }
      ]
    },
    {
      "cell_type": "code",
      "source": [
        "# 11.Remove - Removes the first occurrence of element x from the list and return none\n",
        "list1 = ['linto','sunny','linto']\n",
        "list1.remove('linto')\n",
        "print(list1)"
      ],
      "metadata": {
        "colab": {
          "base_uri": "https://localhost:8080/"
        },
        "id": "Vp0UmNKNHIjf",
        "outputId": "f3d6fff1-bc91-4e14-96f4-b72e405955a1"
      },
      "execution_count": null,
      "outputs": [
        {
          "output_type": "stream",
          "name": "stdout",
          "text": [
            "['sunny', 'linto']\n"
          ]
        }
      ]
    },
    {
      "cell_type": "code",
      "source": [
        "# 12.Pop - removes the element at the given position and returns it\n",
        "list1 = ['linto','sunny','linto']\n",
        "a = list1.pop(1)\n",
        "print('Value removed:',a)\n",
        "print(list1)"
      ],
      "metadata": {
        "colab": {
          "base_uri": "https://localhost:8080/"
        },
        "id": "DDbNQp8hHKfi",
        "outputId": "c620fb91-5a57-458e-f233-2ddd404874a2"
      },
      "execution_count": null,
      "outputs": [
        {
          "output_type": "stream",
          "name": "stdout",
          "text": [
            "Value removed: sunny\n",
            "['linto', 'linto']\n"
          ]
        }
      ]
    },
    {
      "cell_type": "code",
      "source": [
        "# 13.Count - return the number of times x element appears in the list\n",
        "list1 = ['linto','sunny','linto']\n",
        "print('count of linto in list1:',list1.count('linto'))"
      ],
      "metadata": {
        "colab": {
          "base_uri": "https://localhost:8080/"
        },
        "id": "GZ5YbN8eHLzn",
        "outputId": "d63fcc09-a066-420c-dda9-fba2043814d5"
      },
      "execution_count": null,
      "outputs": [
        {
          "output_type": "stream",
          "name": "stdout",
          "text": [
            "count of linto in list1: 2\n"
          ]
        }
      ]
    },
    {
      "cell_type": "code",
      "source": [
        "# 14.Reverse\n",
        "list1 = [1,2,3,4,5]\n",
        "list1.reverse()\n",
        "print(list1)"
      ],
      "metadata": {
        "colab": {
          "base_uri": "https://localhost:8080/"
        },
        "id": "UBmqNT_zHN30",
        "outputId": "31483a32-870d-42bc-c7ad-9096b149fddd"
      },
      "execution_count": null,
      "outputs": [
        {
          "output_type": "stream",
          "name": "stdout",
          "text": [
            "[5, 4, 3, 2, 1]\n"
          ]
        }
      ]
    },
    {
      "cell_type": "code",
      "source": [
        "# 15.Sort - by default ascending order\n",
        "list1 = [2,5,3,8,5,0,3]\n",
        "list1.sort(reverse=True)\n",
        "print('Sorted List in DESC:',list1)"
      ],
      "metadata": {
        "colab": {
          "base_uri": "https://localhost:8080/"
        },
        "id": "6PzlaAi-HPKC",
        "outputId": "ca51357f-fd2c-451f-867c-4d9bf3d2439a"
      },
      "execution_count": null,
      "outputs": [
        {
          "output_type": "stream",
          "name": "stdout",
          "text": [
            "Sorted List in DESC: [8, 5, 5, 3, 3, 2, 0]\n"
          ]
        }
      ]
    },
    {
      "cell_type": "markdown",
      "source": [
        "### **List Comprehension**\n",
        "*   List comprehension is an elegant and concise way to create new list from an existing list in Python\n",
        "*   List comprehension consist of an expession followed by for statement inside square brackets"
      ],
      "metadata": {
        "id": "Gy3WVGNoHRxg"
      }
    },
    {
      "cell_type": "code",
      "source": [
        "# without list comprehension\n",
        "cube = []\n",
        "for i in range(10):\n",
        "    cube.append(i ** 3)\n",
        "print(cube)"
      ],
      "metadata": {
        "colab": {
          "base_uri": "https://localhost:8080/"
        },
        "id": "yqXeL6wNHRFC",
        "outputId": "66321a22-b216-4aaa-9f40-2567f6ff3325"
      },
      "execution_count": null,
      "outputs": [
        {
          "output_type": "stream",
          "name": "stdout",
          "text": [
            "[0, 1, 8, 27, 64, 125, 216, 343, 512, 729]\n"
          ]
        }
      ]
    },
    {
      "cell_type": "code",
      "source": [
        "# using list comprehension\n",
        "cube = [i**3 for i in range(10)]\n",
        "print(cube)"
      ],
      "metadata": {
        "colab": {
          "base_uri": "https://localhost:8080/"
        },
        "id": "TEJLnGJIHdHb",
        "outputId": "03e9f74d-34e2-4302-bc4d-85a12ed5e9d0"
      },
      "execution_count": null,
      "outputs": [
        {
          "output_type": "stream",
          "name": "stdout",
          "text": [
            "[0, 1, 8, 27, 64, 125, 216, 343, 512, 729]\n"
          ]
        }
      ]
    },
    {
      "cell_type": "code",
      "source": [
        "# print the even numbers\n",
        "even_num = [x for x in range(20) if x % 2 == 0]\n",
        "print('The even numbers in the list are:',even_num)\n",
        "\n",
        "# print the odd numbers\n",
        "odd_num = [x for x in range(20) if x % 2 != 0]\n",
        "print('The odd numbers in the list are:',odd_num)"
      ],
      "metadata": {
        "colab": {
          "base_uri": "https://localhost:8080/"
        },
        "id": "aasXti8KHfWU",
        "outputId": "cd8a7af9-cc87-4ab9-bb69-f399d4dc26eb"
      },
      "execution_count": null,
      "outputs": [
        {
          "output_type": "stream",
          "name": "stdout",
          "text": [
            "The even numbers in the list are: [0, 2, 4, 6, 8, 10, 12, 14, 16, 18]\n",
            "The odd numbers in the list are: [1, 3, 5, 7, 9, 11, 13, 15, 17, 19]\n"
          ]
        }
      ]
    },
    {
      "cell_type": "markdown",
      "source": [
        "## **Tuple**"
      ],
      "metadata": {
        "id": "99TxyfCNHi2M"
      }
    },
    {
      "cell_type": "markdown",
      "source": [
        "*   A tuple is a collection which is ordered and unchangable\n",
        "*   Tuples are very similar to list, but once a tuple is created, you cannot add, delete, replace, reorder elements. ie, immutable\n",
        "*   Tuples are enclosed parantheses () Each item in a Tuples is separated by a comma. Eg: tuple1 = (1,2,3,4)\n",
        "*   Tuples are collection of items (strings, integers or even other lists)\n",
        "*   Each item in the Tuples has an assigned index value"
      ],
      "metadata": {
        "id": "UYKXTdeBHl5B"
      }
    },
    {
      "cell_type": "markdown",
      "source": [
        "### **Create Tuple**"
      ],
      "metadata": {
        "id": "7l0MCNK6It-c"
      }
    },
    {
      "cell_type": "code",
      "source": [
        "# Creating tuple\n",
        "tuple1 = (1,2,3,4)\n",
        "print(tuple1)\n",
        "\n",
        "# Nested tuples\n",
        "tuple2 = ((2,4),('a','b'))\n",
        "print(tuple2)"
      ],
      "metadata": {
        "colab": {
          "base_uri": "https://localhost:8080/"
        },
        "id": "wZ7wqE35HhCp",
        "outputId": "78b0bdd3-ca3a-4c49-e12a-5ce14a5be628"
      },
      "execution_count": null,
      "outputs": [
        {
          "output_type": "stream",
          "name": "stdout",
          "text": [
            "(1, 2, 3, 4)\n",
            "((2, 4), ('a', 'b'))\n"
          ]
        }
      ]
    },
    {
      "cell_type": "code",
      "source": [
        "# Note\n",
        "# paranthesis without comma at the end\n",
        "name = ('Python')\n",
        "print(type(name))\n",
        "\n",
        "# paranthesis with comma at the end\n",
        "name2 = ('Python',)\n",
        "print(type(name2))"
      ],
      "metadata": {
        "colab": {
          "base_uri": "https://localhost:8080/"
        },
        "id": "09LZUd0JHwDS",
        "outputId": "bffa8c06-8305-46bd-c402-d64483d69b5b"
      },
      "execution_count": null,
      "outputs": [
        {
          "output_type": "stream",
          "name": "stdout",
          "text": [
            "<class 'str'>\n",
            "<class 'tuple'>\n"
          ]
        }
      ]
    },
    {
      "cell_type": "markdown",
      "source": [
        "### **Delete Tuple**\n",
        "*   Removing individual tuple elements is not possible\n",
        "*   To explicitly remove an entire tuple, just use the del statement"
      ],
      "metadata": {
        "id": "ZHHzr8IVH51l"
      }
    },
    {
      "cell_type": "code",
      "source": [
        "tuple1 = (1,2,3)\n",
        "del tuple1"
      ],
      "metadata": {
        "id": "iQkGUDG0HyLo"
      },
      "execution_count": null,
      "outputs": []
    },
    {
      "cell_type": "markdown",
      "source": [
        "### **Tuple Methods**\n",
        "Look into methods of lists, all of the methods are same replace list with tuple"
      ],
      "metadata": {
        "id": "jFGBuswhIJfX"
      }
    },
    {
      "cell_type": "code",
      "source": [
        "# 1.Index - searches for the given element in a tuple and returns the position. However, if the same element is present more than onec, the first/smallest posiion is returned\n",
        "num = (1,2,3,3)\n",
        "print('The index of 3:',num.index(3))"
      ],
      "metadata": {
        "colab": {
          "base_uri": "https://localhost:8080/"
        },
        "id": "Pt0ahJZOIA8u",
        "outputId": "cc300385-fdbc-42e4-f910-3adbeb184223"
      },
      "execution_count": null,
      "outputs": [
        {
          "output_type": "stream",
          "name": "stdout",
          "text": [
            "The index of 3: 2\n"
          ]
        }
      ]
    },
    {
      "cell_type": "code",
      "source": [
        "# 2.Sorted - list has sort() which performs the same way as sorted() in tuples\n",
        "tuple1 = (4,2,8,4,0,2)\n",
        "print('Sorted tuple:',sorted(tuple1, reverse=True))"
      ],
      "metadata": {
        "colab": {
          "base_uri": "https://localhost:8080/"
        },
        "id": "A5i_YZXOIOxh",
        "outputId": "0c21b6e7-fd66-4376-98bf-530a7a51069d"
      },
      "execution_count": null,
      "outputs": [
        {
          "output_type": "stream",
          "name": "stdout",
          "text": [
            "Sorted tuple: [8, 4, 4, 2, 2, 0]\n"
          ]
        }
      ]
    },
    {
      "cell_type": "markdown",
      "source": [
        "### **Create tuple using tuple()**"
      ],
      "metadata": {
        "id": "TKtT-TcCIRRY"
      }
    },
    {
      "cell_type": "code",
      "source": [
        "# creating tuple from list\n",
        "tuple1 = tuple([1,2,3])\n",
        "print('List to Tuple conversion:',tuple1)\n",
        "\n",
        "# creating a tuple from a string\n",
        "tuple2 = tuple(('Python'))\n",
        "print('String to Tuple conversion:', tuple2)\n",
        "\n",
        "# creating a tuple from a dictionary\n",
        "tuple3 = tuple({1:'linto', 2:'sunny'})\n",
        "print('Dictionary to Tuple Conversion:', tuple3)"
      ],
      "metadata": {
        "colab": {
          "base_uri": "https://localhost:8080/"
        },
        "id": "I9JkTjVJIQYU",
        "outputId": "9b1e929e-df13-4e0a-b737-4298e488305c"
      },
      "execution_count": null,
      "outputs": [
        {
          "output_type": "stream",
          "name": "stdout",
          "text": [
            "List to Tuple conversion: (1, 2, 3)\n",
            "String to Tuple conversion: ('P', 'y', 't', 'h', 'o', 'n')\n",
            "Dictionary to Tuple Conversion: (1, 2)\n"
          ]
        }
      ]
    },
    {
      "cell_type": "markdown",
      "source": [
        "### **Advantages of Tuple over List**\n",
        "*   If you have data that doesn't change, implementing it as tuple will guarantee that it remains write-protected\n",
        "*   Since tuple are immutable, iterating through tuple is faster than with list. So there is a slight performace boost\n",
        "*   Tuples that contain immutable elements can be used as key for a dictionary. With list, this is not possible"
      ],
      "metadata": {
        "id": "UfvYVdqfIYTO"
      }
    },
    {
      "cell_type": "markdown",
      "source": [
        "## **Dictionary**\n",
        "*   Dictionary is a python data type that is used to store 'key-value' pairs. Eg: employee1 = {'name':'linto','address':'kerala','company':'paragon'}\n",
        "*   It enables to quickly retrive, add, remove, modify, values using a key\n",
        "*   Dictionary is very similar to what we call associative array or hash on other languages\n",
        "*   Dictionaries are mutable\n",
        "*   No index value concept in dictionary"
      ],
      "metadata": {
        "id": "ZDZ5BlT2If_x"
      }
    },
    {
      "cell_type": "markdown",
      "source": [
        "### **Create Dictionary**\n",
        "*   Dictionaries are represented by enclosed curly braces {}\n",
        "*   Each key will have its value which is separated by a colon (:)\n",
        "*   Each items are separated by commas ,\n",
        "*   No duplicate keys are allowed"
      ],
      "metadata": {
        "id": "KEjiAEWXIozj"
      }
    },
    {
      "cell_type": "code",
      "source": [
        "# empty dictionary\n",
        "my_dict = {}\n",
        "print('dictionary with empty values:',my_dict)\n",
        "\n",
        "#dictionary with integer keys\n",
        "color = {1:'red',2:'yellow'}\n",
        "print('dictionary with integer keys:',color)\n",
        "\n",
        "# dictionary with mixed keys\n",
        "my_dict2 = {'name':'vinoth',1:['red','green']}\n",
        "print('dictionary with mixed keys:',my_dict2)"
      ],
      "metadata": {
        "colab": {
          "base_uri": "https://localhost:8080/"
        },
        "id": "XMeGGTwZIV0G",
        "outputId": "5b390cd4-44b0-47ad-a134-9aa14c2ab324"
      },
      "execution_count": null,
      "outputs": [
        {
          "output_type": "stream",
          "name": "stdout",
          "text": [
            "dictionary with empty values: {}\n",
            "dictionary with integer keys: {1: 'red', 2: 'yellow'}\n",
            "dictionary with mixed keys: {'name': 'vinoth', 1: ['red', 'green']}\n"
          ]
        }
      ]
    },
    {
      "cell_type": "markdown",
      "source": [
        "### **Access elements from a dictionary**\n",
        "To access dictionary elements, you can use the enclosed square brackets along with the key to obtain its value"
      ],
      "metadata": {
        "id": "l69pkGfdJAyt"
      }
    },
    {
      "cell_type": "code",
      "source": [
        "# access key which is available in he dictionary\n",
        "mydetails = {'name':'linto','age':25,'address':'kerala'}\n",
        "print(mydetails['name'])"
      ],
      "metadata": {
        "colab": {
          "base_uri": "https://localhost:8080/"
        },
        "id": "sAAYJNmSI9yY",
        "outputId": "44c2bf66-5e53-42b4-b666-05ca7bc2fe7a"
      },
      "execution_count": null,
      "outputs": [
        {
          "output_type": "stream",
          "name": "stdout",
          "text": [
            "linto\n"
          ]
        }
      ]
    },
    {
      "cell_type": "code",
      "source": [
        "# access the element using get method\n",
        "mydetails = {'name':'linto','age':25,'address':'kerala'}\n",
        "print(mydetails.get('name'))"
      ],
      "metadata": {
        "colab": {
          "base_uri": "https://localhost:8080/"
        },
        "id": "GWUOP6HsJE_Q",
        "outputId": "bb790196-e6d3-4bc6-b414-82ce85a80a10"
      },
      "execution_count": null,
      "outputs": [
        {
          "output_type": "stream",
          "name": "stdout",
          "text": [
            "linto\n"
          ]
        }
      ]
    },
    {
      "cell_type": "markdown",
      "source": [
        "### **Add elements(key) in a dictionary**"
      ],
      "metadata": {
        "id": "KDvFbdrcJH0w"
      }
    },
    {
      "cell_type": "code",
      "source": [
        "# if key is present, value gets updated, else a new key is added\n",
        "mydetails = {'name':'linto','age':25,'address':'kerala'}\n",
        "\n",
        "#add phone number\n",
        "mydetails['phone_number'] = '123456789'\n",
        "print(mydetails)"
      ],
      "metadata": {
        "colab": {
          "base_uri": "https://localhost:8080/"
        },
        "id": "TUzU6WiDJG8L",
        "outputId": "8f99a0f5-23c2-4db6-857e-72ed20e89869"
      },
      "execution_count": null,
      "outputs": [
        {
          "output_type": "stream",
          "name": "stdout",
          "text": [
            "{'name': 'linto', 'age': 25, 'address': 'kerala', 'phone_number': '123456789'}\n"
          ]
        }
      ]
    },
    {
      "cell_type": "code",
      "source": [
        "# Update/change the existing element(value) in a dictionary\n",
        "mydetails = {'name':'linto','age':25,'address':'kerala'}\n",
        "mydetails['age'] = 31\n",
        "print(mydetails)"
      ],
      "metadata": {
        "colab": {
          "base_uri": "https://localhost:8080/"
        },
        "id": "ovWN6S8BJM1v",
        "outputId": "23b0839b-3422-4fe3-9f0d-e59001606749"
      },
      "execution_count": null,
      "outputs": [
        {
          "output_type": "stream",
          "name": "stdout",
          "text": [
            "{'name': 'linto', 'age': 31, 'address': 'kerala'}\n"
          ]
        }
      ]
    },
    {
      "cell_type": "markdown",
      "source": [
        "### **Delete an element in a dictionary**"
      ],
      "metadata": {
        "id": "V0zHo8kqJQ-W"
      }
    },
    {
      "cell_type": "code",
      "source": [
        "# 1.Pop() Method - Remove the item from dictionary, if the key is not found keyerror will be thrown. It will also returns the removed value\n",
        "mydetails = {'name':'linto','age':25,'address':'kerala'}\n",
        "print(mydetails.pop('age'))\n",
        "print(mydetails)"
      ],
      "metadata": {
        "colab": {
          "base_uri": "https://localhost:8080/"
        },
        "id": "A7LfoYByJOi7",
        "outputId": "fa267a4e-d004-4ef9-b5dc-1d256e9c4ff9"
      },
      "execution_count": null,
      "outputs": [
        {
          "output_type": "stream",
          "name": "stdout",
          "text": [
            "25\n",
            "{'name': 'linto', 'address': 'kerala'}\n"
          ]
        }
      ]
    },
    {
      "cell_type": "code",
      "source": [
        "# 2.popitem() Method - to remove and return an arbitary item (key, value)\n",
        "mydetails = {'name':'linto','age':25,'address':'kerala'}\n",
        "mydetails.popitem()\n",
        "print(mydetails)"
      ],
      "metadata": {
        "colab": {
          "base_uri": "https://localhost:8080/"
        },
        "id": "PIyk9ydYJU17",
        "outputId": "2a9c21b1-b7ad-4410-ded0-4b04404bc4cb"
      },
      "execution_count": null,
      "outputs": [
        {
          "output_type": "stream",
          "name": "stdout",
          "text": [
            "{'name': 'linto', 'age': 25}\n"
          ]
        }
      ]
    },
    {
      "cell_type": "code",
      "source": [
        "# 3.del Keyword - remove individual item or the entire dictionary itself\n",
        "mydetails = {'name':'linto','age':25,'address':'kerala'}\n",
        "del mydetails['age']\n",
        "print(mydetails)"
      ],
      "metadata": {
        "colab": {
          "base_uri": "https://localhost:8080/"
        },
        "id": "C_0Iz2bjJWvV",
        "outputId": "c694a46a-e6ec-48f8-ff24-eacc4120c39f"
      },
      "execution_count": null,
      "outputs": [
        {
          "output_type": "stream",
          "name": "stdout",
          "text": [
            "{'name': 'linto', 'address': 'kerala'}\n"
          ]
        }
      ]
    },
    {
      "cell_type": "code",
      "source": [
        "# 4.Clear Method - all items can be removed at once, without deleting the dictionary\n",
        "mydetails = {'name':'linto','age':25,'address':'kerala'}\n",
        "mydetails.clear()\n",
        "print(mydetails)"
      ],
      "metadata": {
        "colab": {
          "base_uri": "https://localhost:8080/"
        },
        "id": "StyeEd56JYRm",
        "outputId": "03ec8641-48e6-4375-df70-ce521f5e6212"
      },
      "execution_count": null,
      "outputs": [
        {
          "output_type": "stream",
          "name": "stdout",
          "text": [
            "{}\n"
          ]
        }
      ]
    },
    {
      "cell_type": "markdown",
      "source": [
        "### **Looping items in the dictionary**"
      ],
      "metadata": {
        "id": "ek4X4jiFJawh"
      }
    },
    {
      "cell_type": "code",
      "source": [
        "mydetails = {'name':'linto','age':25,'address':'kerala'}\n",
        "\n",
        "for i in mydetails:\n",
        "    print(i, mydetails[i])"
      ],
      "metadata": {
        "colab": {
          "base_uri": "https://localhost:8080/"
        },
        "id": "2nNoN9XlJaDO",
        "outputId": "bce6d607-8019-4457-da06-0abeb56a1421"
      },
      "execution_count": null,
      "outputs": [
        {
          "output_type": "stream",
          "name": "stdout",
          "text": [
            "name linto\n",
            "age 25\n",
            "address kerala\n"
          ]
        }
      ]
    },
    {
      "cell_type": "markdown",
      "source": [
        "### **Dictionary Methods**"
      ],
      "metadata": {
        "id": "PgBU4ZGFJi5A"
      }
    },
    {
      "cell_type": "code",
      "source": [
        "# 1.Length - number of elements in dictionary\n",
        "mydetails = {'name':'linto','age':25,'address':'kerala'}\n",
        "print('Length of dictionary:',len(mydetails))"
      ],
      "metadata": {
        "colab": {
          "base_uri": "https://localhost:8080/"
        },
        "id": "DKxbr-yEJhtN",
        "outputId": "2aafbcfd-33f9-464f-99f1-9d13129c8745"
      },
      "execution_count": null,
      "outputs": [
        {
          "output_type": "stream",
          "name": "stdout",
          "text": [
            "Length of dictionary: 3\n"
          ]
        }
      ]
    },
    {
      "cell_type": "code",
      "source": [
        "# 2.Membership - in and not in operator\n",
        "mydetails = {'name':'linto','age':25,'address':'kerala'}\n",
        "print('name' in mydetails)\n",
        "print('email' not in mydetails)"
      ],
      "metadata": {
        "colab": {
          "base_uri": "https://localhost:8080/"
        },
        "id": "TzFnQldeJn16",
        "outputId": "4d3ded34-9b8d-49b7-831e-241599b7a47c"
      },
      "execution_count": null,
      "outputs": [
        {
          "output_type": "stream",
          "name": "stdout",
          "text": [
            "True\n",
            "True\n"
          ]
        }
      ]
    },
    {
      "cell_type": "code",
      "source": [
        "# 3.Sorted() - always take key as referance purpose\n",
        "mydetails = {'name':'linto','age':25,'address':'kerala'}\n",
        "print('Sorted dictionary:',sorted(mydetails))"
      ],
      "metadata": {
        "colab": {
          "base_uri": "https://localhost:8080/"
        },
        "id": "vgQkI423JpQK",
        "outputId": "58c4ff84-659f-4a0e-ef28-505d0fe5753d"
      },
      "execution_count": null,
      "outputs": [
        {
          "output_type": "stream",
          "name": "stdout",
          "text": [
            "Sorted dictionary: ['address', 'age', 'name']\n"
          ]
        }
      ]
    },
    {
      "cell_type": "code",
      "source": [
        "# 4.keys() - return keys in the dictionary as tuples\n",
        "mydetails = {'name':'linto','age':25,'address':'kerala'}\n",
        "print('All the keys available in mydetails:',mydetails.keys())"
      ],
      "metadata": {
        "colab": {
          "base_uri": "https://localhost:8080/"
        },
        "id": "-O2BkbIdJrGg",
        "outputId": "fec6ddc2-b040-49d7-d4d3-e75a4d90613b"
      },
      "execution_count": null,
      "outputs": [
        {
          "output_type": "stream",
          "name": "stdout",
          "text": [
            "All the keys available in mydetails: dict_keys(['name', 'age', 'address'])\n"
          ]
        }
      ]
    },
    {
      "cell_type": "code",
      "source": [
        "# 5.values() - return values in the dictionary as tuples\n",
        "mydetails = {'name':'linto','age':25,'address':'kerala'}\n",
        "print('All the values available in mydetails:',mydetails.values())"
      ],
      "metadata": {
        "colab": {
          "base_uri": "https://localhost:8080/"
        },
        "id": "ALR76rfZJsfQ",
        "outputId": "295ac22a-120a-44f7-f8d6-7ff7bbdc4301"
      },
      "execution_count": null,
      "outputs": [
        {
          "output_type": "stream",
          "name": "stdout",
          "text": [
            "All the values available in mydetails: dict_values(['linto', 25, 'kerala'])\n"
          ]
        }
      ]
    },
    {
      "cell_type": "code",
      "source": [
        "# 6. items() - return both key & values in the dictionary as tuples\n",
        "mydetails = {'name':'linto','age':25,'address':'kerala'}\n",
        "print('All the items available in mydetails:',mydetails.items())"
      ],
      "metadata": {
        "colab": {
          "base_uri": "https://localhost:8080/"
        },
        "id": "aOlQMUFWJvgz",
        "outputId": "de998020-e34e-4d91-ce7f-fa30150a1b7f"
      },
      "execution_count": null,
      "outputs": [
        {
          "output_type": "stream",
          "name": "stdout",
          "text": [
            "All the items available in mydetails: dict_items([('name', 'linto'), ('age', 25), ('address', 'kerala')])\n"
          ]
        }
      ]
    },
    {
      "cell_type": "code",
      "source": [
        "# 7.copy() - return a shallow copy of the dictionary. It doesn't modify the original dictionary\n",
        "mydetails = {'name':'linto','age':25,'address':'kerala'}\n",
        "mydetails_copy = mydetails.copy()\n",
        "print('Original:',mydetails)\n",
        "print('Copy:',mydetails_copy)"
      ],
      "metadata": {
        "colab": {
          "base_uri": "https://localhost:8080/"
        },
        "id": "oWvUthXJJxIX",
        "outputId": "591d3441-5e3a-4c58-fd09-30602977e032"
      },
      "execution_count": null,
      "outputs": [
        {
          "output_type": "stream",
          "name": "stdout",
          "text": [
            "Original: {'name': 'linto', 'age': 25, 'address': 'kerala'}\n",
            "Copy: {'name': 'linto', 'age': 25, 'address': 'kerala'}\n"
          ]
        }
      ]
    },
    {
      "cell_type": "code",
      "source": [
        "# 8.update() - insert the specified items to the dictionary at the end , if the value is not present. if the value is already existing, it will be updated with the new value\n",
        "\n",
        "# insert\n",
        "mydetails = {'name':'linto','age':25,'address':'kerala'}\n",
        "mydetails.update({'company':'none'})\n",
        "print(mydetails)\n",
        "\n",
        "# update\n",
        "mydetails = {'name':'linto','age':25,'address':'kerala'}\n",
        "mydetails.update({'company':'par'})\n",
        "print(mydetails)\n",
        "\n",
        "# update multiple key and values\n",
        "mydetails = {'name':'linto','age':25,'address':'kerala'}\n",
        "mydetails.update(company='xyz',exp=1)\n",
        "print(mydetails)"
      ],
      "metadata": {
        "colab": {
          "base_uri": "https://localhost:8080/"
        },
        "id": "wnNieWLJJyti",
        "outputId": "0e07eca2-c90b-4033-b3b8-c5db4c9a7665"
      },
      "execution_count": null,
      "outputs": [
        {
          "output_type": "stream",
          "name": "stdout",
          "text": [
            "{'name': 'linto', 'age': 25, 'address': 'kerala', 'company': 'none'}\n",
            "{'name': 'linto', 'age': 25, 'address': 'kerala', 'company': 'par'}\n",
            "{'name': 'linto', 'age': 25, 'address': 'kerala', 'company': 'xyz', 'exp': 1}\n"
          ]
        }
      ]
    },
    {
      "cell_type": "code",
      "source": [
        "# 9.fromkeys() - creates a new dictionary from the given sequence of elements with a value proviced by user\n",
        "mykeys = {'a','e','o','i','u'}\n",
        "value = 'vowels'\n",
        "dict.fromkeys(mykeys,value)"
      ],
      "metadata": {
        "colab": {
          "base_uri": "https://localhost:8080/"
        },
        "id": "zUbHy8xaJ1Tg",
        "outputId": "e4c296b8-1faf-4691-cd59-32a36d8ac01d"
      },
      "execution_count": null,
      "outputs": [
        {
          "output_type": "execute_result",
          "data": {
            "text/plain": [
              "{'e': 'vowels', 'a': 'vowels', 'o': 'vowels', 'u': 'vowels', 'i': 'vowels'}"
            ]
          },
          "metadata": {},
          "execution_count": 84
        }
      ]
    },
    {
      "cell_type": "code",
      "source": [
        "# 10.setdefault() - returns the value of a key (if the key is in dictionary). If not, it inserts key with value to the dictionary\n",
        "\n",
        "# if key is not in the dictionary\n",
        "employee = {'name':'Linto'}\n",
        "employee.setdefault('salary')\n",
        "print(employee)\n",
        "\n",
        "# if key is not in the dictionary and defalult value is provided\n",
        "employee = {'name':'Linto'}\n",
        "employee.setdefault('company','Google')\n",
        "print(employee)"
      ],
      "metadata": {
        "colab": {
          "base_uri": "https://localhost:8080/"
        },
        "id": "ku1ZoACLJ3EI",
        "outputId": "afcda48c-43bf-40e6-ec8d-3310aef5ddbf"
      },
      "execution_count": null,
      "outputs": [
        {
          "output_type": "stream",
          "name": "stdout",
          "text": [
            "{'name': 'Linto', 'salary': None}\n",
            "{'name': 'Linto', 'company': 'Google'}\n"
          ]
        }
      ]
    },
    {
      "cell_type": "code",
      "source": [
        "# 11.dir() - get list of all available methods and attributes of dictionary\n",
        "mydict = {}\n",
        "print(dir(mydict))"
      ],
      "metadata": {
        "colab": {
          "base_uri": "https://localhost:8080/"
        },
        "id": "N3ywiwkgJ4oO",
        "outputId": "33d0d62d-486e-4324-fef6-c1f03caf07ea"
      },
      "execution_count": null,
      "outputs": [
        {
          "output_type": "stream",
          "name": "stdout",
          "text": [
            "['__class__', '__class_getitem__', '__contains__', '__delattr__', '__delitem__', '__dir__', '__doc__', '__eq__', '__format__', '__ge__', '__getattribute__', '__getitem__', '__gt__', '__hash__', '__init__', '__init_subclass__', '__ior__', '__iter__', '__le__', '__len__', '__lt__', '__ne__', '__new__', '__or__', '__reduce__', '__reduce_ex__', '__repr__', '__reversed__', '__ror__', '__setattr__', '__setitem__', '__sizeof__', '__str__', '__subclasshook__', 'clear', 'copy', 'fromkeys', 'get', 'items', 'keys', 'pop', 'popitem', 'setdefault', 'update', 'values']\n"
          ]
        }
      ]
    },
    {
      "cell_type": "markdown",
      "source": [
        "### **Dictionary Comprehension**\n",
        "*   Dictionary comprehension is an elegant and concise way to create new dictionary from an iterable in Python\n",
        "*   It consist of an expression pair (key:value) followed by for statement inside curly braces {}"
      ],
      "metadata": {
        "id": "-4pgtdFnJ6p5"
      }
    },
    {
      "cell_type": "code",
      "source": [
        "# using dictionary comprehension\n",
        "{x: x**3 for x in range(10)}"
      ],
      "metadata": {
        "colab": {
          "base_uri": "https://localhost:8080/"
        },
        "id": "u7sXMLA_KDgC",
        "outputId": "74f2b8bb-ca60-4bee-c7a5-a944e9cac171"
      },
      "execution_count": null,
      "outputs": [
        {
          "output_type": "execute_result",
          "data": {
            "text/plain": [
              "{0: 0, 1: 1, 2: 8, 3: 27, 4: 64, 5: 125, 6: 216, 7: 343, 8: 512, 9: 729}"
            ]
          },
          "metadata": {},
          "execution_count": 87
        }
      ]
    },
    {
      "cell_type": "code",
      "source": [
        "fruits = ['apple', 'mango', 'banana']\n",
        "{key: len(key) for key in fruits}"
      ],
      "metadata": {
        "colab": {
          "base_uri": "https://localhost:8080/"
        },
        "id": "NSvKbjonKFSf",
        "outputId": "a715aec9-aa7e-4d04-cfad-a5d3e87410b2"
      },
      "execution_count": null,
      "outputs": [
        {
          "output_type": "execute_result",
          "data": {
            "text/plain": [
              "{'apple': 5, 'mango': 5, 'banana': 6}"
            ]
          },
          "metadata": {},
          "execution_count": 88
        }
      ]
    },
    {
      "cell_type": "markdown",
      "source": [
        "## **Set**\n",
        "*    Sets are unordered, meaning the elements do not have a specific order. As a result, you cannot access elements by index.\n",
        "*   Do not support indexing. You cannot access elements using an index.\n",
        "*   Sets only contain unique elements. If you try to add a duplicate element, it won't be added, and the set remains unchanged.\n",
        "*   Sets are mutable, meaning you can add and remove elements after the set has been created."
      ],
      "metadata": {
        "id": "OXo1k6UnKcfi"
      }
    },
    {
      "cell_type": "markdown",
      "source": [
        "### **Create set**"
      ],
      "metadata": {
        "id": "E9gesbh7K7Eb"
      }
    },
    {
      "cell_type": "code",
      "source": [
        "# Sets are created using curly braces {} or the set() constructor.\n",
        "\n",
        "my_set = {1, 2, 3, 4, 5}"
      ],
      "metadata": {
        "id": "YF4GJDdrKG86"
      },
      "execution_count": null,
      "outputs": []
    },
    {
      "cell_type": "markdown",
      "source": [
        "### **Access elements from set**"
      ],
      "metadata": {
        "id": "YR69Nq-RLDHQ"
      }
    },
    {
      "cell_type": "code",
      "source": [
        "# Sets are unordered, so there is no index to access elements directly.\n",
        "# You can check for membership using the in keyword.\n",
        "\n",
        "print(3 in my_set)"
      ],
      "metadata": {
        "colab": {
          "base_uri": "https://localhost:8080/"
        },
        "id": "yXEodo-7LCCk",
        "outputId": "53649b85-02e6-4653-ddf8-6394ca3e0ce8"
      },
      "execution_count": null,
      "outputs": [
        {
          "output_type": "stream",
          "name": "stdout",
          "text": [
            "True\n"
          ]
        }
      ]
    },
    {
      "cell_type": "markdown",
      "source": [
        "### **Add elements to set**"
      ],
      "metadata": {
        "id": "IBNxI31ZLR5f"
      }
    },
    {
      "cell_type": "code",
      "source": [
        "# Use the add() method to add a single element.\n",
        "my_set.add(6)\n",
        "print(my_set)\n",
        "\n",
        "# Use the update() method to add multiple elements.\n",
        "my_set.update({7, 8, 9})\n",
        "print(my_set)"
      ],
      "metadata": {
        "colab": {
          "base_uri": "https://localhost:8080/"
        },
        "id": "hhaeRov4LQvy",
        "outputId": "0807a17b-35d1-4c1c-927f-c6fdd936be70"
      },
      "execution_count": null,
      "outputs": [
        {
          "output_type": "stream",
          "name": "stdout",
          "text": [
            "{1, 2, 3, 4, 5, 6}\n",
            "{1, 2, 3, 4, 5, 6, 7, 8, 9}\n"
          ]
        }
      ]
    },
    {
      "cell_type": "markdown",
      "source": [
        "### **Delete an item from set**"
      ],
      "metadata": {
        "id": "qu9sPczeLnFB"
      }
    },
    {
      "cell_type": "code",
      "source": [
        "# Use the remove() or discard() method to delete a specific element.\n",
        "my_set.remove(5)\n",
        "print(my_set)\n",
        "\n",
        "my_set.discard(7)\n",
        "print(my_set)\n",
        "\n",
        "# Use the pop() method to remove and return an arbitrary element.\n",
        "popped_element = my_set.pop()\n",
        "print(popped_element, my_set)"
      ],
      "metadata": {
        "colab": {
          "base_uri": "https://localhost:8080/"
        },
        "id": "uTMf1TZFLihU",
        "outputId": "27270663-1a75-481d-8024-f2315e00d611"
      },
      "execution_count": null,
      "outputs": [
        {
          "output_type": "stream",
          "name": "stdout",
          "text": [
            "{1, 2, 3, 4, 6, 7, 8, 9}\n",
            "{1, 2, 3, 4, 6, 8, 9}\n",
            "1 {2, 3, 4, 6, 8, 9}\n"
          ]
        }
      ]
    },
    {
      "cell_type": "markdown",
      "source": [
        "### **Looping through set**"
      ],
      "metadata": {
        "id": "S6jhomuiL2eY"
      }
    },
    {
      "cell_type": "code",
      "source": [
        "for item in my_set:\n",
        "    print(item)"
      ],
      "metadata": {
        "colab": {
          "base_uri": "https://localhost:8080/"
        },
        "id": "vtA4_JoxL10A",
        "outputId": "aac605ee-560c-495d-8bc9-f241a2789040"
      },
      "execution_count": null,
      "outputs": [
        {
          "output_type": "stream",
          "name": "stdout",
          "text": [
            "2\n",
            "3\n",
            "4\n",
            "6\n",
            "8\n",
            "9\n"
          ]
        }
      ]
    },
    {
      "cell_type": "markdown",
      "source": [
        "### **Set methods**\n",
        "*   union(): Returns the union of two sets.\n",
        "*   intersection(): Returns the intersection of two sets.\n",
        "*   difference(): Returns the difference between two sets.\n",
        "*   symmetric_difference(): Returns the symmetric difference between two sets."
      ],
      "metadata": {
        "id": "DOS3qIuGL_Je"
      }
    },
    {
      "cell_type": "code",
      "source": [
        "set1 = {1, 2, 3}\n",
        "set2 = {3, 4, 5}\n",
        "\n",
        "union_set = set1.union(set2)\n",
        "intersection_set = set1.intersection(set2)\n",
        "difference_set = set1.difference(set2)\n",
        "symmetric_difference_set = set1.symmetric_difference(set2)\n",
        "\n",
        "print(union_set, intersection_set, difference_set, symmetric_difference_set)"
      ],
      "metadata": {
        "colab": {
          "base_uri": "https://localhost:8080/"
        },
        "id": "qJvtqJ4CL8dw",
        "outputId": "f25845a3-1eaf-4b6e-f014-eb05b0f4c754"
      },
      "execution_count": null,
      "outputs": [
        {
          "output_type": "stream",
          "name": "stdout",
          "text": [
            "{1, 2, 3, 4, 5} {3} {1, 2} {1, 2, 4, 5}\n"
          ]
        }
      ]
    },
    {
      "cell_type": "markdown",
      "source": [
        "### **Set comprehension**\n"
      ],
      "metadata": {
        "id": "agEC3I1RMP6g"
      }
    },
    {
      "cell_type": "code",
      "source": [
        "squares = {x**2 for x in range(5)}\n",
        "print(squares)"
      ],
      "metadata": {
        "colab": {
          "base_uri": "https://localhost:8080/"
        },
        "id": "bLN3kS_pMNtq",
        "outputId": "7407f979-a03c-4ffb-b7c5-9f0ba72c6dd3"
      },
      "execution_count": null,
      "outputs": [
        {
          "output_type": "stream",
          "name": "stdout",
          "text": [
            "{0, 1, 4, 9, 16}\n"
          ]
        }
      ]
    }
  ]
}